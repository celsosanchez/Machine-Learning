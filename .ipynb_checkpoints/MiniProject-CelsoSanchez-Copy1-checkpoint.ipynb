{
 "cells": [
  {
   "cell_type": "markdown",
   "id": "internal-aerospace",
   "metadata": {},
   "source": [
    "<h3>1. Load the data set.</h3>"
   ]
  },
  {
   "cell_type": "code",
   "execution_count": 3,
   "id": "improved-bishop",
   "metadata": {},
   "outputs": [
    {
     "name": "stdout",
     "output_type": "stream",
     "text": [
      "<class 'pandas.core.frame.DataFrame'>\n",
      "RangeIndex: 395 entries, 0 to 394\n",
      "Data columns (total 33 columns):\n",
      " #   Column      Non-Null Count  Dtype \n",
      "---  ------      --------------  ----- \n",
      " 0   school      395 non-null    object\n",
      " 1   sex         395 non-null    object\n",
      " 2   age         395 non-null    int64 \n",
      " 3   address     395 non-null    object\n",
      " 4   famsize     395 non-null    object\n",
      " 5   Pstatus     395 non-null    object\n",
      " 6   Medu        395 non-null    int64 \n",
      " 7   Fedu        395 non-null    int64 \n",
      " 8   Mjob        395 non-null    object\n",
      " 9   Fjob        395 non-null    object\n",
      " 10  reason      395 non-null    object\n",
      " 11  guardian    395 non-null    object\n",
      " 12  traveltime  395 non-null    int64 \n",
      " 13  studytime   395 non-null    int64 \n",
      " 14  failures    395 non-null    int64 \n",
      " 15  schoolsup   395 non-null    object\n",
      " 16  famsup      395 non-null    object\n",
      " 17  paid        395 non-null    object\n",
      " 18  activities  395 non-null    object\n",
      " 19  nursery     395 non-null    object\n",
      " 20  higher      395 non-null    object\n",
      " 21  internet    395 non-null    object\n",
      " 22  romantic    395 non-null    object\n",
      " 23  famrel      395 non-null    int64 \n",
      " 24  freetime    395 non-null    int64 \n",
      " 25  goout       395 non-null    int64 \n",
      " 26  Dalc        395 non-null    int64 \n",
      " 27  Walc        395 non-null    int64 \n",
      " 28  health      395 non-null    int64 \n",
      " 29  absences    395 non-null    int64 \n",
      " 30  G1          395 non-null    int64 \n",
      " 31  G2          395 non-null    int64 \n",
      " 32  G3          395 non-null    int64 \n",
      "dtypes: int64(16), object(17)\n",
      "memory usage: 102.0+ KB\n"
     ]
    }
   ],
   "source": [
    "import pandas as pd\n",
    "import numpy as np\n",
    "\n",
    "df = pd.read_csv('student-mat.csv', sep=';')\n",
    "df.info()"
   ]
  },
  {
   "cell_type": "code",
   "execution_count": 4,
   "id": "suffering-river",
   "metadata": {},
   "outputs": [
    {
     "data": {
      "text/html": [
       "<div>\n",
       "<style scoped>\n",
       "    .dataframe tbody tr th:only-of-type {\n",
       "        vertical-align: middle;\n",
       "    }\n",
       "\n",
       "    .dataframe tbody tr th {\n",
       "        vertical-align: top;\n",
       "    }\n",
       "\n",
       "    .dataframe thead th {\n",
       "        text-align: right;\n",
       "    }\n",
       "</style>\n",
       "<table border=\"1\" class=\"dataframe\">\n",
       "  <thead>\n",
       "    <tr style=\"text-align: right;\">\n",
       "      <th></th>\n",
       "      <th>school</th>\n",
       "      <th>sex</th>\n",
       "      <th>age</th>\n",
       "      <th>address</th>\n",
       "      <th>famsize</th>\n",
       "      <th>Pstatus</th>\n",
       "      <th>Medu</th>\n",
       "      <th>Fedu</th>\n",
       "      <th>Mjob</th>\n",
       "      <th>Fjob</th>\n",
       "      <th>...</th>\n",
       "      <th>famrel</th>\n",
       "      <th>freetime</th>\n",
       "      <th>goout</th>\n",
       "      <th>Dalc</th>\n",
       "      <th>Walc</th>\n",
       "      <th>health</th>\n",
       "      <th>absences</th>\n",
       "      <th>G1</th>\n",
       "      <th>G2</th>\n",
       "      <th>G3</th>\n",
       "    </tr>\n",
       "  </thead>\n",
       "  <tbody>\n",
       "    <tr>\n",
       "      <th>0</th>\n",
       "      <td>GP</td>\n",
       "      <td>F</td>\n",
       "      <td>18</td>\n",
       "      <td>U</td>\n",
       "      <td>GT3</td>\n",
       "      <td>A</td>\n",
       "      <td>4</td>\n",
       "      <td>4</td>\n",
       "      <td>at_home</td>\n",
       "      <td>teacher</td>\n",
       "      <td>...</td>\n",
       "      <td>4</td>\n",
       "      <td>3</td>\n",
       "      <td>4</td>\n",
       "      <td>1</td>\n",
       "      <td>1</td>\n",
       "      <td>3</td>\n",
       "      <td>6</td>\n",
       "      <td>5</td>\n",
       "      <td>6</td>\n",
       "      <td>6</td>\n",
       "    </tr>\n",
       "    <tr>\n",
       "      <th>1</th>\n",
       "      <td>GP</td>\n",
       "      <td>F</td>\n",
       "      <td>17</td>\n",
       "      <td>U</td>\n",
       "      <td>GT3</td>\n",
       "      <td>T</td>\n",
       "      <td>1</td>\n",
       "      <td>1</td>\n",
       "      <td>at_home</td>\n",
       "      <td>other</td>\n",
       "      <td>...</td>\n",
       "      <td>5</td>\n",
       "      <td>3</td>\n",
       "      <td>3</td>\n",
       "      <td>1</td>\n",
       "      <td>1</td>\n",
       "      <td>3</td>\n",
       "      <td>4</td>\n",
       "      <td>5</td>\n",
       "      <td>5</td>\n",
       "      <td>6</td>\n",
       "    </tr>\n",
       "    <tr>\n",
       "      <th>2</th>\n",
       "      <td>GP</td>\n",
       "      <td>F</td>\n",
       "      <td>15</td>\n",
       "      <td>U</td>\n",
       "      <td>LE3</td>\n",
       "      <td>T</td>\n",
       "      <td>1</td>\n",
       "      <td>1</td>\n",
       "      <td>at_home</td>\n",
       "      <td>other</td>\n",
       "      <td>...</td>\n",
       "      <td>4</td>\n",
       "      <td>3</td>\n",
       "      <td>2</td>\n",
       "      <td>2</td>\n",
       "      <td>3</td>\n",
       "      <td>3</td>\n",
       "      <td>10</td>\n",
       "      <td>7</td>\n",
       "      <td>8</td>\n",
       "      <td>10</td>\n",
       "    </tr>\n",
       "  </tbody>\n",
       "</table>\n",
       "<p>3 rows × 33 columns</p>\n",
       "</div>"
      ],
      "text/plain": [
       "  school sex  age address famsize Pstatus  Medu  Fedu     Mjob     Fjob  ...  \\\n",
       "0     GP   F   18       U     GT3       A     4     4  at_home  teacher  ...   \n",
       "1     GP   F   17       U     GT3       T     1     1  at_home    other  ...   \n",
       "2     GP   F   15       U     LE3       T     1     1  at_home    other  ...   \n",
       "\n",
       "  famrel freetime  goout  Dalc  Walc health absences G1 G2  G3  \n",
       "0      4        3      4     1     1      3        6  5  6   6  \n",
       "1      5        3      3     1     1      3        4  5  5   6  \n",
       "2      4        3      2     2     3      3       10  7  8  10  \n",
       "\n",
       "[3 rows x 33 columns]"
      ]
     },
     "execution_count": 4,
     "metadata": {},
     "output_type": "execute_result"
    }
   ],
   "source": [
    "df.head(3)"
   ]
  },
  {
   "cell_type": "markdown",
   "id": "alternate-donor",
   "metadata": {},
   "source": [
    "<h3>2. Add a binary categorical variable called \"finalResult\", with level \"pass\" if the variable G3 is greater or equal to 10 and \"fail\" otherwise.</h3>"
   ]
  },
  {
   "cell_type": "code",
   "execution_count": 5,
   "id": "distant-dance",
   "metadata": {},
   "outputs": [],
   "source": [
    "df['finalResult'] = df[\"G3\"].apply(lambda x: 'pass' if x> 9 else 'fail')"
   ]
  },
  {
   "cell_type": "code",
   "execution_count": 6,
   "id": "grand-guest",
   "metadata": {},
   "outputs": [
    {
     "data": {
      "text/html": [
       "<div>\n",
       "<style scoped>\n",
       "    .dataframe tbody tr th:only-of-type {\n",
       "        vertical-align: middle;\n",
       "    }\n",
       "\n",
       "    .dataframe tbody tr th {\n",
       "        vertical-align: top;\n",
       "    }\n",
       "\n",
       "    .dataframe thead th {\n",
       "        text-align: right;\n",
       "    }\n",
       "</style>\n",
       "<table border=\"1\" class=\"dataframe\">\n",
       "  <thead>\n",
       "    <tr style=\"text-align: right;\">\n",
       "      <th></th>\n",
       "      <th>school</th>\n",
       "      <th>sex</th>\n",
       "      <th>age</th>\n",
       "      <th>address</th>\n",
       "      <th>famsize</th>\n",
       "      <th>Pstatus</th>\n",
       "      <th>Medu</th>\n",
       "      <th>Fedu</th>\n",
       "      <th>Mjob</th>\n",
       "      <th>Fjob</th>\n",
       "      <th>...</th>\n",
       "      <th>freetime</th>\n",
       "      <th>goout</th>\n",
       "      <th>Dalc</th>\n",
       "      <th>Walc</th>\n",
       "      <th>health</th>\n",
       "      <th>absences</th>\n",
       "      <th>G1</th>\n",
       "      <th>G2</th>\n",
       "      <th>G3</th>\n",
       "      <th>finalResult</th>\n",
       "    </tr>\n",
       "  </thead>\n",
       "  <tbody>\n",
       "    <tr>\n",
       "      <th>0</th>\n",
       "      <td>GP</td>\n",
       "      <td>F</td>\n",
       "      <td>18</td>\n",
       "      <td>U</td>\n",
       "      <td>GT3</td>\n",
       "      <td>A</td>\n",
       "      <td>4</td>\n",
       "      <td>4</td>\n",
       "      <td>at_home</td>\n",
       "      <td>teacher</td>\n",
       "      <td>...</td>\n",
       "      <td>3</td>\n",
       "      <td>4</td>\n",
       "      <td>1</td>\n",
       "      <td>1</td>\n",
       "      <td>3</td>\n",
       "      <td>6</td>\n",
       "      <td>5</td>\n",
       "      <td>6</td>\n",
       "      <td>6</td>\n",
       "      <td>fail</td>\n",
       "    </tr>\n",
       "    <tr>\n",
       "      <th>1</th>\n",
       "      <td>GP</td>\n",
       "      <td>F</td>\n",
       "      <td>17</td>\n",
       "      <td>U</td>\n",
       "      <td>GT3</td>\n",
       "      <td>T</td>\n",
       "      <td>1</td>\n",
       "      <td>1</td>\n",
       "      <td>at_home</td>\n",
       "      <td>other</td>\n",
       "      <td>...</td>\n",
       "      <td>3</td>\n",
       "      <td>3</td>\n",
       "      <td>1</td>\n",
       "      <td>1</td>\n",
       "      <td>3</td>\n",
       "      <td>4</td>\n",
       "      <td>5</td>\n",
       "      <td>5</td>\n",
       "      <td>6</td>\n",
       "      <td>fail</td>\n",
       "    </tr>\n",
       "    <tr>\n",
       "      <th>2</th>\n",
       "      <td>GP</td>\n",
       "      <td>F</td>\n",
       "      <td>15</td>\n",
       "      <td>U</td>\n",
       "      <td>LE3</td>\n",
       "      <td>T</td>\n",
       "      <td>1</td>\n",
       "      <td>1</td>\n",
       "      <td>at_home</td>\n",
       "      <td>other</td>\n",
       "      <td>...</td>\n",
       "      <td>3</td>\n",
       "      <td>2</td>\n",
       "      <td>2</td>\n",
       "      <td>3</td>\n",
       "      <td>3</td>\n",
       "      <td>10</td>\n",
       "      <td>7</td>\n",
       "      <td>8</td>\n",
       "      <td>10</td>\n",
       "      <td>pass</td>\n",
       "    </tr>\n",
       "  </tbody>\n",
       "</table>\n",
       "<p>3 rows × 34 columns</p>\n",
       "</div>"
      ],
      "text/plain": [
       "  school sex  age address famsize Pstatus  Medu  Fedu     Mjob     Fjob  ...  \\\n",
       "0     GP   F   18       U     GT3       A     4     4  at_home  teacher  ...   \n",
       "1     GP   F   17       U     GT3       T     1     1  at_home    other  ...   \n",
       "2     GP   F   15       U     LE3       T     1     1  at_home    other  ...   \n",
       "\n",
       "  freetime goout  Dalc  Walc  health absences G1 G2  G3 finalResult  \n",
       "0        3     4     1     1       3        6  5  6   6        fail  \n",
       "1        3     3     1     1       3        4  5  5   6        fail  \n",
       "2        3     2     2     3       3       10  7  8  10        pass  \n",
       "\n",
       "[3 rows x 34 columns]"
      ]
     },
     "execution_count": 6,
     "metadata": {},
     "output_type": "execute_result"
    }
   ],
   "source": [
    "df.head(3)"
   ]
  },
  {
   "cell_type": "markdown",
   "id": "physical-magic",
   "metadata": {},
   "source": [
    "<h3>3. Add a categorical variable called \"academicGrade\", with five levels \"A\", \"B\", \"C\", \"D\", \"E\" depending on whether the variable G3 is between 16 and 20, 14 and 15, 12 and 13, 10 and 11, 0 and 9</h3>"
   ]
  },
  {
   "cell_type": "code",
   "execution_count": 7,
   "id": "fatal-dependence",
   "metadata": {},
   "outputs": [],
   "source": [
    "df['academicGrade'] = df[\"G3\"].apply(lambda x: 'A' if x>15 and x<21 else 'B' if x>13 and x<16 else 'C' if x>11 and x<14 else 'D' if x>9 and x<12 else 'E' )"
   ]
  },
  {
   "cell_type": "code",
   "execution_count": 8,
   "id": "extreme-medline",
   "metadata": {},
   "outputs": [
    {
     "data": {
      "text/html": [
       "<div>\n",
       "<style scoped>\n",
       "    .dataframe tbody tr th:only-of-type {\n",
       "        vertical-align: middle;\n",
       "    }\n",
       "\n",
       "    .dataframe tbody tr th {\n",
       "        vertical-align: top;\n",
       "    }\n",
       "\n",
       "    .dataframe thead th {\n",
       "        text-align: right;\n",
       "    }\n",
       "</style>\n",
       "<table border=\"1\" class=\"dataframe\">\n",
       "  <thead>\n",
       "    <tr style=\"text-align: right;\">\n",
       "      <th></th>\n",
       "      <th>school</th>\n",
       "      <th>sex</th>\n",
       "      <th>age</th>\n",
       "      <th>address</th>\n",
       "      <th>famsize</th>\n",
       "      <th>Pstatus</th>\n",
       "      <th>Medu</th>\n",
       "      <th>Fedu</th>\n",
       "      <th>Mjob</th>\n",
       "      <th>Fjob</th>\n",
       "      <th>...</th>\n",
       "      <th>goout</th>\n",
       "      <th>Dalc</th>\n",
       "      <th>Walc</th>\n",
       "      <th>health</th>\n",
       "      <th>absences</th>\n",
       "      <th>G1</th>\n",
       "      <th>G2</th>\n",
       "      <th>G3</th>\n",
       "      <th>finalResult</th>\n",
       "      <th>academicGrade</th>\n",
       "    </tr>\n",
       "  </thead>\n",
       "  <tbody>\n",
       "    <tr>\n",
       "      <th>0</th>\n",
       "      <td>GP</td>\n",
       "      <td>F</td>\n",
       "      <td>18</td>\n",
       "      <td>U</td>\n",
       "      <td>GT3</td>\n",
       "      <td>A</td>\n",
       "      <td>4</td>\n",
       "      <td>4</td>\n",
       "      <td>at_home</td>\n",
       "      <td>teacher</td>\n",
       "      <td>...</td>\n",
       "      <td>4</td>\n",
       "      <td>1</td>\n",
       "      <td>1</td>\n",
       "      <td>3</td>\n",
       "      <td>6</td>\n",
       "      <td>5</td>\n",
       "      <td>6</td>\n",
       "      <td>6</td>\n",
       "      <td>fail</td>\n",
       "      <td>E</td>\n",
       "    </tr>\n",
       "    <tr>\n",
       "      <th>1</th>\n",
       "      <td>GP</td>\n",
       "      <td>F</td>\n",
       "      <td>17</td>\n",
       "      <td>U</td>\n",
       "      <td>GT3</td>\n",
       "      <td>T</td>\n",
       "      <td>1</td>\n",
       "      <td>1</td>\n",
       "      <td>at_home</td>\n",
       "      <td>other</td>\n",
       "      <td>...</td>\n",
       "      <td>3</td>\n",
       "      <td>1</td>\n",
       "      <td>1</td>\n",
       "      <td>3</td>\n",
       "      <td>4</td>\n",
       "      <td>5</td>\n",
       "      <td>5</td>\n",
       "      <td>6</td>\n",
       "      <td>fail</td>\n",
       "      <td>E</td>\n",
       "    </tr>\n",
       "    <tr>\n",
       "      <th>2</th>\n",
       "      <td>GP</td>\n",
       "      <td>F</td>\n",
       "      <td>15</td>\n",
       "      <td>U</td>\n",
       "      <td>LE3</td>\n",
       "      <td>T</td>\n",
       "      <td>1</td>\n",
       "      <td>1</td>\n",
       "      <td>at_home</td>\n",
       "      <td>other</td>\n",
       "      <td>...</td>\n",
       "      <td>2</td>\n",
       "      <td>2</td>\n",
       "      <td>3</td>\n",
       "      <td>3</td>\n",
       "      <td>10</td>\n",
       "      <td>7</td>\n",
       "      <td>8</td>\n",
       "      <td>10</td>\n",
       "      <td>pass</td>\n",
       "      <td>D</td>\n",
       "    </tr>\n",
       "    <tr>\n",
       "      <th>3</th>\n",
       "      <td>GP</td>\n",
       "      <td>F</td>\n",
       "      <td>15</td>\n",
       "      <td>U</td>\n",
       "      <td>GT3</td>\n",
       "      <td>T</td>\n",
       "      <td>4</td>\n",
       "      <td>2</td>\n",
       "      <td>health</td>\n",
       "      <td>services</td>\n",
       "      <td>...</td>\n",
       "      <td>2</td>\n",
       "      <td>1</td>\n",
       "      <td>1</td>\n",
       "      <td>5</td>\n",
       "      <td>2</td>\n",
       "      <td>15</td>\n",
       "      <td>14</td>\n",
       "      <td>15</td>\n",
       "      <td>pass</td>\n",
       "      <td>B</td>\n",
       "    </tr>\n",
       "    <tr>\n",
       "      <th>4</th>\n",
       "      <td>GP</td>\n",
       "      <td>F</td>\n",
       "      <td>16</td>\n",
       "      <td>U</td>\n",
       "      <td>GT3</td>\n",
       "      <td>T</td>\n",
       "      <td>3</td>\n",
       "      <td>3</td>\n",
       "      <td>other</td>\n",
       "      <td>other</td>\n",
       "      <td>...</td>\n",
       "      <td>2</td>\n",
       "      <td>1</td>\n",
       "      <td>2</td>\n",
       "      <td>5</td>\n",
       "      <td>4</td>\n",
       "      <td>6</td>\n",
       "      <td>10</td>\n",
       "      <td>10</td>\n",
       "      <td>pass</td>\n",
       "      <td>D</td>\n",
       "    </tr>\n",
       "  </tbody>\n",
       "</table>\n",
       "<p>5 rows × 35 columns</p>\n",
       "</div>"
      ],
      "text/plain": [
       "  school sex  age address famsize Pstatus  Medu  Fedu     Mjob      Fjob  ...  \\\n",
       "0     GP   F   18       U     GT3       A     4     4  at_home   teacher  ...   \n",
       "1     GP   F   17       U     GT3       T     1     1  at_home     other  ...   \n",
       "2     GP   F   15       U     LE3       T     1     1  at_home     other  ...   \n",
       "3     GP   F   15       U     GT3       T     4     2   health  services  ...   \n",
       "4     GP   F   16       U     GT3       T     3     3    other     other  ...   \n",
       "\n",
       "  goout Dalc  Walc  health  absences  G1  G2  G3 finalResult academicGrade  \n",
       "0     4    1     1       3         6   5   6   6        fail             E  \n",
       "1     3    1     1       3         4   5   5   6        fail             E  \n",
       "2     2    2     3       3        10   7   8  10        pass             D  \n",
       "3     2    1     1       5         2  15  14  15        pass             B  \n",
       "4     2    1     2       5         4   6  10  10        pass             D  \n",
       "\n",
       "[5 rows x 35 columns]"
      ]
     },
     "execution_count": 8,
     "metadata": {},
     "output_type": "execute_result"
    }
   ],
   "source": [
    "df.head()"
   ]
  },
  {
   "cell_type": "markdown",
   "id": "ranking-fitness",
   "metadata": {},
   "source": [
    "<h3>4.1 Study individually the different variables (descriptives statistics and charts).</h3>"
   ]
  },
  {
   "cell_type": "code",
   "execution_count": 9,
   "id": "significant-doctor",
   "metadata": {},
   "outputs": [
    {
     "data": {
      "text/html": [
       "<div>\n",
       "<style scoped>\n",
       "    .dataframe tbody tr th:only-of-type {\n",
       "        vertical-align: middle;\n",
       "    }\n",
       "\n",
       "    .dataframe tbody tr th {\n",
       "        vertical-align: top;\n",
       "    }\n",
       "\n",
       "    .dataframe thead th {\n",
       "        text-align: right;\n",
       "    }\n",
       "</style>\n",
       "<table border=\"1\" class=\"dataframe\">\n",
       "  <thead>\n",
       "    <tr style=\"text-align: right;\">\n",
       "      <th></th>\n",
       "      <th>age</th>\n",
       "      <th>Medu</th>\n",
       "      <th>Fedu</th>\n",
       "      <th>traveltime</th>\n",
       "      <th>studytime</th>\n",
       "      <th>failures</th>\n",
       "      <th>famrel</th>\n",
       "      <th>freetime</th>\n",
       "      <th>goout</th>\n",
       "      <th>Dalc</th>\n",
       "      <th>Walc</th>\n",
       "      <th>health</th>\n",
       "      <th>absences</th>\n",
       "      <th>G1</th>\n",
       "      <th>G2</th>\n",
       "      <th>G3</th>\n",
       "    </tr>\n",
       "  </thead>\n",
       "  <tbody>\n",
       "    <tr>\n",
       "      <th>count</th>\n",
       "      <td>395.000000</td>\n",
       "      <td>395.000000</td>\n",
       "      <td>395.000000</td>\n",
       "      <td>395.000000</td>\n",
       "      <td>395.000000</td>\n",
       "      <td>395.000000</td>\n",
       "      <td>395.000000</td>\n",
       "      <td>395.000000</td>\n",
       "      <td>395.000000</td>\n",
       "      <td>395.000000</td>\n",
       "      <td>395.000000</td>\n",
       "      <td>395.000000</td>\n",
       "      <td>395.000000</td>\n",
       "      <td>395.000000</td>\n",
       "      <td>395.000000</td>\n",
       "      <td>395.000000</td>\n",
       "    </tr>\n",
       "    <tr>\n",
       "      <th>mean</th>\n",
       "      <td>16.696203</td>\n",
       "      <td>2.749367</td>\n",
       "      <td>2.521519</td>\n",
       "      <td>1.448101</td>\n",
       "      <td>2.035443</td>\n",
       "      <td>0.334177</td>\n",
       "      <td>3.944304</td>\n",
       "      <td>3.235443</td>\n",
       "      <td>3.108861</td>\n",
       "      <td>1.481013</td>\n",
       "      <td>2.291139</td>\n",
       "      <td>3.554430</td>\n",
       "      <td>5.708861</td>\n",
       "      <td>10.908861</td>\n",
       "      <td>10.713924</td>\n",
       "      <td>10.415190</td>\n",
       "    </tr>\n",
       "    <tr>\n",
       "      <th>std</th>\n",
       "      <td>1.276043</td>\n",
       "      <td>1.094735</td>\n",
       "      <td>1.088201</td>\n",
       "      <td>0.697505</td>\n",
       "      <td>0.839240</td>\n",
       "      <td>0.743651</td>\n",
       "      <td>0.896659</td>\n",
       "      <td>0.998862</td>\n",
       "      <td>1.113278</td>\n",
       "      <td>0.890741</td>\n",
       "      <td>1.287897</td>\n",
       "      <td>1.390303</td>\n",
       "      <td>8.003096</td>\n",
       "      <td>3.319195</td>\n",
       "      <td>3.761505</td>\n",
       "      <td>4.581443</td>\n",
       "    </tr>\n",
       "    <tr>\n",
       "      <th>min</th>\n",
       "      <td>15.000000</td>\n",
       "      <td>0.000000</td>\n",
       "      <td>0.000000</td>\n",
       "      <td>1.000000</td>\n",
       "      <td>1.000000</td>\n",
       "      <td>0.000000</td>\n",
       "      <td>1.000000</td>\n",
       "      <td>1.000000</td>\n",
       "      <td>1.000000</td>\n",
       "      <td>1.000000</td>\n",
       "      <td>1.000000</td>\n",
       "      <td>1.000000</td>\n",
       "      <td>0.000000</td>\n",
       "      <td>3.000000</td>\n",
       "      <td>0.000000</td>\n",
       "      <td>0.000000</td>\n",
       "    </tr>\n",
       "    <tr>\n",
       "      <th>25%</th>\n",
       "      <td>16.000000</td>\n",
       "      <td>2.000000</td>\n",
       "      <td>2.000000</td>\n",
       "      <td>1.000000</td>\n",
       "      <td>1.000000</td>\n",
       "      <td>0.000000</td>\n",
       "      <td>4.000000</td>\n",
       "      <td>3.000000</td>\n",
       "      <td>2.000000</td>\n",
       "      <td>1.000000</td>\n",
       "      <td>1.000000</td>\n",
       "      <td>3.000000</td>\n",
       "      <td>0.000000</td>\n",
       "      <td>8.000000</td>\n",
       "      <td>9.000000</td>\n",
       "      <td>8.000000</td>\n",
       "    </tr>\n",
       "    <tr>\n",
       "      <th>50%</th>\n",
       "      <td>17.000000</td>\n",
       "      <td>3.000000</td>\n",
       "      <td>2.000000</td>\n",
       "      <td>1.000000</td>\n",
       "      <td>2.000000</td>\n",
       "      <td>0.000000</td>\n",
       "      <td>4.000000</td>\n",
       "      <td>3.000000</td>\n",
       "      <td>3.000000</td>\n",
       "      <td>1.000000</td>\n",
       "      <td>2.000000</td>\n",
       "      <td>4.000000</td>\n",
       "      <td>4.000000</td>\n",
       "      <td>11.000000</td>\n",
       "      <td>11.000000</td>\n",
       "      <td>11.000000</td>\n",
       "    </tr>\n",
       "    <tr>\n",
       "      <th>75%</th>\n",
       "      <td>18.000000</td>\n",
       "      <td>4.000000</td>\n",
       "      <td>3.000000</td>\n",
       "      <td>2.000000</td>\n",
       "      <td>2.000000</td>\n",
       "      <td>0.000000</td>\n",
       "      <td>5.000000</td>\n",
       "      <td>4.000000</td>\n",
       "      <td>4.000000</td>\n",
       "      <td>2.000000</td>\n",
       "      <td>3.000000</td>\n",
       "      <td>5.000000</td>\n",
       "      <td>8.000000</td>\n",
       "      <td>13.000000</td>\n",
       "      <td>13.000000</td>\n",
       "      <td>14.000000</td>\n",
       "    </tr>\n",
       "    <tr>\n",
       "      <th>max</th>\n",
       "      <td>22.000000</td>\n",
       "      <td>4.000000</td>\n",
       "      <td>4.000000</td>\n",
       "      <td>4.000000</td>\n",
       "      <td>4.000000</td>\n",
       "      <td>3.000000</td>\n",
       "      <td>5.000000</td>\n",
       "      <td>5.000000</td>\n",
       "      <td>5.000000</td>\n",
       "      <td>5.000000</td>\n",
       "      <td>5.000000</td>\n",
       "      <td>5.000000</td>\n",
       "      <td>75.000000</td>\n",
       "      <td>19.000000</td>\n",
       "      <td>19.000000</td>\n",
       "      <td>20.000000</td>\n",
       "    </tr>\n",
       "  </tbody>\n",
       "</table>\n",
       "</div>"
      ],
      "text/plain": [
       "              age        Medu        Fedu  traveltime   studytime    failures  \\\n",
       "count  395.000000  395.000000  395.000000  395.000000  395.000000  395.000000   \n",
       "mean    16.696203    2.749367    2.521519    1.448101    2.035443    0.334177   \n",
       "std      1.276043    1.094735    1.088201    0.697505    0.839240    0.743651   \n",
       "min     15.000000    0.000000    0.000000    1.000000    1.000000    0.000000   \n",
       "25%     16.000000    2.000000    2.000000    1.000000    1.000000    0.000000   \n",
       "50%     17.000000    3.000000    2.000000    1.000000    2.000000    0.000000   \n",
       "75%     18.000000    4.000000    3.000000    2.000000    2.000000    0.000000   \n",
       "max     22.000000    4.000000    4.000000    4.000000    4.000000    3.000000   \n",
       "\n",
       "           famrel    freetime       goout        Dalc        Walc      health  \\\n",
       "count  395.000000  395.000000  395.000000  395.000000  395.000000  395.000000   \n",
       "mean     3.944304    3.235443    3.108861    1.481013    2.291139    3.554430   \n",
       "std      0.896659    0.998862    1.113278    0.890741    1.287897    1.390303   \n",
       "min      1.000000    1.000000    1.000000    1.000000    1.000000    1.000000   \n",
       "25%      4.000000    3.000000    2.000000    1.000000    1.000000    3.000000   \n",
       "50%      4.000000    3.000000    3.000000    1.000000    2.000000    4.000000   \n",
       "75%      5.000000    4.000000    4.000000    2.000000    3.000000    5.000000   \n",
       "max      5.000000    5.000000    5.000000    5.000000    5.000000    5.000000   \n",
       "\n",
       "         absences          G1          G2          G3  \n",
       "count  395.000000  395.000000  395.000000  395.000000  \n",
       "mean     5.708861   10.908861   10.713924   10.415190  \n",
       "std      8.003096    3.319195    3.761505    4.581443  \n",
       "min      0.000000    3.000000    0.000000    0.000000  \n",
       "25%      0.000000    8.000000    9.000000    8.000000  \n",
       "50%      4.000000   11.000000   11.000000   11.000000  \n",
       "75%      8.000000   13.000000   13.000000   14.000000  \n",
       "max     75.000000   19.000000   19.000000   20.000000  "
      ]
     },
     "execution_count": 9,
     "metadata": {},
     "output_type": "execute_result"
    }
   ],
   "source": [
    "df.describe()"
   ]
  },
  {
   "cell_type": "code",
   "execution_count": 10,
   "id": "scientific-france",
   "metadata": {},
   "outputs": [
    {
     "ename": "NameError",
     "evalue": "name 'sns' is not defined",
     "output_type": "error",
     "traceback": [
      "\u001b[0;31m---------------------------------------------------------------------------\u001b[0m",
      "\u001b[0;31mNameError\u001b[0m                                 Traceback (most recent call last)",
      "\u001b[0;32m<ipython-input-10-2b6565263842>\u001b[0m in \u001b[0;36m<module>\u001b[0;34m\u001b[0m\n\u001b[0;32m----> 1\u001b[0;31m \u001b[0msns\u001b[0m\u001b[0;34m.\u001b[0m\u001b[0mhistplot\u001b[0m\u001b[0;34m(\u001b[0m\u001b[0mdf\u001b[0m\u001b[0;34m[\u001b[0m\u001b[0;34m\"school\"\u001b[0m\u001b[0;34m]\u001b[0m\u001b[0;34m)\u001b[0m\u001b[0;34m\u001b[0m\u001b[0;34m\u001b[0m\u001b[0m\n\u001b[0m",
      "\u001b[0;31mNameError\u001b[0m: name 'sns' is not defined"
     ]
    }
   ],
   "source": [
    "sns.histplot(df[\"school\"])"
   ]
  },
  {
   "cell_type": "code",
   "execution_count": null,
   "id": "honest-brazilian",
   "metadata": {},
   "outputs": [],
   "source": [
    "sns.histplot(df[\"sex\"])"
   ]
  },
  {
   "cell_type": "code",
   "execution_count": null,
   "id": "parental-villa",
   "metadata": {},
   "outputs": [],
   "source": [
    "sns.histplot(df[\"address\"])"
   ]
  },
  {
   "cell_type": "code",
   "execution_count": null,
   "id": "green-colleague",
   "metadata": {},
   "outputs": [],
   "source": [
    "sns.histplot(df[\"famsize\"])"
   ]
  },
  {
   "cell_type": "code",
   "execution_count": 11,
   "id": "southeast-window",
   "metadata": {},
   "outputs": [
    {
     "ename": "NameError",
     "evalue": "name 'sns' is not defined",
     "output_type": "error",
     "traceback": [
      "\u001b[0;31m---------------------------------------------------------------------------\u001b[0m",
      "\u001b[0;31mNameError\u001b[0m                                 Traceback (most recent call last)",
      "\u001b[0;32m<ipython-input-11-1446ccc75bc3>\u001b[0m in \u001b[0;36m<module>\u001b[0;34m\u001b[0m\n\u001b[0;32m----> 1\u001b[0;31m \u001b[0msns\u001b[0m\u001b[0;34m.\u001b[0m\u001b[0mhistplot\u001b[0m\u001b[0;34m(\u001b[0m\u001b[0mdf\u001b[0m\u001b[0;34m[\u001b[0m\u001b[0;34m\"Pstatus\"\u001b[0m\u001b[0;34m]\u001b[0m\u001b[0;34m)\u001b[0m\u001b[0;34m\u001b[0m\u001b[0;34m\u001b[0m\u001b[0m\n\u001b[0m",
      "\u001b[0;31mNameError\u001b[0m: name 'sns' is not defined"
     ]
    }
   ],
   "source": [
    "sns.histplot(df[\"Pstatus\"])"
   ]
  },
  {
   "cell_type": "code",
   "execution_count": null,
   "id": "noted-portfolio",
   "metadata": {},
   "outputs": [],
   "source": [
    "sns.histplot(df[\"Mjob\"])"
   ]
  },
  {
   "cell_type": "code",
   "execution_count": 12,
   "id": "quantitative-rapid",
   "metadata": {},
   "outputs": [
    {
     "ename": "NameError",
     "evalue": "name 'sns' is not defined",
     "output_type": "error",
     "traceback": [
      "\u001b[0;31m---------------------------------------------------------------------------\u001b[0m",
      "\u001b[0;31mNameError\u001b[0m                                 Traceback (most recent call last)",
      "\u001b[0;32m<ipython-input-12-781888331420>\u001b[0m in \u001b[0;36m<module>\u001b[0;34m\u001b[0m\n\u001b[0;32m----> 1\u001b[0;31m \u001b[0msns\u001b[0m\u001b[0;34m.\u001b[0m\u001b[0mhistplot\u001b[0m\u001b[0;34m(\u001b[0m\u001b[0mdf\u001b[0m\u001b[0;34m[\u001b[0m\u001b[0;34m\"Fjob\"\u001b[0m\u001b[0;34m]\u001b[0m\u001b[0;34m)\u001b[0m\u001b[0;34m\u001b[0m\u001b[0;34m\u001b[0m\u001b[0m\n\u001b[0m",
      "\u001b[0;31mNameError\u001b[0m: name 'sns' is not defined"
     ]
    }
   ],
   "source": [
    "sns.histplot(df[\"Fjob\"])"
   ]
  },
  {
   "cell_type": "code",
   "execution_count": null,
   "id": "alike-wound",
   "metadata": {},
   "outputs": [],
   "source": [
    "sns.histplot(df[\"reason\"])"
   ]
  },
  {
   "cell_type": "code",
   "execution_count": null,
   "id": "fatty-kennedy",
   "metadata": {},
   "outputs": [],
   "source": [
    "sns.histplot(df[\"guardian\"])"
   ]
  },
  {
   "cell_type": "code",
   "execution_count": 13,
   "id": "settled-rubber",
   "metadata": {},
   "outputs": [
    {
     "ename": "NameError",
     "evalue": "name 'sns' is not defined",
     "output_type": "error",
     "traceback": [
      "\u001b[0;31m---------------------------------------------------------------------------\u001b[0m",
      "\u001b[0;31mNameError\u001b[0m                                 Traceback (most recent call last)",
      "\u001b[0;32m<ipython-input-13-b5367d62f574>\u001b[0m in \u001b[0;36m<module>\u001b[0;34m\u001b[0m\n\u001b[0;32m----> 1\u001b[0;31m \u001b[0msns\u001b[0m\u001b[0;34m.\u001b[0m\u001b[0mhistplot\u001b[0m\u001b[0;34m(\u001b[0m\u001b[0mdf\u001b[0m\u001b[0;34m[\u001b[0m\u001b[0;34m\"schoolsup\"\u001b[0m\u001b[0;34m]\u001b[0m\u001b[0;34m)\u001b[0m\u001b[0;34m\u001b[0m\u001b[0;34m\u001b[0m\u001b[0m\n\u001b[0m",
      "\u001b[0;31mNameError\u001b[0m: name 'sns' is not defined"
     ]
    }
   ],
   "source": [
    "sns.histplot(df[\"schoolsup\"])"
   ]
  },
  {
   "cell_type": "code",
   "execution_count": null,
   "id": "loved-country",
   "metadata": {},
   "outputs": [],
   "source": [
    "sns.histplot(df[\"famsup\"])"
   ]
  },
  {
   "cell_type": "code",
   "execution_count": null,
   "id": "going-winner",
   "metadata": {},
   "outputs": [],
   "source": [
    "sns.histplot(df[\"paid\"])"
   ]
  },
  {
   "cell_type": "code",
   "execution_count": null,
   "id": "enabling-watershed",
   "metadata": {},
   "outputs": [],
   "source": [
    "sns.histplot(df[\"activities\"])"
   ]
  },
  {
   "cell_type": "code",
   "execution_count": 14,
   "id": "sealed-cleaners",
   "metadata": {},
   "outputs": [
    {
     "ename": "NameError",
     "evalue": "name 'sns' is not defined",
     "output_type": "error",
     "traceback": [
      "\u001b[0;31m---------------------------------------------------------------------------\u001b[0m",
      "\u001b[0;31mNameError\u001b[0m                                 Traceback (most recent call last)",
      "\u001b[0;32m<ipython-input-14-3a8dcd72bbe0>\u001b[0m in \u001b[0;36m<module>\u001b[0;34m\u001b[0m\n\u001b[0;32m----> 1\u001b[0;31m \u001b[0msns\u001b[0m\u001b[0;34m.\u001b[0m\u001b[0mhistplot\u001b[0m\u001b[0;34m(\u001b[0m\u001b[0mdf\u001b[0m\u001b[0;34m[\u001b[0m\u001b[0;34m\"nursery\"\u001b[0m\u001b[0;34m]\u001b[0m\u001b[0;34m)\u001b[0m\u001b[0;34m\u001b[0m\u001b[0;34m\u001b[0m\u001b[0m\n\u001b[0m",
      "\u001b[0;31mNameError\u001b[0m: name 'sns' is not defined"
     ]
    }
   ],
   "source": [
    "sns.histplot(df[\"nursery\"])"
   ]
  },
  {
   "cell_type": "code",
   "execution_count": 15,
   "id": "relevant-somerset",
   "metadata": {},
   "outputs": [
    {
     "ename": "NameError",
     "evalue": "name 'sns' is not defined",
     "output_type": "error",
     "traceback": [
      "\u001b[0;31m---------------------------------------------------------------------------\u001b[0m",
      "\u001b[0;31mNameError\u001b[0m                                 Traceback (most recent call last)",
      "\u001b[0;32m<ipython-input-15-6ae981d52ad9>\u001b[0m in \u001b[0;36m<module>\u001b[0;34m\u001b[0m\n\u001b[0;32m----> 1\u001b[0;31m \u001b[0msns\u001b[0m\u001b[0;34m.\u001b[0m\u001b[0mhistplot\u001b[0m\u001b[0;34m(\u001b[0m\u001b[0mdf\u001b[0m\u001b[0;34m[\u001b[0m\u001b[0;34m\"higher\"\u001b[0m\u001b[0;34m]\u001b[0m\u001b[0;34m)\u001b[0m\u001b[0;34m\u001b[0m\u001b[0;34m\u001b[0m\u001b[0m\n\u001b[0m",
      "\u001b[0;31mNameError\u001b[0m: name 'sns' is not defined"
     ]
    }
   ],
   "source": [
    "sns.histplot(df[\"higher\"])"
   ]
  },
  {
   "cell_type": "code",
   "execution_count": null,
   "id": "wound-november",
   "metadata": {},
   "outputs": [],
   "source": [
    "sns.histplot(df[\"internet\"])"
   ]
  },
  {
   "cell_type": "code",
   "execution_count": null,
   "id": "vietnamese-eclipse",
   "metadata": {},
   "outputs": [],
   "source": [
    "sns.histplot(df[\"romantic\"])"
   ]
  },
  {
   "cell_type": "code",
   "execution_count": null,
   "id": "satisfied-george",
   "metadata": {},
   "outputs": [],
   "source": [
    "sns.histplot(df[\"finalResult\"])"
   ]
  },
  {
   "cell_type": "code",
   "execution_count": 16,
   "id": "italian-aspect",
   "metadata": {},
   "outputs": [
    {
     "ename": "NameError",
     "evalue": "name 'sns' is not defined",
     "output_type": "error",
     "traceback": [
      "\u001b[0;31m---------------------------------------------------------------------------\u001b[0m",
      "\u001b[0;31mNameError\u001b[0m                                 Traceback (most recent call last)",
      "\u001b[0;32m<ipython-input-16-6db743d150c5>\u001b[0m in \u001b[0;36m<module>\u001b[0;34m\u001b[0m\n\u001b[0;32m----> 1\u001b[0;31m \u001b[0msns\u001b[0m\u001b[0;34m.\u001b[0m\u001b[0mhistplot\u001b[0m\u001b[0;34m(\u001b[0m\u001b[0mdf\u001b[0m\u001b[0;34m[\u001b[0m\u001b[0;34m\"academicGrade\"\u001b[0m\u001b[0;34m]\u001b[0m\u001b[0;34m)\u001b[0m\u001b[0;34m\u001b[0m\u001b[0;34m\u001b[0m\u001b[0m\n\u001b[0m",
      "\u001b[0;31mNameError\u001b[0m: name 'sns' is not defined"
     ]
    }
   ],
   "source": [
    "sns.histplot(df[\"academicGrade\"])"
   ]
  },
  {
   "cell_type": "code",
   "execution_count": null,
   "id": "nutritional-wesley",
   "metadata": {},
   "outputs": [],
   "source": [
    "sns.histplot(df[\"G3\"])"
   ]
  },
  {
   "cell_type": "code",
   "execution_count": 17,
   "id": "unique-guest",
   "metadata": {},
   "outputs": [
    {
     "data": {
      "text/html": [
       "<div>\n",
       "<style scoped>\n",
       "    .dataframe tbody tr th:only-of-type {\n",
       "        vertical-align: middle;\n",
       "    }\n",
       "\n",
       "    .dataframe tbody tr th {\n",
       "        vertical-align: top;\n",
       "    }\n",
       "\n",
       "    .dataframe thead th {\n",
       "        text-align: right;\n",
       "    }\n",
       "</style>\n",
       "<table border=\"1\" class=\"dataframe\">\n",
       "  <thead>\n",
       "    <tr style=\"text-align: right;\">\n",
       "      <th></th>\n",
       "      <th>age</th>\n",
       "      <th>Medu</th>\n",
       "      <th>Fedu</th>\n",
       "      <th>traveltime</th>\n",
       "      <th>studytime</th>\n",
       "      <th>failures</th>\n",
       "      <th>famrel</th>\n",
       "      <th>freetime</th>\n",
       "      <th>goout</th>\n",
       "      <th>Dalc</th>\n",
       "      <th>Walc</th>\n",
       "      <th>health</th>\n",
       "      <th>absences</th>\n",
       "      <th>G1</th>\n",
       "      <th>G2</th>\n",
       "      <th>G3</th>\n",
       "    </tr>\n",
       "  </thead>\n",
       "  <tbody>\n",
       "    <tr>\n",
       "      <th>age</th>\n",
       "      <td>1.000000</td>\n",
       "      <td>-0.163658</td>\n",
       "      <td>-0.163438</td>\n",
       "      <td>0.070641</td>\n",
       "      <td>-0.004140</td>\n",
       "      <td>0.243665</td>\n",
       "      <td>0.053940</td>\n",
       "      <td>0.016434</td>\n",
       "      <td>0.126964</td>\n",
       "      <td>0.131125</td>\n",
       "      <td>0.117276</td>\n",
       "      <td>-0.062187</td>\n",
       "      <td>0.175230</td>\n",
       "      <td>-0.064081</td>\n",
       "      <td>-0.143474</td>\n",
       "      <td>-0.161579</td>\n",
       "    </tr>\n",
       "    <tr>\n",
       "      <th>Medu</th>\n",
       "      <td>-0.163658</td>\n",
       "      <td>1.000000</td>\n",
       "      <td>0.623455</td>\n",
       "      <td>-0.171639</td>\n",
       "      <td>0.064944</td>\n",
       "      <td>-0.236680</td>\n",
       "      <td>-0.003914</td>\n",
       "      <td>0.030891</td>\n",
       "      <td>0.064094</td>\n",
       "      <td>0.019834</td>\n",
       "      <td>-0.047123</td>\n",
       "      <td>-0.046878</td>\n",
       "      <td>0.100285</td>\n",
       "      <td>0.205341</td>\n",
       "      <td>0.215527</td>\n",
       "      <td>0.217147</td>\n",
       "    </tr>\n",
       "    <tr>\n",
       "      <th>Fedu</th>\n",
       "      <td>-0.163438</td>\n",
       "      <td>0.623455</td>\n",
       "      <td>1.000000</td>\n",
       "      <td>-0.158194</td>\n",
       "      <td>-0.009175</td>\n",
       "      <td>-0.250408</td>\n",
       "      <td>-0.001370</td>\n",
       "      <td>-0.012846</td>\n",
       "      <td>0.043105</td>\n",
       "      <td>0.002386</td>\n",
       "      <td>-0.012631</td>\n",
       "      <td>0.014742</td>\n",
       "      <td>0.024473</td>\n",
       "      <td>0.190270</td>\n",
       "      <td>0.164893</td>\n",
       "      <td>0.152457</td>\n",
       "    </tr>\n",
       "    <tr>\n",
       "      <th>traveltime</th>\n",
       "      <td>0.070641</td>\n",
       "      <td>-0.171639</td>\n",
       "      <td>-0.158194</td>\n",
       "      <td>1.000000</td>\n",
       "      <td>-0.100909</td>\n",
       "      <td>0.092239</td>\n",
       "      <td>-0.016808</td>\n",
       "      <td>-0.017025</td>\n",
       "      <td>0.028540</td>\n",
       "      <td>0.138325</td>\n",
       "      <td>0.134116</td>\n",
       "      <td>0.007501</td>\n",
       "      <td>-0.012944</td>\n",
       "      <td>-0.093040</td>\n",
       "      <td>-0.153198</td>\n",
       "      <td>-0.117142</td>\n",
       "    </tr>\n",
       "    <tr>\n",
       "      <th>studytime</th>\n",
       "      <td>-0.004140</td>\n",
       "      <td>0.064944</td>\n",
       "      <td>-0.009175</td>\n",
       "      <td>-0.100909</td>\n",
       "      <td>1.000000</td>\n",
       "      <td>-0.173563</td>\n",
       "      <td>0.039731</td>\n",
       "      <td>-0.143198</td>\n",
       "      <td>-0.063904</td>\n",
       "      <td>-0.196019</td>\n",
       "      <td>-0.253785</td>\n",
       "      <td>-0.075616</td>\n",
       "      <td>-0.062700</td>\n",
       "      <td>0.160612</td>\n",
       "      <td>0.135880</td>\n",
       "      <td>0.097820</td>\n",
       "    </tr>\n",
       "    <tr>\n",
       "      <th>failures</th>\n",
       "      <td>0.243665</td>\n",
       "      <td>-0.236680</td>\n",
       "      <td>-0.250408</td>\n",
       "      <td>0.092239</td>\n",
       "      <td>-0.173563</td>\n",
       "      <td>1.000000</td>\n",
       "      <td>-0.044337</td>\n",
       "      <td>0.091987</td>\n",
       "      <td>0.124561</td>\n",
       "      <td>0.136047</td>\n",
       "      <td>0.141962</td>\n",
       "      <td>0.065827</td>\n",
       "      <td>0.063726</td>\n",
       "      <td>-0.354718</td>\n",
       "      <td>-0.355896</td>\n",
       "      <td>-0.360415</td>\n",
       "    </tr>\n",
       "    <tr>\n",
       "      <th>famrel</th>\n",
       "      <td>0.053940</td>\n",
       "      <td>-0.003914</td>\n",
       "      <td>-0.001370</td>\n",
       "      <td>-0.016808</td>\n",
       "      <td>0.039731</td>\n",
       "      <td>-0.044337</td>\n",
       "      <td>1.000000</td>\n",
       "      <td>0.150701</td>\n",
       "      <td>0.064568</td>\n",
       "      <td>-0.077594</td>\n",
       "      <td>-0.113397</td>\n",
       "      <td>0.094056</td>\n",
       "      <td>-0.044354</td>\n",
       "      <td>0.022168</td>\n",
       "      <td>-0.018281</td>\n",
       "      <td>0.051363</td>\n",
       "    </tr>\n",
       "    <tr>\n",
       "      <th>freetime</th>\n",
       "      <td>0.016434</td>\n",
       "      <td>0.030891</td>\n",
       "      <td>-0.012846</td>\n",
       "      <td>-0.017025</td>\n",
       "      <td>-0.143198</td>\n",
       "      <td>0.091987</td>\n",
       "      <td>0.150701</td>\n",
       "      <td>1.000000</td>\n",
       "      <td>0.285019</td>\n",
       "      <td>0.209001</td>\n",
       "      <td>0.147822</td>\n",
       "      <td>0.075733</td>\n",
       "      <td>-0.058078</td>\n",
       "      <td>0.012613</td>\n",
       "      <td>-0.013777</td>\n",
       "      <td>0.011307</td>\n",
       "    </tr>\n",
       "    <tr>\n",
       "      <th>goout</th>\n",
       "      <td>0.126964</td>\n",
       "      <td>0.064094</td>\n",
       "      <td>0.043105</td>\n",
       "      <td>0.028540</td>\n",
       "      <td>-0.063904</td>\n",
       "      <td>0.124561</td>\n",
       "      <td>0.064568</td>\n",
       "      <td>0.285019</td>\n",
       "      <td>1.000000</td>\n",
       "      <td>0.266994</td>\n",
       "      <td>0.420386</td>\n",
       "      <td>-0.009577</td>\n",
       "      <td>0.044302</td>\n",
       "      <td>-0.149104</td>\n",
       "      <td>-0.162250</td>\n",
       "      <td>-0.132791</td>\n",
       "    </tr>\n",
       "    <tr>\n",
       "      <th>Dalc</th>\n",
       "      <td>0.131125</td>\n",
       "      <td>0.019834</td>\n",
       "      <td>0.002386</td>\n",
       "      <td>0.138325</td>\n",
       "      <td>-0.196019</td>\n",
       "      <td>0.136047</td>\n",
       "      <td>-0.077594</td>\n",
       "      <td>0.209001</td>\n",
       "      <td>0.266994</td>\n",
       "      <td>1.000000</td>\n",
       "      <td>0.647544</td>\n",
       "      <td>0.077180</td>\n",
       "      <td>0.111908</td>\n",
       "      <td>-0.094159</td>\n",
       "      <td>-0.064120</td>\n",
       "      <td>-0.054660</td>\n",
       "    </tr>\n",
       "    <tr>\n",
       "      <th>Walc</th>\n",
       "      <td>0.117276</td>\n",
       "      <td>-0.047123</td>\n",
       "      <td>-0.012631</td>\n",
       "      <td>0.134116</td>\n",
       "      <td>-0.253785</td>\n",
       "      <td>0.141962</td>\n",
       "      <td>-0.113397</td>\n",
       "      <td>0.147822</td>\n",
       "      <td>0.420386</td>\n",
       "      <td>0.647544</td>\n",
       "      <td>1.000000</td>\n",
       "      <td>0.092476</td>\n",
       "      <td>0.136291</td>\n",
       "      <td>-0.126179</td>\n",
       "      <td>-0.084927</td>\n",
       "      <td>-0.051939</td>\n",
       "    </tr>\n",
       "    <tr>\n",
       "      <th>health</th>\n",
       "      <td>-0.062187</td>\n",
       "      <td>-0.046878</td>\n",
       "      <td>0.014742</td>\n",
       "      <td>0.007501</td>\n",
       "      <td>-0.075616</td>\n",
       "      <td>0.065827</td>\n",
       "      <td>0.094056</td>\n",
       "      <td>0.075733</td>\n",
       "      <td>-0.009577</td>\n",
       "      <td>0.077180</td>\n",
       "      <td>0.092476</td>\n",
       "      <td>1.000000</td>\n",
       "      <td>-0.029937</td>\n",
       "      <td>-0.073172</td>\n",
       "      <td>-0.097720</td>\n",
       "      <td>-0.061335</td>\n",
       "    </tr>\n",
       "    <tr>\n",
       "      <th>absences</th>\n",
       "      <td>0.175230</td>\n",
       "      <td>0.100285</td>\n",
       "      <td>0.024473</td>\n",
       "      <td>-0.012944</td>\n",
       "      <td>-0.062700</td>\n",
       "      <td>0.063726</td>\n",
       "      <td>-0.044354</td>\n",
       "      <td>-0.058078</td>\n",
       "      <td>0.044302</td>\n",
       "      <td>0.111908</td>\n",
       "      <td>0.136291</td>\n",
       "      <td>-0.029937</td>\n",
       "      <td>1.000000</td>\n",
       "      <td>-0.031003</td>\n",
       "      <td>-0.031777</td>\n",
       "      <td>0.034247</td>\n",
       "    </tr>\n",
       "    <tr>\n",
       "      <th>G1</th>\n",
       "      <td>-0.064081</td>\n",
       "      <td>0.205341</td>\n",
       "      <td>0.190270</td>\n",
       "      <td>-0.093040</td>\n",
       "      <td>0.160612</td>\n",
       "      <td>-0.354718</td>\n",
       "      <td>0.022168</td>\n",
       "      <td>0.012613</td>\n",
       "      <td>-0.149104</td>\n",
       "      <td>-0.094159</td>\n",
       "      <td>-0.126179</td>\n",
       "      <td>-0.073172</td>\n",
       "      <td>-0.031003</td>\n",
       "      <td>1.000000</td>\n",
       "      <td>0.852118</td>\n",
       "      <td>0.801468</td>\n",
       "    </tr>\n",
       "    <tr>\n",
       "      <th>G2</th>\n",
       "      <td>-0.143474</td>\n",
       "      <td>0.215527</td>\n",
       "      <td>0.164893</td>\n",
       "      <td>-0.153198</td>\n",
       "      <td>0.135880</td>\n",
       "      <td>-0.355896</td>\n",
       "      <td>-0.018281</td>\n",
       "      <td>-0.013777</td>\n",
       "      <td>-0.162250</td>\n",
       "      <td>-0.064120</td>\n",
       "      <td>-0.084927</td>\n",
       "      <td>-0.097720</td>\n",
       "      <td>-0.031777</td>\n",
       "      <td>0.852118</td>\n",
       "      <td>1.000000</td>\n",
       "      <td>0.904868</td>\n",
       "    </tr>\n",
       "    <tr>\n",
       "      <th>G3</th>\n",
       "      <td>-0.161579</td>\n",
       "      <td>0.217147</td>\n",
       "      <td>0.152457</td>\n",
       "      <td>-0.117142</td>\n",
       "      <td>0.097820</td>\n",
       "      <td>-0.360415</td>\n",
       "      <td>0.051363</td>\n",
       "      <td>0.011307</td>\n",
       "      <td>-0.132791</td>\n",
       "      <td>-0.054660</td>\n",
       "      <td>-0.051939</td>\n",
       "      <td>-0.061335</td>\n",
       "      <td>0.034247</td>\n",
       "      <td>0.801468</td>\n",
       "      <td>0.904868</td>\n",
       "      <td>1.000000</td>\n",
       "    </tr>\n",
       "  </tbody>\n",
       "</table>\n",
       "</div>"
      ],
      "text/plain": [
       "                 age      Medu      Fedu  traveltime  studytime  failures  \\\n",
       "age         1.000000 -0.163658 -0.163438    0.070641  -0.004140  0.243665   \n",
       "Medu       -0.163658  1.000000  0.623455   -0.171639   0.064944 -0.236680   \n",
       "Fedu       -0.163438  0.623455  1.000000   -0.158194  -0.009175 -0.250408   \n",
       "traveltime  0.070641 -0.171639 -0.158194    1.000000  -0.100909  0.092239   \n",
       "studytime  -0.004140  0.064944 -0.009175   -0.100909   1.000000 -0.173563   \n",
       "failures    0.243665 -0.236680 -0.250408    0.092239  -0.173563  1.000000   \n",
       "famrel      0.053940 -0.003914 -0.001370   -0.016808   0.039731 -0.044337   \n",
       "freetime    0.016434  0.030891 -0.012846   -0.017025  -0.143198  0.091987   \n",
       "goout       0.126964  0.064094  0.043105    0.028540  -0.063904  0.124561   \n",
       "Dalc        0.131125  0.019834  0.002386    0.138325  -0.196019  0.136047   \n",
       "Walc        0.117276 -0.047123 -0.012631    0.134116  -0.253785  0.141962   \n",
       "health     -0.062187 -0.046878  0.014742    0.007501  -0.075616  0.065827   \n",
       "absences    0.175230  0.100285  0.024473   -0.012944  -0.062700  0.063726   \n",
       "G1         -0.064081  0.205341  0.190270   -0.093040   0.160612 -0.354718   \n",
       "G2         -0.143474  0.215527  0.164893   -0.153198   0.135880 -0.355896   \n",
       "G3         -0.161579  0.217147  0.152457   -0.117142   0.097820 -0.360415   \n",
       "\n",
       "              famrel  freetime     goout      Dalc      Walc    health  \\\n",
       "age         0.053940  0.016434  0.126964  0.131125  0.117276 -0.062187   \n",
       "Medu       -0.003914  0.030891  0.064094  0.019834 -0.047123 -0.046878   \n",
       "Fedu       -0.001370 -0.012846  0.043105  0.002386 -0.012631  0.014742   \n",
       "traveltime -0.016808 -0.017025  0.028540  0.138325  0.134116  0.007501   \n",
       "studytime   0.039731 -0.143198 -0.063904 -0.196019 -0.253785 -0.075616   \n",
       "failures   -0.044337  0.091987  0.124561  0.136047  0.141962  0.065827   \n",
       "famrel      1.000000  0.150701  0.064568 -0.077594 -0.113397  0.094056   \n",
       "freetime    0.150701  1.000000  0.285019  0.209001  0.147822  0.075733   \n",
       "goout       0.064568  0.285019  1.000000  0.266994  0.420386 -0.009577   \n",
       "Dalc       -0.077594  0.209001  0.266994  1.000000  0.647544  0.077180   \n",
       "Walc       -0.113397  0.147822  0.420386  0.647544  1.000000  0.092476   \n",
       "health      0.094056  0.075733 -0.009577  0.077180  0.092476  1.000000   \n",
       "absences   -0.044354 -0.058078  0.044302  0.111908  0.136291 -0.029937   \n",
       "G1          0.022168  0.012613 -0.149104 -0.094159 -0.126179 -0.073172   \n",
       "G2         -0.018281 -0.013777 -0.162250 -0.064120 -0.084927 -0.097720   \n",
       "G3          0.051363  0.011307 -0.132791 -0.054660 -0.051939 -0.061335   \n",
       "\n",
       "            absences        G1        G2        G3  \n",
       "age         0.175230 -0.064081 -0.143474 -0.161579  \n",
       "Medu        0.100285  0.205341  0.215527  0.217147  \n",
       "Fedu        0.024473  0.190270  0.164893  0.152457  \n",
       "traveltime -0.012944 -0.093040 -0.153198 -0.117142  \n",
       "studytime  -0.062700  0.160612  0.135880  0.097820  \n",
       "failures    0.063726 -0.354718 -0.355896 -0.360415  \n",
       "famrel     -0.044354  0.022168 -0.018281  0.051363  \n",
       "freetime   -0.058078  0.012613 -0.013777  0.011307  \n",
       "goout       0.044302 -0.149104 -0.162250 -0.132791  \n",
       "Dalc        0.111908 -0.094159 -0.064120 -0.054660  \n",
       "Walc        0.136291 -0.126179 -0.084927 -0.051939  \n",
       "health     -0.029937 -0.073172 -0.097720 -0.061335  \n",
       "absences    1.000000 -0.031003 -0.031777  0.034247  \n",
       "G1         -0.031003  1.000000  0.852118  0.801468  \n",
       "G2         -0.031777  0.852118  1.000000  0.904868  \n",
       "G3          0.034247  0.801468  0.904868  1.000000  "
      ]
     },
     "execution_count": 17,
     "metadata": {},
     "output_type": "execute_result"
    }
   ],
   "source": [
    "df.corr()"
   ]
  },
  {
   "cell_type": "code",
   "execution_count": 18,
   "id": "working-wiring",
   "metadata": {},
   "outputs": [
    {
     "ename": "NameError",
     "evalue": "name 'sns' is not defined",
     "output_type": "error",
     "traceback": [
      "\u001b[0;31m---------------------------------------------------------------------------\u001b[0m",
      "\u001b[0;31mNameError\u001b[0m                                 Traceback (most recent call last)",
      "\u001b[0;32m<ipython-input-18-55d1b7ad4ea6>\u001b[0m in \u001b[0;36m<module>\u001b[0;34m\u001b[0m\n\u001b[0;32m----> 1\u001b[0;31m sns.heatmap(df.corr()\n\u001b[0m\u001b[1;32m      2\u001b[0m ,cmap=\"YlGnBu\")\n",
      "\u001b[0;31mNameError\u001b[0m: name 'sns' is not defined"
     ]
    }
   ],
   "source": [
    "sns.heatmap(df.corr()\n",
    ",cmap=\"YlGnBu\")"
   ]
  },
  {
   "cell_type": "markdown",
   "id": "jewish-journalism",
   "metadata": {},
   "source": [
    "haute corrélation entre les notes de la première periode (G1), seconde periode(G2) et la note finale (G3)"
   ]
  },
  {
   "cell_type": "code",
   "execution_count": null,
   "id": "gentle-master",
   "metadata": {},
   "outputs": [],
   "source": [
    "sns.boxplot(x=\"school\", y=\"G3\", data=df)"
   ]
  },
  {
   "cell_type": "code",
   "execution_count": 19,
   "id": "intelligent-suggestion",
   "metadata": {},
   "outputs": [
    {
     "ename": "NameError",
     "evalue": "name 'sns' is not defined",
     "output_type": "error",
     "traceback": [
      "\u001b[0;31m---------------------------------------------------------------------------\u001b[0m",
      "\u001b[0;31mNameError\u001b[0m                                 Traceback (most recent call last)",
      "\u001b[0;32m<ipython-input-19-f9ec8d7e13cf>\u001b[0m in \u001b[0;36m<module>\u001b[0;34m\u001b[0m\n\u001b[0;32m----> 1\u001b[0;31m \u001b[0msns\u001b[0m\u001b[0;34m.\u001b[0m\u001b[0mboxplot\u001b[0m\u001b[0;34m(\u001b[0m\u001b[0mx\u001b[0m\u001b[0;34m=\u001b[0m\u001b[0;34m\"sex\"\u001b[0m\u001b[0;34m,\u001b[0m \u001b[0my\u001b[0m\u001b[0;34m=\u001b[0m\u001b[0;34m\"G3\"\u001b[0m\u001b[0;34m,\u001b[0m \u001b[0mdata\u001b[0m\u001b[0;34m=\u001b[0m\u001b[0mdf\u001b[0m\u001b[0;34m)\u001b[0m\u001b[0;34m\u001b[0m\u001b[0;34m\u001b[0m\u001b[0m\n\u001b[0m",
      "\u001b[0;31mNameError\u001b[0m: name 'sns' is not defined"
     ]
    }
   ],
   "source": [
    "sns.boxplot(x=\"sex\", y=\"G3\", data=df)"
   ]
  },
  {
   "cell_type": "code",
   "execution_count": null,
   "id": "settled-secretariat",
   "metadata": {},
   "outputs": [],
   "source": [
    "sns.boxplot(x=\"age\", y=\"G3\", data=df)"
   ]
  },
  {
   "cell_type": "code",
   "execution_count": null,
   "id": "disturbed-terror",
   "metadata": {},
   "outputs": [],
   "source": [
    "sns.boxplot(x=\"address\", y=\"G3\", data=df)"
   ]
  },
  {
   "cell_type": "code",
   "execution_count": null,
   "id": "fifty-mailman",
   "metadata": {},
   "outputs": [],
   "source": [
    "sns.boxplot(x=\"famsize\", y=\"G3\", data=df)"
   ]
  },
  {
   "cell_type": "code",
   "execution_count": null,
   "id": "tracked-share",
   "metadata": {},
   "outputs": [],
   "source": [
    "sns.boxplot(x=\"Pstatus\", y=\"G3\", data=df)"
   ]
  },
  {
   "cell_type": "code",
   "execution_count": 20,
   "id": "conceptual-found",
   "metadata": {},
   "outputs": [
    {
     "ename": "NameError",
     "evalue": "name 'sns' is not defined",
     "output_type": "error",
     "traceback": [
      "\u001b[0;31m---------------------------------------------------------------------------\u001b[0m",
      "\u001b[0;31mNameError\u001b[0m                                 Traceback (most recent call last)",
      "\u001b[0;32m<ipython-input-20-e73db05cfc43>\u001b[0m in \u001b[0;36m<module>\u001b[0;34m\u001b[0m\n\u001b[0;32m----> 1\u001b[0;31m \u001b[0msns\u001b[0m\u001b[0;34m.\u001b[0m\u001b[0mboxplot\u001b[0m\u001b[0;34m(\u001b[0m\u001b[0mx\u001b[0m\u001b[0;34m=\u001b[0m\u001b[0;34m\"Medu\"\u001b[0m\u001b[0;34m,\u001b[0m \u001b[0my\u001b[0m\u001b[0;34m=\u001b[0m\u001b[0;34m\"G3\"\u001b[0m\u001b[0;34m,\u001b[0m \u001b[0mdata\u001b[0m\u001b[0;34m=\u001b[0m\u001b[0mdf\u001b[0m\u001b[0;34m)\u001b[0m\u001b[0;34m\u001b[0m\u001b[0;34m\u001b[0m\u001b[0m\n\u001b[0m",
      "\u001b[0;31mNameError\u001b[0m: name 'sns' is not defined"
     ]
    }
   ],
   "source": [
    "sns.boxplot(x=\"Medu\", y=\"G3\", data=df)"
   ]
  },
  {
   "cell_type": "code",
   "execution_count": null,
   "id": "opposite-organ",
   "metadata": {},
   "outputs": [],
   "source": [
    "sns.boxplot(x=\"Fedu\", y=\"G3\", data=df)"
   ]
  },
  {
   "cell_type": "code",
   "execution_count": 21,
   "id": "impossible-bathroom",
   "metadata": {},
   "outputs": [
    {
     "ename": "NameError",
     "evalue": "name 'sns' is not defined",
     "output_type": "error",
     "traceback": [
      "\u001b[0;31m---------------------------------------------------------------------------\u001b[0m",
      "\u001b[0;31mNameError\u001b[0m                                 Traceback (most recent call last)",
      "\u001b[0;32m<ipython-input-21-34b4c97cd6b4>\u001b[0m in \u001b[0;36m<module>\u001b[0;34m\u001b[0m\n\u001b[0;32m----> 1\u001b[0;31m \u001b[0msns\u001b[0m\u001b[0;34m.\u001b[0m\u001b[0mboxplot\u001b[0m\u001b[0;34m(\u001b[0m\u001b[0mx\u001b[0m\u001b[0;34m=\u001b[0m\u001b[0;34m\"Mjob\"\u001b[0m\u001b[0;34m,\u001b[0m \u001b[0my\u001b[0m\u001b[0;34m=\u001b[0m\u001b[0;34m\"G3\"\u001b[0m\u001b[0;34m,\u001b[0m \u001b[0mdata\u001b[0m\u001b[0;34m=\u001b[0m\u001b[0mdf\u001b[0m\u001b[0;34m)\u001b[0m\u001b[0;34m\u001b[0m\u001b[0;34m\u001b[0m\u001b[0m\n\u001b[0m",
      "\u001b[0;31mNameError\u001b[0m: name 'sns' is not defined"
     ]
    }
   ],
   "source": [
    "sns.boxplot(x=\"Mjob\", y=\"G3\", data=df)"
   ]
  },
  {
   "cell_type": "code",
   "execution_count": null,
   "id": "vocal-debut",
   "metadata": {},
   "outputs": [],
   "source": [
    "sns.boxplot(x=\"Fjob\", y=\"G3\", data=df)"
   ]
  },
  {
   "cell_type": "code",
   "execution_count": null,
   "id": "commercial-commercial",
   "metadata": {},
   "outputs": [],
   "source": [
    "sns.boxplot(x=\"reason\", y=\"G3\", data=df)"
   ]
  },
  {
   "cell_type": "code",
   "execution_count": 22,
   "id": "legal-zambia",
   "metadata": {},
   "outputs": [
    {
     "ename": "NameError",
     "evalue": "name 'sns' is not defined",
     "output_type": "error",
     "traceback": [
      "\u001b[0;31m---------------------------------------------------------------------------\u001b[0m",
      "\u001b[0;31mNameError\u001b[0m                                 Traceback (most recent call last)",
      "\u001b[0;32m<ipython-input-22-421ede0d8b21>\u001b[0m in \u001b[0;36m<module>\u001b[0;34m\u001b[0m\n\u001b[0;32m----> 1\u001b[0;31m \u001b[0msns\u001b[0m\u001b[0;34m.\u001b[0m\u001b[0mboxplot\u001b[0m\u001b[0;34m(\u001b[0m\u001b[0mx\u001b[0m\u001b[0;34m=\u001b[0m\u001b[0;34m\"guardian\"\u001b[0m\u001b[0;34m,\u001b[0m \u001b[0my\u001b[0m\u001b[0;34m=\u001b[0m\u001b[0;34m\"G3\"\u001b[0m\u001b[0;34m,\u001b[0m \u001b[0mdata\u001b[0m\u001b[0;34m=\u001b[0m\u001b[0mdf\u001b[0m\u001b[0;34m)\u001b[0m\u001b[0;34m\u001b[0m\u001b[0;34m\u001b[0m\u001b[0m\n\u001b[0m",
      "\u001b[0;31mNameError\u001b[0m: name 'sns' is not defined"
     ]
    }
   ],
   "source": [
    "sns.boxplot(x=\"guardian\", y=\"G3\", data=df)"
   ]
  },
  {
   "cell_type": "code",
   "execution_count": null,
   "id": "authentic-softball",
   "metadata": {},
   "outputs": [],
   "source": [
    "sns.boxplot(x=\"traveltime\", y=\"G3\", data=df)"
   ]
  },
  {
   "cell_type": "code",
   "execution_count": null,
   "id": "crazy-istanbul",
   "metadata": {},
   "outputs": [],
   "source": [
    "sns.boxplot(x=\"studytime\", y=\"G3\", data=df)"
   ]
  },
  {
   "cell_type": "code",
   "execution_count": 23,
   "id": "standing-attitude",
   "metadata": {},
   "outputs": [
    {
     "ename": "NameError",
     "evalue": "name 'sns' is not defined",
     "output_type": "error",
     "traceback": [
      "\u001b[0;31m---------------------------------------------------------------------------\u001b[0m",
      "\u001b[0;31mNameError\u001b[0m                                 Traceback (most recent call last)",
      "\u001b[0;32m<ipython-input-23-6d0fe936abc2>\u001b[0m in \u001b[0;36m<module>\u001b[0;34m\u001b[0m\n\u001b[0;32m----> 1\u001b[0;31m \u001b[0msns\u001b[0m\u001b[0;34m.\u001b[0m\u001b[0mboxplot\u001b[0m\u001b[0;34m(\u001b[0m\u001b[0mx\u001b[0m\u001b[0;34m=\u001b[0m\u001b[0;34m\"failures\"\u001b[0m\u001b[0;34m,\u001b[0m \u001b[0my\u001b[0m\u001b[0;34m=\u001b[0m\u001b[0;34m\"G3\"\u001b[0m\u001b[0;34m,\u001b[0m \u001b[0mdata\u001b[0m\u001b[0;34m=\u001b[0m\u001b[0mdf\u001b[0m\u001b[0;34m)\u001b[0m\u001b[0;34m\u001b[0m\u001b[0;34m\u001b[0m\u001b[0m\n\u001b[0m",
      "\u001b[0;31mNameError\u001b[0m: name 'sns' is not defined"
     ]
    }
   ],
   "source": [
    "sns.boxplot(x=\"failures\", y=\"G3\", data=df)"
   ]
  },
  {
   "cell_type": "markdown",
   "id": "pending-voice",
   "metadata": {},
   "source": [
    "**forte relation entre les mauvaises notes dans le passé et les notes actuelles**"
   ]
  },
  {
   "cell_type": "code",
   "execution_count": 24,
   "id": "aggressive-fence",
   "metadata": {},
   "outputs": [
    {
     "ename": "NameError",
     "evalue": "name 'sns' is not defined",
     "output_type": "error",
     "traceback": [
      "\u001b[0;31m---------------------------------------------------------------------------\u001b[0m",
      "\u001b[0;31mNameError\u001b[0m                                 Traceback (most recent call last)",
      "\u001b[0;32m<ipython-input-24-8aec5efa5f82>\u001b[0m in \u001b[0;36m<module>\u001b[0;34m\u001b[0m\n\u001b[0;32m----> 1\u001b[0;31m \u001b[0msns\u001b[0m\u001b[0;34m.\u001b[0m\u001b[0mboxplot\u001b[0m\u001b[0;34m(\u001b[0m\u001b[0mx\u001b[0m\u001b[0;34m=\u001b[0m\u001b[0;34m\"schoolsup\"\u001b[0m\u001b[0;34m,\u001b[0m \u001b[0my\u001b[0m\u001b[0;34m=\u001b[0m\u001b[0;34m\"G3\"\u001b[0m\u001b[0;34m,\u001b[0m \u001b[0mdata\u001b[0m\u001b[0;34m=\u001b[0m\u001b[0mdf\u001b[0m\u001b[0;34m)\u001b[0m\u001b[0;34m\u001b[0m\u001b[0;34m\u001b[0m\u001b[0m\n\u001b[0m",
      "\u001b[0;31mNameError\u001b[0m: name 'sns' is not defined"
     ]
    }
   ],
   "source": [
    "sns.boxplot(x=\"schoolsup\", y=\"G3\", data=df)"
   ]
  },
  {
   "cell_type": "code",
   "execution_count": null,
   "id": "equipped-filling",
   "metadata": {},
   "outputs": [],
   "source": [
    "sns.boxplot(x=\"famsup\", y=\"G3\", data=df)"
   ]
  },
  {
   "cell_type": "code",
   "execution_count": null,
   "id": "charitable-translator",
   "metadata": {},
   "outputs": [],
   "source": [
    "sns.boxplot(x=\"paid\", y=\"G3\", data=df)"
   ]
  },
  {
   "cell_type": "code",
   "execution_count": null,
   "id": "middle-accuracy",
   "metadata": {},
   "outputs": [],
   "source": [
    "sns.boxplot(x=\"activities\", y=\"G3\", data=df)"
   ]
  },
  {
   "cell_type": "code",
   "execution_count": null,
   "id": "military-cheat",
   "metadata": {},
   "outputs": [],
   "source": [
    "sns.boxplot(x=\"nursery\", y=\"G3\", data=df)"
   ]
  },
  {
   "cell_type": "code",
   "execution_count": 25,
   "id": "educated-armenia",
   "metadata": {},
   "outputs": [
    {
     "ename": "NameError",
     "evalue": "name 'sns' is not defined",
     "output_type": "error",
     "traceback": [
      "\u001b[0;31m---------------------------------------------------------------------------\u001b[0m",
      "\u001b[0;31mNameError\u001b[0m                                 Traceback (most recent call last)",
      "\u001b[0;32m<ipython-input-25-8b0ab027fbc6>\u001b[0m in \u001b[0;36m<module>\u001b[0;34m\u001b[0m\n\u001b[0;32m----> 1\u001b[0;31m \u001b[0msns\u001b[0m\u001b[0;34m.\u001b[0m\u001b[0mboxplot\u001b[0m\u001b[0;34m(\u001b[0m\u001b[0mx\u001b[0m\u001b[0;34m=\u001b[0m\u001b[0;34m\"higher\"\u001b[0m\u001b[0;34m,\u001b[0m \u001b[0my\u001b[0m\u001b[0;34m=\u001b[0m\u001b[0;34m\"G3\"\u001b[0m\u001b[0;34m,\u001b[0m \u001b[0mdata\u001b[0m\u001b[0;34m=\u001b[0m\u001b[0mdf\u001b[0m\u001b[0;34m)\u001b[0m\u001b[0;34m\u001b[0m\u001b[0;34m\u001b[0m\u001b[0m\n\u001b[0m",
      "\u001b[0;31mNameError\u001b[0m: name 'sns' is not defined"
     ]
    }
   ],
   "source": [
    "sns.boxplot(x=\"higher\", y=\"G3\", data=df)"
   ]
  },
  {
   "cell_type": "markdown",
   "id": "impressive-colombia",
   "metadata": {},
   "source": [
    "**les etudiants qui visent une formation superieur ont generalement des meilleurs notes**"
   ]
  },
  {
   "cell_type": "code",
   "execution_count": 26,
   "id": "shared-worst",
   "metadata": {},
   "outputs": [
    {
     "ename": "NameError",
     "evalue": "name 'sns' is not defined",
     "output_type": "error",
     "traceback": [
      "\u001b[0;31m---------------------------------------------------------------------------\u001b[0m",
      "\u001b[0;31mNameError\u001b[0m                                 Traceback (most recent call last)",
      "\u001b[0;32m<ipython-input-26-4abcbb0b5f5c>\u001b[0m in \u001b[0;36m<module>\u001b[0;34m\u001b[0m\n\u001b[0;32m----> 1\u001b[0;31m \u001b[0msns\u001b[0m\u001b[0;34m.\u001b[0m\u001b[0mboxplot\u001b[0m\u001b[0;34m(\u001b[0m\u001b[0my\u001b[0m\u001b[0;34m=\u001b[0m\u001b[0;34m\"G3\"\u001b[0m\u001b[0;34m,\u001b[0m \u001b[0mx\u001b[0m\u001b[0;34m=\u001b[0m\u001b[0;34m\"internet\"\u001b[0m\u001b[0;34m,\u001b[0m  \u001b[0mdata\u001b[0m\u001b[0;34m=\u001b[0m\u001b[0mdf\u001b[0m\u001b[0;34m)\u001b[0m\u001b[0;34m\u001b[0m\u001b[0;34m\u001b[0m\u001b[0m\n\u001b[0m",
      "\u001b[0;31mNameError\u001b[0m: name 'sns' is not defined"
     ]
    }
   ],
   "source": [
    "sns.boxplot(y=\"G3\", x=\"internet\",  data=df)"
   ]
  },
  {
   "cell_type": "code",
   "execution_count": null,
   "id": "capital-affiliate",
   "metadata": {},
   "outputs": [],
   "source": [
    "sns.boxplot(y=\"G3\", x=\"romantic\",  data=df)"
   ]
  },
  {
   "cell_type": "code",
   "execution_count": null,
   "id": "certain-programming",
   "metadata": {},
   "outputs": [],
   "source": [
    "sns.boxplot(x=\"famrel\", y=\"G3\",  data=df)"
   ]
  },
  {
   "cell_type": "code",
   "execution_count": 27,
   "id": "excellent-regard",
   "metadata": {},
   "outputs": [
    {
     "ename": "NameError",
     "evalue": "name 'sns' is not defined",
     "output_type": "error",
     "traceback": [
      "\u001b[0;31m---------------------------------------------------------------------------\u001b[0m",
      "\u001b[0;31mNameError\u001b[0m                                 Traceback (most recent call last)",
      "\u001b[0;32m<ipython-input-27-ba2f1e0e6ec5>\u001b[0m in \u001b[0;36m<module>\u001b[0;34m\u001b[0m\n\u001b[0;32m----> 1\u001b[0;31m \u001b[0msns\u001b[0m\u001b[0;34m.\u001b[0m\u001b[0mboxplot\u001b[0m\u001b[0;34m(\u001b[0m\u001b[0mx\u001b[0m\u001b[0;34m=\u001b[0m\u001b[0;34m\"freetime\"\u001b[0m\u001b[0;34m,\u001b[0m \u001b[0my\u001b[0m\u001b[0;34m=\u001b[0m\u001b[0;34m\"G3\"\u001b[0m\u001b[0;34m,\u001b[0m  \u001b[0mdata\u001b[0m\u001b[0;34m=\u001b[0m\u001b[0mdf\u001b[0m\u001b[0;34m)\u001b[0m\u001b[0;34m\u001b[0m\u001b[0;34m\u001b[0m\u001b[0m\n\u001b[0m",
      "\u001b[0;31mNameError\u001b[0m: name 'sns' is not defined"
     ]
    }
   ],
   "source": [
    "sns.boxplot(x=\"freetime\", y=\"G3\",  data=df)"
   ]
  },
  {
   "cell_type": "code",
   "execution_count": null,
   "id": "expected-myrtle",
   "metadata": {},
   "outputs": [],
   "source": [
    "sns.boxplot(y=\"G3\", x=\"health\",  data=df)"
   ]
  },
  {
   "cell_type": "code",
   "execution_count": 28,
   "id": "provincial-minneapolis",
   "metadata": {},
   "outputs": [
    {
     "ename": "NameError",
     "evalue": "name 'sns' is not defined",
     "output_type": "error",
     "traceback": [
      "\u001b[0;31m---------------------------------------------------------------------------\u001b[0m",
      "\u001b[0;31mNameError\u001b[0m                                 Traceback (most recent call last)",
      "\u001b[0;32m<ipython-input-28-c0c7157ad8f4>\u001b[0m in \u001b[0;36m<module>\u001b[0;34m\u001b[0m\n\u001b[0;32m----> 1\u001b[0;31m \u001b[0msns\u001b[0m\u001b[0;34m.\u001b[0m\u001b[0mboxplot\u001b[0m\u001b[0;34m(\u001b[0m\u001b[0mx\u001b[0m\u001b[0;34m=\u001b[0m\u001b[0;34m\"academicGrade\"\u001b[0m\u001b[0;34m,\u001b[0m \u001b[0my\u001b[0m\u001b[0;34m=\u001b[0m\u001b[0;34m\"absences\"\u001b[0m\u001b[0;34m,\u001b[0m  \u001b[0mdata\u001b[0m\u001b[0;34m=\u001b[0m\u001b[0mdf\u001b[0m\u001b[0;34m)\u001b[0m\u001b[0;34m\u001b[0m\u001b[0;34m\u001b[0m\u001b[0m\n\u001b[0m",
      "\u001b[0;31mNameError\u001b[0m: name 'sns' is not defined"
     ]
    }
   ],
   "source": [
    "sns.boxplot(x=\"academicGrade\", y=\"absences\",  data=df)"
   ]
  },
  {
   "cell_type": "code",
   "execution_count": null,
   "id": "lasting-atlas",
   "metadata": {},
   "outputs": [],
   "source": [
    "dum_df = pd.get_dummies(df, columns=[\"school\",\"academicGrade\",\"finalResult\",\"sex\",\"address\",\"famsize\",\"Pstatus\",\"Mjob\",\"Fjob\",\"reason\",\"guardian\",\"schoolsup\",\"famsup\",\"paid\",\"activities\",\"nursery\",\"higher\",\"internet\",\"romantic\"], prefix=[\"school\",\"academicGrade\",\"finalResult\",\"sex\",\"address\",\"famsize\",\"Pstatus\",\"Mjob\",\"Fjob\",\"reason\",\"guardian\",\"schoolsup\",\"famsup\",\"paid\",\"activities\",\"nursery\",\"higher\",\"internet\",\"romantic\"] )\n",
    "dum_df.columns"
   ]
  },
  {
   "cell_type": "code",
   "execution_count": null,
   "id": "dominant-engineering",
   "metadata": {},
   "outputs": [],
   "source": [
    "import seaborn as sns\n",
    "\n",
    "sns.heatmap(dum_df.corr()\n",
    ",cmap=\"YlGnBu\")"
   ]
  },
  {
   "cell_type": "code",
   "execution_count": null,
   "id": "square-disco",
   "metadata": {},
   "outputs": [],
   "source": [
    "dum_df[['failures','G3']].corr()"
   ]
  },
  {
   "cell_type": "markdown",
   "id": "utility-creator",
   "metadata": {},
   "source": [
    "<h2>5.Binary classification on the variable \"finalResult\":<h2>"
   ]
  },
  {
   "cell_type": "markdown",
   "id": "modern-killer",
   "metadata": {},
   "source": [
    "<h3>5.1 Preprocess the data. Use the function « ColumnTransformer » to do that. Explain precisely each step, in particular when you drop, impute or transform the variables. Try several approachs.</h3>"
   ]
  },
  {
   "cell_type": "markdown",
   "id": "recognized-industry",
   "metadata": {},
   "source": [
    " *il y a-t-il des valeurs manquants ?*"
   ]
  },
  {
   "cell_type": "code",
   "execution_count": 29,
   "id": "transparent-jonathan",
   "metadata": {},
   "outputs": [
    {
     "data": {
      "text/plain": [
       "school           False\n",
       "sex              False\n",
       "age              False\n",
       "address          False\n",
       "famsize          False\n",
       "Pstatus          False\n",
       "Medu             False\n",
       "Fedu             False\n",
       "Mjob             False\n",
       "Fjob             False\n",
       "reason           False\n",
       "guardian         False\n",
       "traveltime       False\n",
       "studytime        False\n",
       "failures         False\n",
       "schoolsup        False\n",
       "famsup           False\n",
       "paid             False\n",
       "activities       False\n",
       "nursery          False\n",
       "higher           False\n",
       "internet         False\n",
       "romantic         False\n",
       "famrel           False\n",
       "freetime         False\n",
       "goout            False\n",
       "Dalc             False\n",
       "Walc             False\n",
       "health           False\n",
       "absences         False\n",
       "G1               False\n",
       "G2               False\n",
       "G3               False\n",
       "finalResult      False\n",
       "academicGrade    False\n",
       "dtype: bool"
      ]
     },
     "execution_count": 29,
     "metadata": {},
     "output_type": "execute_result"
    }
   ],
   "source": [
    "df.isnull().any()"
   ]
  },
  {
   "cell_type": "markdown",
   "id": "hungarian-history",
   "metadata": {},
   "source": [
    " *  *identifier les valeur quantitatifs et qualitatifs*"
   ]
  },
  {
   "cell_type": "code",
   "execution_count": 30,
   "id": "cosmetic-massage",
   "metadata": {},
   "outputs": [
    {
     "name": "stdout",
     "output_type": "stream",
     "text": [
      "<class 'pandas.core.frame.DataFrame'>\n",
      "RangeIndex: 395 entries, 0 to 394\n",
      "Data columns (total 35 columns):\n",
      " #   Column         Non-Null Count  Dtype \n",
      "---  ------         --------------  ----- \n",
      " 0   school         395 non-null    object\n",
      " 1   sex            395 non-null    object\n",
      " 2   age            395 non-null    int64 \n",
      " 3   address        395 non-null    object\n",
      " 4   famsize        395 non-null    object\n",
      " 5   Pstatus        395 non-null    object\n",
      " 6   Medu           395 non-null    int64 \n",
      " 7   Fedu           395 non-null    int64 \n",
      " 8   Mjob           395 non-null    object\n",
      " 9   Fjob           395 non-null    object\n",
      " 10  reason         395 non-null    object\n",
      " 11  guardian       395 non-null    object\n",
      " 12  traveltime     395 non-null    int64 \n",
      " 13  studytime      395 non-null    int64 \n",
      " 14  failures       395 non-null    int64 \n",
      " 15  schoolsup      395 non-null    object\n",
      " 16  famsup         395 non-null    object\n",
      " 17  paid           395 non-null    object\n",
      " 18  activities     395 non-null    object\n",
      " 19  nursery        395 non-null    object\n",
      " 20  higher         395 non-null    object\n",
      " 21  internet       395 non-null    object\n",
      " 22  romantic       395 non-null    object\n",
      " 23  famrel         395 non-null    int64 \n",
      " 24  freetime       395 non-null    int64 \n",
      " 25  goout          395 non-null    int64 \n",
      " 26  Dalc           395 non-null    int64 \n",
      " 27  Walc           395 non-null    int64 \n",
      " 28  health         395 non-null    int64 \n",
      " 29  absences       395 non-null    int64 \n",
      " 30  G1             395 non-null    int64 \n",
      " 31  G2             395 non-null    int64 \n",
      " 32  G3             395 non-null    int64 \n",
      " 33  finalResult    395 non-null    object\n",
      " 34  academicGrade  395 non-null    object\n",
      "dtypes: int64(16), object(19)\n",
      "memory usage: 108.1+ KB\n"
     ]
    }
   ],
   "source": [
    "df.info()"
   ]
  },
  {
   "cell_type": "markdown",
   "id": "marine-custom",
   "metadata": {},
   "source": [
    "**Using as predictors the first 32 variables.**"
   ]
  },
  {
   "cell_type": "code",
   "execution_count": 31,
   "id": "suffering-offset",
   "metadata": {},
   "outputs": [
    {
     "data": {
      "text/html": [
       "<div>\n",
       "<style scoped>\n",
       "    .dataframe tbody tr th:only-of-type {\n",
       "        vertical-align: middle;\n",
       "    }\n",
       "\n",
       "    .dataframe tbody tr th {\n",
       "        vertical-align: top;\n",
       "    }\n",
       "\n",
       "    .dataframe thead th {\n",
       "        text-align: right;\n",
       "    }\n",
       "</style>\n",
       "<table border=\"1\" class=\"dataframe\">\n",
       "  <thead>\n",
       "    <tr style=\"text-align: right;\">\n",
       "      <th></th>\n",
       "      <th>school</th>\n",
       "      <th>sex</th>\n",
       "      <th>age</th>\n",
       "      <th>address</th>\n",
       "      <th>famsize</th>\n",
       "      <th>Pstatus</th>\n",
       "      <th>Medu</th>\n",
       "      <th>Fedu</th>\n",
       "      <th>Mjob</th>\n",
       "      <th>Fjob</th>\n",
       "      <th>...</th>\n",
       "      <th>romantic</th>\n",
       "      <th>famrel</th>\n",
       "      <th>freetime</th>\n",
       "      <th>goout</th>\n",
       "      <th>Dalc</th>\n",
       "      <th>Walc</th>\n",
       "      <th>health</th>\n",
       "      <th>absences</th>\n",
       "      <th>G1</th>\n",
       "      <th>G2</th>\n",
       "    </tr>\n",
       "  </thead>\n",
       "  <tbody>\n",
       "    <tr>\n",
       "      <th>0</th>\n",
       "      <td>GP</td>\n",
       "      <td>F</td>\n",
       "      <td>18</td>\n",
       "      <td>U</td>\n",
       "      <td>GT3</td>\n",
       "      <td>A</td>\n",
       "      <td>4</td>\n",
       "      <td>4</td>\n",
       "      <td>at_home</td>\n",
       "      <td>teacher</td>\n",
       "      <td>...</td>\n",
       "      <td>no</td>\n",
       "      <td>4</td>\n",
       "      <td>3</td>\n",
       "      <td>4</td>\n",
       "      <td>1</td>\n",
       "      <td>1</td>\n",
       "      <td>3</td>\n",
       "      <td>6</td>\n",
       "      <td>5</td>\n",
       "      <td>6</td>\n",
       "    </tr>\n",
       "    <tr>\n",
       "      <th>1</th>\n",
       "      <td>GP</td>\n",
       "      <td>F</td>\n",
       "      <td>17</td>\n",
       "      <td>U</td>\n",
       "      <td>GT3</td>\n",
       "      <td>T</td>\n",
       "      <td>1</td>\n",
       "      <td>1</td>\n",
       "      <td>at_home</td>\n",
       "      <td>other</td>\n",
       "      <td>...</td>\n",
       "      <td>no</td>\n",
       "      <td>5</td>\n",
       "      <td>3</td>\n",
       "      <td>3</td>\n",
       "      <td>1</td>\n",
       "      <td>1</td>\n",
       "      <td>3</td>\n",
       "      <td>4</td>\n",
       "      <td>5</td>\n",
       "      <td>5</td>\n",
       "    </tr>\n",
       "    <tr>\n",
       "      <th>2</th>\n",
       "      <td>GP</td>\n",
       "      <td>F</td>\n",
       "      <td>15</td>\n",
       "      <td>U</td>\n",
       "      <td>LE3</td>\n",
       "      <td>T</td>\n",
       "      <td>1</td>\n",
       "      <td>1</td>\n",
       "      <td>at_home</td>\n",
       "      <td>other</td>\n",
       "      <td>...</td>\n",
       "      <td>no</td>\n",
       "      <td>4</td>\n",
       "      <td>3</td>\n",
       "      <td>2</td>\n",
       "      <td>2</td>\n",
       "      <td>3</td>\n",
       "      <td>3</td>\n",
       "      <td>10</td>\n",
       "      <td>7</td>\n",
       "      <td>8</td>\n",
       "    </tr>\n",
       "    <tr>\n",
       "      <th>3</th>\n",
       "      <td>GP</td>\n",
       "      <td>F</td>\n",
       "      <td>15</td>\n",
       "      <td>U</td>\n",
       "      <td>GT3</td>\n",
       "      <td>T</td>\n",
       "      <td>4</td>\n",
       "      <td>2</td>\n",
       "      <td>health</td>\n",
       "      <td>services</td>\n",
       "      <td>...</td>\n",
       "      <td>yes</td>\n",
       "      <td>3</td>\n",
       "      <td>2</td>\n",
       "      <td>2</td>\n",
       "      <td>1</td>\n",
       "      <td>1</td>\n",
       "      <td>5</td>\n",
       "      <td>2</td>\n",
       "      <td>15</td>\n",
       "      <td>14</td>\n",
       "    </tr>\n",
       "    <tr>\n",
       "      <th>4</th>\n",
       "      <td>GP</td>\n",
       "      <td>F</td>\n",
       "      <td>16</td>\n",
       "      <td>U</td>\n",
       "      <td>GT3</td>\n",
       "      <td>T</td>\n",
       "      <td>3</td>\n",
       "      <td>3</td>\n",
       "      <td>other</td>\n",
       "      <td>other</td>\n",
       "      <td>...</td>\n",
       "      <td>no</td>\n",
       "      <td>4</td>\n",
       "      <td>3</td>\n",
       "      <td>2</td>\n",
       "      <td>1</td>\n",
       "      <td>2</td>\n",
       "      <td>5</td>\n",
       "      <td>4</td>\n",
       "      <td>6</td>\n",
       "      <td>10</td>\n",
       "    </tr>\n",
       "  </tbody>\n",
       "</table>\n",
       "<p>5 rows × 32 columns</p>\n",
       "</div>"
      ],
      "text/plain": [
       "  school sex  age address famsize Pstatus  Medu  Fedu     Mjob      Fjob  ...  \\\n",
       "0     GP   F   18       U     GT3       A     4     4  at_home   teacher  ...   \n",
       "1     GP   F   17       U     GT3       T     1     1  at_home     other  ...   \n",
       "2     GP   F   15       U     LE3       T     1     1  at_home     other  ...   \n",
       "3     GP   F   15       U     GT3       T     4     2   health  services  ...   \n",
       "4     GP   F   16       U     GT3       T     3     3    other     other  ...   \n",
       "\n",
       "  romantic famrel  freetime  goout  Dalc Walc health absences  G1  G2  \n",
       "0       no      4         3      4     1    1      3        6   5   6  \n",
       "1       no      5         3      3     1    1      3        4   5   5  \n",
       "2       no      4         3      2     2    3      3       10   7   8  \n",
       "3      yes      3         2      2     1    1      5        2  15  14  \n",
       "4       no      4         3      2     1    2      5        4   6  10  \n",
       "\n",
       "[5 rows x 32 columns]"
      ]
     },
     "execution_count": 31,
     "metadata": {},
     "output_type": "execute_result"
    }
   ],
   "source": [
    "from sklearn.model_selection import train_test_split\n",
    "\n",
    "data_y = df['finalResult']\n",
    "data_x = df.drop(['finalResult','G3','academicGrade'], axis = 1)\n",
    "\n",
    "x_train,x_test,y_train,y_test = train_test_split(data_x,data_y,test_size=0.30)\n",
    "\n",
    "data_x.head()"
   ]
  },
  {
   "cell_type": "markdown",
   "id": "apparent-sending",
   "metadata": {},
   "source": [
    "**Preprocessing**"
   ]
  },
  {
   "cell_type": "code",
   "execution_count": 32,
   "id": "living-removal",
   "metadata": {},
   "outputs": [],
   "source": [
    "from sklearn.compose import ColumnTransformer\n",
    "from sklearn.pipeline import Pipeline\n",
    "from sklearn.impute import SimpleImputer\n",
    "from sklearn.preprocessing import MinMaxScaler\n",
    "from sklearn.preprocessing import OneHotEncoder\n",
    "\n",
    "qualitative_var = [\"school\",\"sex\",\"address\",\"famsize\",\"Pstatus\",\"Mjob\",\"Fjob\",\"reason\",\"guardian\",\"schoolsup\",\"famsup\",\"paid\",\"activities\",\"nursery\",\"higher\",\"internet\",\"romantic\"]\n",
    "quantitative_var = ['age','Medu','Fedu','traveltime','studytime','failures','famrel','freetime','goout','Dalc','Walc','health','absences','G1','G2']\n",
    "# to_remove = ['G3','academicGrade']\n",
    "\n",
    "#vu que academicGrade et finalResult sont issus de G3, cela n'a pas de sens de les avoir dans le Model\n",
    "\n",
    "qualitative_pipeline = Pipeline([\n",
    "     ('encoder', OneHotEncoder(drop = 'first'))\n",
    "])\n",
    "\n",
    "quantitative_pipeline = Pipeline([\n",
    "     ('min_max_scaler', MinMaxScaler())\n",
    "])\n",
    " \n",
    "preprocessor = ColumnTransformer(remainder='passthrough',\n",
    "                                 transformers=[\n",
    "                                   ('transform_quantitatif',qualitative_pipeline, qualitative_var),\n",
    "                                    ('transform_qualitatif',quantitative_pipeline,quantitative_var),\n",
    "#                                      ('remove', 'drop', to_remove)\n",
    "                                 ])"
   ]
  },
  {
   "cell_type": "markdown",
   "id": "gross-support",
   "metadata": {},
   "source": [
    "<h3>K-NearestNeighbors</h3> "
   ]
  },
  {
   "cell_type": "code",
   "execution_count": 33,
   "id": "fallen-exhibition",
   "metadata": {},
   "outputs": [
    {
     "data": {
      "text/plain": [
       "GridSearchCV(cv=3,\n",
       "             estimator=Pipeline(steps=[('preprocess',\n",
       "                                        ColumnTransformer(remainder='passthrough',\n",
       "                                                          transformers=[('transform_quantitatif',\n",
       "                                                                         Pipeline(steps=[('encoder',\n",
       "                                                                                          OneHotEncoder(drop='first'))]),\n",
       "                                                                         ['school',\n",
       "                                                                          'sex',\n",
       "                                                                          'address',\n",
       "                                                                          'famsize',\n",
       "                                                                          'Pstatus',\n",
       "                                                                          'Mjob',\n",
       "                                                                          'Fjob',\n",
       "                                                                          'reason',\n",
       "                                                                          'guardian',\n",
       "                                                                          'schoolsup',\n",
       "                                                                          'famsup',\n",
       "                                                                          'paid',\n",
       "                                                                          'activities',\n",
       "                                                                          'nursery',\n",
       "                                                                          'higher',\n",
       "                                                                          'internet',\n",
       "                                                                          'romantic']),\n",
       "                                                                        ('transform_qualitatif',\n",
       "                                                                         Pipeline(steps=[('min_max_scaler',\n",
       "                                                                                          MinMaxScaler())]),\n",
       "                                                                         ['age',\n",
       "                                                                          'Medu',\n",
       "                                                                          'Fedu',\n",
       "                                                                          'traveltime',\n",
       "                                                                          'studytime',\n",
       "                                                                          'failures',\n",
       "                                                                          'famrel',\n",
       "                                                                          'freetime',\n",
       "                                                                          'goout',\n",
       "                                                                          'Dalc',\n",
       "                                                                          'Walc',\n",
       "                                                                          'health',\n",
       "                                                                          'absences',\n",
       "                                                                          'G1',\n",
       "                                                                          'G2'])])),\n",
       "                                       ('KNN', KNeighborsClassifier())]),\n",
       "             param_grid={'KNN__n_neighbors': [2, 3, 4, 5],\n",
       "                         'KNN__p': [1, 2, 3, 4],\n",
       "                         'KNN__weights': ['uniform', 'distance']})"
      ]
     },
     "execution_count": 33,
     "metadata": {},
     "output_type": "execute_result"
    }
   ],
   "source": [
    "from sklearn.neighbors import KNeighborsClassifier\n",
    "from sklearn.model_selection import GridSearchCV\n",
    "\n",
    "KNN = Pipeline(\n",
    "    steps=[(\"preprocess\",preprocessor),\n",
    "           (\"KNN\",KNeighborsClassifier())])\n",
    "\n",
    "hyperKNN = {'KNN__n_neighbors':[2,3,4,5],'KNN__p':[1,2,3,4],'KNN__weights':['uniform','distance']}\n",
    "gridKNN = GridSearchCV(KNN,hyperKNN,cv=3)\n",
    "\n",
    "gridKNN.fit(x_train,y_train)"
   ]
  },
  {
   "cell_type": "code",
   "execution_count": 34,
   "id": "developmental-sword",
   "metadata": {},
   "outputs": [
    {
     "name": "stdout",
     "output_type": "stream",
     "text": [
      "KNeighbors Classifier Score : 0.6554621848739496\n"
     ]
    }
   ],
   "source": [
    "print('KNeighbors Classifier Score :',gridKNN.best_estimator_.score(x_test,y_test))"
   ]
  },
  {
   "cell_type": "markdown",
   "id": "documentary-participant",
   "metadata": {},
   "source": [
    " * <h4>confusion matrix, precision, recall ,F1 score.</h4>"
   ]
  },
  {
   "cell_type": "code",
   "execution_count": 35,
   "id": "smaller-donor",
   "metadata": {},
   "outputs": [],
   "source": [
    "from sklearn.metrics import f1_score\n",
    "from sklearn.metrics import precision_score\n",
    "from sklearn.metrics import recall_score\n",
    "from sklearn.metrics import confusion_matrix, ConfusionMatrixDisplay\n",
    "\n",
    "#pour evaluer les resultats je fais une prediction sur mes donnees de x_test et \n",
    "result = gridKNN.best_estimator_.predict(x_test)\n"
   ]
  },
  {
   "attachments": {
    "55e38317-4cb6-4c93-9bf1-f3ed4213cd7f.png": {
     "image/png": "[encoded data removed]"
    }
   },
   "cell_type": "markdown",
   "id": "alpha-arrangement",
   "metadata": {},
   "source": [
    "![image.png](attachment:55e38317-4cb6-4c93-9bf1-f3ed4213cd7f.png)!"
   ]
  },
  {
   "cell_type": "code",
   "execution_count": 36,
   "id": "close-accuracy",
   "metadata": {},
   "outputs": [
    {
     "data": {
      "text/plain": [
       "<sklearn.metrics._plot.confusion_matrix.ConfusionMatrixDisplay at 0x7f883f1ee760>"
      ]
     },
     "execution_count": 36,
     "metadata": {},
     "output_type": "execute_result"
    },
    {
     "data": {
      "image/png": "[encoded data removed]",
      "text/plain": [
       "<Figure size 432x288 with 2 Axes>"
      ]
     },
     "metadata": {
      "needs_background": "light"
     },
     "output_type": "display_data"
    }
   ],
   "source": [
    "confusion_m = confusion_matrix(result, y_test)\n",
    "ConfusionMatrixDisplay(confusion_m).plot()"
   ]
  },
  {
   "attachments": {
    "7a4e7467-2bac-4be5-99cf-d17a03be6863.png": {
     "image/png": "[encoded data removed]"
    }
   },
   "cell_type": "markdown",
   "id": "cooked-hawaiian",
   "metadata": {},
   "source": [
    "![image.png](attachment:7a4e7467-2bac-4be5-99cf-d17a03be6863.png)\n",
    "parmi les positifs prédits, pourcentage de vrais positifs"
   ]
  },
  {
   "cell_type": "code",
   "execution_count": 60,
   "id": "correct-margin",
   "metadata": {},
   "outputs": [
    {
     "name": "stdout",
     "output_type": "stream",
     "text": [
      "KNeighbors Classifier Precision Score : 0.7990990990990992\n"
     ]
    }
   ],
   "source": [
    "print('KNeighbors Classifier Precision Score :',precision_score(result,y_test,average='macro'))"
   ]
  },
  {
   "attachments": {
    "946ec16a-0125-423d-887b-6d362d0479f4.png": {
     "image/png": "[encoded data removed]"
    }
   },
   "cell_type": "markdown",
   "id": "needed-income",
   "metadata": {},
   "source": [
    "![image.png](attachment:946ec16a-0125-423d-887b-6d362d0479f4.png)"
   ]
  },
  {
   "cell_type": "markdown",
   "id": "gorgeous-cheese",
   "metadata": {},
   "source": [
    "parmi le total de positives, c'est le pourcentage de positives prédits"
   ]
  },
  {
   "cell_type": "code",
   "execution_count": 61,
   "id": "large-helen",
   "metadata": {},
   "outputs": [
    {
     "name": "stdout",
     "output_type": "stream",
     "text": [
      "KNeighbors Classifier Recall Score : 0.8047735618115055\n"
     ]
    }
   ],
   "source": [
    "print('KNeighbors Classifier Recall Score :',recall_score(result,y_test,average='macro'))"
   ]
  },
  {
   "attachments": {
    "26bc0ea3-0ed9-4772-b92f-abde2cc46017.png": {
     "image/png": "[encoded data removed]"
    }
   },
   "cell_type": "markdown",
   "id": "adult-meaning",
   "metadata": {},
   "source": [
    "![image.png](attachment:26bc0ea3-0ed9-4772-b92f-abde2cc46017.png)\n",
    "f1 score represente la moyenne harmonique du recall et de la precision"
   ]
  },
  {
   "cell_type": "code",
   "execution_count": 63,
   "id": "static-render",
   "metadata": {},
   "outputs": [
    {
     "name": "stdout",
     "output_type": "stream",
     "text": [
      "KNeighbors Classifier F1 Score : 0.8016666666666666\n"
     ]
    }
   ],
   "source": [
    "print('KNeighbors Classifier F1 Score :',f1_score(result,y_test,average='macro'))"
   ]
  },
  {
   "cell_type": "markdown",
   "id": "valuable-allergy",
   "metadata": {},
   "source": [
    "<h3>Support Vector Machine classifier.</h3> "
   ]
  },
  {
   "cell_type": "code",
   "execution_count": 40,
   "id": "electric-nursing",
   "metadata": {},
   "outputs": [
    {
     "data": {
      "text/plain": [
       "GridSearchCV(cv=3,\n",
       "             estimator=Pipeline(steps=[('preprocess',\n",
       "                                        ColumnTransformer(remainder='passthrough',\n",
       "                                                          transformers=[('transform_quantitatif',\n",
       "                                                                         Pipeline(steps=[('encoder',\n",
       "                                                                                          OneHotEncoder(drop='first'))]),\n",
       "                                                                         ['school',\n",
       "                                                                          'sex',\n",
       "                                                                          'address',\n",
       "                                                                          'famsize',\n",
       "                                                                          'Pstatus',\n",
       "                                                                          'Mjob',\n",
       "                                                                          'Fjob',\n",
       "                                                                          'reason',\n",
       "                                                                          'guardian',\n",
       "                                                                          'schoolsup',\n",
       "                                                                          'famsup',\n",
       "                                                                          'paid',\n",
       "                                                                          'activities',\n",
       "                                                                          'nursery',\n",
       "                                                                          'higher',\n",
       "                                                                          'internet',\n",
       "                                                                          'r...,\n",
       "                                                                        ('transform_qualitatif',\n",
       "                                                                         Pipeline(steps=[('min_max_scaler',\n",
       "                                                                                          MinMaxScaler())]),\n",
       "                                                                         ['age',\n",
       "                                                                          'Medu',\n",
       "                                                                          'Fedu',\n",
       "                                                                          'traveltime',\n",
       "                                                                          'studytime',\n",
       "                                                                          'failures',\n",
       "                                                                          'famrel',\n",
       "                                                                          'freetime',\n",
       "                                                                          'goout',\n",
       "                                                                          'Dalc',\n",
       "                                                                          'Walc',\n",
       "                                                                          'health',\n",
       "                                                                          'absences',\n",
       "                                                                          'G1',\n",
       "                                                                          'G2'])])),\n",
       "                                       ('SVM', SVC())]),\n",
       "             param_grid={'SVM__C': [1, 2, 3],\n",
       "                         'SVM__decision_function_shape': ['ovo', 'ovr'],\n",
       "                         'SVM__kernel': ['linear', 'poly', 'rbf', 'sigmoid']})"
      ]
     },
     "execution_count": 40,
     "metadata": {},
     "output_type": "execute_result"
    }
   ],
   "source": [
    "from sklearn.svm import SVC\n",
    "from sklearn.model_selection import GridSearchCV\n",
    "\n",
    "SVM = Pipeline(\n",
    "    steps=[(\"preprocess\",preprocessor),\n",
    "           (\"SVM\",SVC())])\n",
    "\n",
    "hyperSVM = {'SVM__C':[1,2,3],'SVM__kernel':['linear', 'poly', 'rbf', 'sigmoid'],'SVM__decision_function_shape':['ovo','ovr']}\n",
    "gridSVM = GridSearchCV(SVM,hyperSVM,cv=3)\n",
    "\n",
    "gridSVM.fit(x_train,y_train)\n"
   ]
  },
  {
   "cell_type": "code",
   "execution_count": 41,
   "id": "arbitrary-movement",
   "metadata": {},
   "outputs": [
    {
     "name": "stdout",
     "output_type": "stream",
     "text": [
      "Support Vector Machine Score : 0.7983193277310925\n"
     ]
    }
   ],
   "source": [
    "print('Support Vector Machine Score :',gridSVM.best_estimator_.score(x_test,y_test))"
   ]
  },
  {
   "cell_type": "markdown",
   "id": "according-swimming",
   "metadata": {},
   "source": [
    " * <h4>confusion matrix, precision, recall ,F1 score.</h4>"
   ]
  },
  {
   "cell_type": "code",
   "execution_count": 42,
   "id": "stunning-basketball",
   "metadata": {},
   "outputs": [],
   "source": [
    "from sklearn.metrics import f1_score\n",
    "from sklearn.metrics import precision_score\n",
    "from sklearn.metrics import recall_score\n",
    "from sklearn.metrics import confusion_matrix, ConfusionMatrixDisplay\n",
    "\n",
    "#pour evaluer les resultats je fais une prediction sur mes donnees de x_test et \n",
    "result = gridSVM.best_estimator_.predict(x_test)\n"
   ]
  },
  {
   "cell_type": "code",
   "execution_count": 43,
   "id": "together-button",
   "metadata": {},
   "outputs": [
    {
     "data": {
      "text/plain": [
       "<sklearn.metrics._plot.confusion_matrix.ConfusionMatrixDisplay at 0x7f8838fc0730>"
      ]
     },
     "execution_count": 43,
     "metadata": {},
     "output_type": "execute_result"
    },
    {
     "data": {
      "image/png": "[encoded data removed]",
      "text/plain": [
       "<Figure size 432x288 with 2 Axes>"
      ]
     },
     "metadata": {
      "needs_background": "light"
     },
     "output_type": "display_data"
    }
   ],
   "source": [
    "confusion_m = confusion_matrix(result, y_test)\n",
    "ConfusionMatrixDisplay(confusion_m).plot()"
   ]
  },
  {
   "attachments": {
    "7a4e7467-2bac-4be5-99cf-d17a03be6863.png": {
     "image/png": "[encoded data removed]"
    }
   },
   "cell_type": "markdown",
   "id": "small-navigator",
   "metadata": {},
   "source": [
    "![image.png](attachment:7a4e7467-2bac-4be5-99cf-d17a03be6863.png)\n",
    "parmi les positifs prédits, pourcentage de vrais positifs"
   ]
  },
  {
   "cell_type": "code",
   "execution_count": 64,
   "id": "unexpected-second",
   "metadata": {},
   "outputs": [
    {
     "name": "stdout",
     "output_type": "stream",
     "text": [
      "Support Vector Machine Precision Score : 0.7990990990990992\n"
     ]
    }
   ],
   "source": [
    "print('Support Vector Machine Precision Score :',precision_score(result,y_test,average='macro'))"
   ]
  },
  {
   "cell_type": "markdown",
   "id": "olive-assault",
   "metadata": {},
   "source": [
    "parmi le total de positives, c'est le pourcentage de positives prédits"
   ]
  },
  {
   "cell_type": "code",
   "execution_count": 66,
   "id": "veterinary-pearl",
   "metadata": {},
   "outputs": [
    {
     "name": "stdout",
     "output_type": "stream",
     "text": [
      "Support Vector Machine Recall Score : 0.8047735618115055\n"
     ]
    }
   ],
   "source": [
    "print('Support Vector Machine Recall Score :',recall_score(result,y_test,average='macro'))"
   ]
  },
  {
   "cell_type": "code",
   "execution_count": 65,
   "id": "smoking-algorithm",
   "metadata": {},
   "outputs": [
    {
     "name": "stdout",
     "output_type": "stream",
     "text": [
      "Support Vector Machine F1 Score : 0.8016666666666666\n"
     ]
    }
   ],
   "source": [
    "print('Support Vector Machine F1 Score :',f1_score(result,y_test,average='macro'))"
   ]
  },
  {
   "cell_type": "code",
   "execution_count": 47,
   "id": "growing-asset",
   "metadata": {},
   "outputs": [],
   "source": [
    "from sklearn.discriminant_analysis import LinearDiscriminantAnalysis\n",
    "from sklearn.model_selection import GridSearchCV"
   ]
  },
  {
   "cell_type": "markdown",
   "id": "inappropriate-moses",
   "metadata": {},
   "source": [
    "<h3> Linear Discriminant Analysis classifier.</h3> "
   ]
  },
  {
   "cell_type": "code",
   "execution_count": 48,
   "id": "deadly-holder",
   "metadata": {},
   "outputs": [
    {
     "data": {
      "text/plain": [
       "GridSearchCV(cv=3,\n",
       "             estimator=Pipeline(steps=[('preprocess',\n",
       "                                        ColumnTransformer(remainder='passthrough',\n",
       "                                                          transformers=[('transform_quantitatif',\n",
       "                                                                         Pipeline(steps=[('encoder',\n",
       "                                                                                          OneHotEncoder(drop='first'))]),\n",
       "                                                                         ['school',\n",
       "                                                                          'sex',\n",
       "                                                                          'address',\n",
       "                                                                          'famsize',\n",
       "                                                                          'Pstatus',\n",
       "                                                                          'Mjob',\n",
       "                                                                          'Fjob',\n",
       "                                                                          'reason',\n",
       "                                                                          'guardian',\n",
       "                                                                          'schoolsup',\n",
       "                                                                          'famsup',\n",
       "                                                                          'paid',\n",
       "                                                                          'activities',\n",
       "                                                                          'nursery',\n",
       "                                                                          'higher',\n",
       "                                                                          'internet',\n",
       "                                                                          'romantic']),\n",
       "                                                                        ('transform_qualitatif',\n",
       "                                                                         Pipeline(steps=[('min_max_scaler',\n",
       "                                                                                          MinMaxScaler())]),\n",
       "                                                                         ['age',\n",
       "                                                                          'Medu',\n",
       "                                                                          'Fedu',\n",
       "                                                                          'traveltime',\n",
       "                                                                          'studytime',\n",
       "                                                                          'failures',\n",
       "                                                                          'famrel',\n",
       "                                                                          'freetime',\n",
       "                                                                          'goout',\n",
       "                                                                          'Dalc',\n",
       "                                                                          'Walc',\n",
       "                                                                          'health',\n",
       "                                                                          'absences',\n",
       "                                                                          'G1',\n",
       "                                                                          'G2'])])),\n",
       "                                       ('LDA', LinearDiscriminantAnalysis())]),\n",
       "             param_grid={'LDA__solver': ['svd', 'lsqr', 'eigen'],\n",
       "                         'LDA__store_covariance': ['True', 'False']})"
      ]
     },
     "execution_count": 48,
     "metadata": {},
     "output_type": "execute_result"
    }
   ],
   "source": [
    "from sklearn.discriminant_analysis import LinearDiscriminantAnalysis\n",
    "from sklearn.model_selection import GridSearchCV\n",
    "\n",
    "LDA = Pipeline(\n",
    "    steps=[(\"preprocess\",preprocessor),\n",
    "           (\"LDA\",LinearDiscriminantAnalysis())])\n",
    "\n",
    "hyperLDA = {'LDA__solver':['svd', 'lsqr', 'eigen'],'LDA__store_covariance':['True','False']}\n",
    "gridLDA = GridSearchCV(LDA,hyperLDA,cv=3)\n",
    "\n",
    "gridLDA.fit(x_train,y_train)\n"
   ]
  },
  {
   "cell_type": "code",
   "execution_count": 49,
   "id": "double-patrol",
   "metadata": {},
   "outputs": [
    {
     "data": {
      "text/plain": [
       "dict_keys(['covariance_estimator', 'n_components', 'priors', 'shrinkage', 'solver', 'store_covariance', 'tol'])"
      ]
     },
     "execution_count": 49,
     "metadata": {},
     "output_type": "execute_result"
    }
   ],
   "source": [
    "LinearDiscriminantAnalysis().get_params().keys() "
   ]
  },
  {
   "cell_type": "code",
   "execution_count": 50,
   "id": "distributed-server",
   "metadata": {},
   "outputs": [
    {
     "name": "stdout",
     "output_type": "stream",
     "text": [
      "Linear Discriminant Analysis Score : 0.8151260504201681\n"
     ]
    }
   ],
   "source": [
    "print('Linear Discriminant Analysis Score :',gridLDA.best_estimator_.score(x_test,y_test))"
   ]
  },
  {
   "cell_type": "markdown",
   "id": "legendary-frontier",
   "metadata": {},
   "source": [
    " * <h4>confusion matrix, precision, recall ,F1 score.</h4>"
   ]
  },
  {
   "cell_type": "code",
   "execution_count": 51,
   "id": "entire-consensus",
   "metadata": {},
   "outputs": [],
   "source": [
    "#pour evaluer les resultats je fais une prediction sur mes donnees de x_test et \n",
    "result = gridLDA.best_estimator_.predict(x_test)\n"
   ]
  },
  {
   "cell_type": "code",
   "execution_count": 52,
   "id": "handed-reservoir",
   "metadata": {},
   "outputs": [
    {
     "data": {
      "text/plain": [
       "<sklearn.metrics._plot.confusion_matrix.ConfusionMatrixDisplay at 0x7f8838f5ca30>"
      ]
     },
     "execution_count": 52,
     "metadata": {},
     "output_type": "execute_result"
    },
    {
     "data": {
      "image/png": "[encoded data removed]",
      "text/plain": [
       "<Figure size 432x288 with 2 Axes>"
      ]
     },
     "metadata": {
      "needs_background": "light"
     },
     "output_type": "display_data"
    }
   ],
   "source": [
    "confusion_m = confusion_matrix(result, y_test)\n",
    "ConfusionMatrixDisplay(confusion_m).plot()"
   ]
  },
  {
   "cell_type": "code",
   "execution_count": 67,
   "id": "physical-particular",
   "metadata": {},
   "outputs": [
    {
     "name": "stdout",
     "output_type": "stream",
     "text": [
      "Linear Discriminant Analysis Precision Score : 0.7990990990990992\n"
     ]
    }
   ],
   "source": [
    "print('Linear Discriminant Analysis Precision Score :',precision_score(result,y_test,average='macro'))"
   ]
  },
  {
   "cell_type": "markdown",
   "id": "cutting-avatar",
   "metadata": {},
   "source": [
    "parmi le total de positives, c'est le pourcentage de positives prédits"
   ]
  },
  {
   "cell_type": "code",
   "execution_count": 68,
   "id": "generic-station",
   "metadata": {},
   "outputs": [
    {
     "name": "stdout",
     "output_type": "stream",
     "text": [
      "Linear Discriminant Analysis Recall Score : 0.8047735618115055\n"
     ]
    }
   ],
   "source": [
    "print('Linear Discriminant Analysis Recall Score :',recall_score(result,y_test,average='macro'))"
   ]
  },
  {
   "cell_type": "code",
   "execution_count": 69,
   "id": "heavy-ceramic",
   "metadata": {},
   "outputs": [
    {
     "name": "stdout",
     "output_type": "stream",
     "text": [
      "Linear Discriminant Analysis F1 Score : 0.8016666666666666\n"
     ]
    }
   ],
   "source": [
    "print('Linear Discriminant Analysis F1 Score :',f1_score(result,y_test,average='macro'))"
   ]
  },
  {
   "cell_type": "markdown",
   "id": "anonymous-keeping",
   "metadata": {},
   "source": [
    "<h3> Logistic Regression classifier.</h3> "
   ]
  },
  {
   "cell_type": "code",
   "execution_count": 70,
   "id": "multiple-architecture",
   "metadata": {},
   "outputs": [
    {
     "name": "stderr",
     "output_type": "stream",
     "text": [
      "/home/celso/.local/lib/python3.9/site-packages/sklearn/linear_model/_sag.py:328: ConvergenceWarning: The max_iter was reached which means the coef_ did not converge\n",
      "  warnings.warn(\"The max_iter was reached which means \"\n",
      "/home/celso/.local/lib/python3.9/site-packages/sklearn/linear_model/_sag.py:328: ConvergenceWarning: The max_iter was reached which means the coef_ did not converge\n",
      "  warnings.warn(\"The max_iter was reached which means \"\n",
      "/home/celso/.local/lib/python3.9/site-packages/sklearn/linear_model/_sag.py:328: ConvergenceWarning: The max_iter was reached which means the coef_ did not converge\n",
      "  warnings.warn(\"The max_iter was reached which means \"\n"
     ]
    },
    {
     "data": {
      "text/plain": [
       "GridSearchCV(cv=3,\n",
       "             estimator=Pipeline(steps=[('preprocess',\n",
       "                                        ColumnTransformer(remainder='passthrough',\n",
       "                                                          transformers=[('transform_quantitatif',\n",
       "                                                                         Pipeline(steps=[('encoder',\n",
       "                                                                                          OneHotEncoder(drop='first'))]),\n",
       "                                                                         ['school',\n",
       "                                                                          'sex',\n",
       "                                                                          'address',\n",
       "                                                                          'famsize',\n",
       "                                                                          'Pstatus',\n",
       "                                                                          'Mjob',\n",
       "                                                                          'Fjob',\n",
       "                                                                          'reason',\n",
       "                                                                          'guardian',\n",
       "                                                                          'schoolsup',\n",
       "                                                                          'famsup',\n",
       "                                                                          'paid',\n",
       "                                                                          'activities',\n",
       "                                                                          'nursery',\n",
       "                                                                          'higher',\n",
       "                                                                          'internet',\n",
       "                                                                          'romantic']),\n",
       "                                                                        ('transform_qualitatif',\n",
       "                                                                         Pipeline(steps=[('min_max_scaler',\n",
       "                                                                                          MinMaxScaler())]),\n",
       "                                                                         ['age',\n",
       "                                                                          'Medu',\n",
       "                                                                          'Fedu',\n",
       "                                                                          'traveltime',\n",
       "                                                                          'studytime',\n",
       "                                                                          'failures',\n",
       "                                                                          'famrel',\n",
       "                                                                          'freetime',\n",
       "                                                                          'goout',\n",
       "                                                                          'Dalc',\n",
       "                                                                          'Walc',\n",
       "                                                                          'health',\n",
       "                                                                          'absences',\n",
       "                                                                          'G1',\n",
       "                                                                          'G2'])])),\n",
       "                                       ('LR', LogisticRegression())]),\n",
       "             param_grid={'LR__max_iter': [100, 200, 300],\n",
       "                         'LR__solver': ['newton-cg', 'lbfgs', 'liblinear',\n",
       "                                        'sag', 'saga']})"
      ]
     },
     "execution_count": 70,
     "metadata": {},
     "output_type": "execute_result"
    }
   ],
   "source": [
    "from sklearn.linear_model import LogisticRegression\n",
    "from sklearn.model_selection import GridSearchCV\n",
    "\n",
    "LR = Pipeline(\n",
    "    steps=[(\"preprocess\",preprocessor),\n",
    "           (\"LR\",LogisticRegression())])\n",
    "\n",
    "hyperLR = {'LR__solver':['newton-cg', 'lbfgs', 'liblinear', 'sag', 'saga'],'LR__max_iter':[100,200,300]}\n",
    "gridLR = GridSearchCV(LR,hyperLR,cv=3)\n",
    "\n",
    "gridLR.fit(x_train,y_train)"
   ]
  },
  {
   "cell_type": "code",
   "execution_count": 57,
   "id": "clear-evans",
   "metadata": {},
   "outputs": [
    {
     "data": {
      "text/plain": [
       "{'LR__max_iter': 100, 'LR__solver': 'newton-cg'}"
      ]
     },
     "execution_count": 57,
     "metadata": {},
     "output_type": "execute_result"
    }
   ],
   "source": [
    "gridLR.best_params_ "
   ]
  },
  {
   "cell_type": "code",
   "execution_count": 71,
   "id": "operating-burst",
   "metadata": {},
   "outputs": [
    {
     "name": "stdout",
     "output_type": "stream",
     "text": [
      "Logistic Regression Score : 0.8235294117647058\n"
     ]
    }
   ],
   "source": [
    "print('Logistic Regression Score :',gridLR.best_estimator_.score(x_test,y_test))"
   ]
  },
  {
   "cell_type": "markdown",
   "id": "naval-northwest",
   "metadata": {},
   "source": [
    " * <h4>confusion matrix, precision, recall ,F1 score.</h4>"
   ]
  },
  {
   "cell_type": "code",
   "execution_count": 72,
   "id": "essential-serbia",
   "metadata": {},
   "outputs": [],
   "source": [
    "result = gridLR.best_estimator_.predict(x_test)"
   ]
  },
  {
   "cell_type": "code",
   "execution_count": 73,
   "id": "divine-colorado",
   "metadata": {},
   "outputs": [
    {
     "data": {
      "text/plain": [
       "<sklearn.metrics._plot.confusion_matrix.ConfusionMatrixDisplay at 0x7f8838f214c0>"
      ]
     },
     "execution_count": 73,
     "metadata": {},
     "output_type": "execute_result"
    },
    {
     "data": {
      "image/png": "[encoded data removed]",
      "text/plain": [
       "<Figure size 432x288 with 2 Axes>"
      ]
     },
     "metadata": {
      "needs_background": "light"
     },
     "output_type": "display_data"
    }
   ],
   "source": [
    "confusion_m = confusion_matrix(result, y_test)\n",
    "ConfusionMatrixDisplay(confusion_m).plot()"
   ]
  },
  {
   "cell_type": "code",
   "execution_count": 74,
   "id": "geological-dealing",
   "metadata": {},
   "outputs": [
    {
     "name": "stdout",
     "output_type": "stream",
     "text": [
      "Logistic Regression Precision score: 0.7927927927927928\n"
     ]
    }
   ],
   "source": [
    "print('Logistic Regression Precision score:',precision_score(result,y_test.array,average='macro'))"
   ]
  },
  {
   "cell_type": "markdown",
   "id": "blocked-korean",
   "metadata": {},
   "source": [
    "parmi le total de positives, c'est le pourcentage de positives prédits"
   ]
  },
  {
   "cell_type": "code",
   "execution_count": 75,
   "id": "interested-latitude",
   "metadata": {},
   "outputs": [
    {
     "name": "stdout",
     "output_type": "stream",
     "text": [
      "Logistic Regression Recall score: 0.8263052208835342\n"
     ]
    }
   ],
   "source": [
    "print('Logistic Regression Recall score:',recall_score(result,y_test,average='macro'))"
   ]
  },
  {
   "cell_type": "code",
   "execution_count": 77,
   "id": "neither-silver",
   "metadata": {},
   "outputs": [
    {
     "name": "stdout",
     "output_type": "stream",
     "text": [
      "Logistic Regression F1 score: 0.8034913894786506\n"
     ]
    }
   ],
   "source": [
    "print('Logistic Regression F1 score:',f1_score(result,y_test,average='macro'))"
   ]
  },
  {
   "cell_type": "markdown",
   "id": "emotional-italic",
   "metadata": {},
   "source": [
    "<h3>Decision Tree classifier.</h3> "
   ]
  },
  {
   "cell_type": "code",
   "execution_count": 85,
   "id": "strange-floor",
   "metadata": {},
   "outputs": [
    {
     "data": {
      "text/plain": [
       "GridSearchCV(cv=3,\n",
       "             estimator=Pipeline(steps=[('preprocess',\n",
       "                                        ColumnTransformer(remainder='passthrough',\n",
       "                                                          transformers=[('transform_quantitatif',\n",
       "                                                                         Pipeline(steps=[('encoder',\n",
       "                                                                                          OneHotEncoder(drop='first'))]),\n",
       "                                                                         ['school',\n",
       "                                                                          'sex',\n",
       "                                                                          'address',\n",
       "                                                                          'famsize',\n",
       "                                                                          'Pstatus',\n",
       "                                                                          'Mjob',\n",
       "                                                                          'Fjob',\n",
       "                                                                          'reason',\n",
       "                                                                          'guardian',\n",
       "                                                                          'schoolsup',\n",
       "                                                                          'famsup',\n",
       "                                                                          'paid',\n",
       "                                                                          'activities',\n",
       "                                                                          'nursery',\n",
       "                                                                          'higher',\n",
       "                                                                          'internet',\n",
       "                                                                          'r...c']),\n",
       "                                                                        ('transform_qualitatif',\n",
       "                                                                         Pipeline(steps=[('min_max_scaler',\n",
       "                                                                                          MinMaxScaler())]),\n",
       "                                                                         ['age',\n",
       "                                                                          'Medu',\n",
       "                                                                          'Fedu',\n",
       "                                                                          'traveltime',\n",
       "                                                                          'studytime',\n",
       "                                                                          'failures',\n",
       "                                                                          'famrel',\n",
       "                                                                          'freetime',\n",
       "                                                                          'goout',\n",
       "                                                                          'Dalc',\n",
       "                                                                          'Walc',\n",
       "                                                                          'health',\n",
       "                                                                          'absences',\n",
       "                                                                          'G1',\n",
       "                                                                          'G2'])])),\n",
       "                                       ('tree',\n",
       "                                        DecisionTreeClassifier(random_state=0))]),\n",
       "             param_grid={'tree__criterion': ('gini', 'entropy'),\n",
       "                         'tree__splitter': ['best', 'random']})"
      ]
     },
     "execution_count": 85,
     "metadata": {},
     "output_type": "execute_result"
    }
   ],
   "source": [
    "from sklearn.tree import DecisionTreeClassifier\n",
    "\n",
    "tree = Pipeline(\n",
    "    steps=[(\"preprocess\",preprocessor),\n",
    "           (\"tree\",DecisionTreeClassifier(random_state=0))])\n",
    "\n",
    "hypertree = {\"tree__criterion\":(\"gini\", \"entropy\"), \"tree__splitter\": [\"best\",\"random\"]}\n",
    "gridtree = GridSearchCV(tree,hypertree,cv=3)\n",
    "\n",
    "gridtree.fit(x_train,y_train)"
   ]
  },
  {
   "cell_type": "code",
   "execution_count": 79,
   "id": "practical-harris",
   "metadata": {},
   "outputs": [
    {
     "data": {
      "text/plain": [
       "{'tree__criterion': 'entropy', 'tree__splitter': 'best'}"
      ]
     },
     "execution_count": 79,
     "metadata": {},
     "output_type": "execute_result"
    }
   ],
   "source": [
    "gridtree.best_params_ "
   ]
  },
  {
   "cell_type": "code",
   "execution_count": 80,
   "id": "atomic-figure",
   "metadata": {},
   "outputs": [
    {
     "name": "stdout",
     "output_type": "stream",
     "text": [
      "Decision Tree Score : 0.8487394957983193\n"
     ]
    }
   ],
   "source": [
    "print('Decision Tree Score :',gridtree.best_estimator_.score(x_test,y_test))"
   ]
  },
  {
   "cell_type": "markdown",
   "id": "coated-spiritual",
   "metadata": {},
   "source": [
    " * <h4>confusion matrix, precision, recall ,F1 score.</h4>"
   ]
  },
  {
   "cell_type": "code",
   "execution_count": 81,
   "id": "related-conflict",
   "metadata": {},
   "outputs": [],
   "source": [
    "result = gridtree.best_estimator_.predict(x_test)"
   ]
  },
  {
   "cell_type": "code",
   "execution_count": 534,
   "id": "sorted-episode",
   "metadata": {},
   "outputs": [
    {
     "data": {
      "text/plain": [
       "<sklearn.metrics._plot.confusion_matrix.ConfusionMatrixDisplay at 0x7f259eefddc0>"
      ]
     },
     "execution_count": 534,
     "metadata": {},
     "output_type": "execute_result"
    },
    {
     "data": {
      "image/png": "[encoded data removed]",
      "text/plain": [
       "<Figure size 432x288 with 2 Axes>"
      ]
     },
     "metadata": {
      "needs_background": "light"
     },
     "output_type": "display_data"
    }
   ],
   "source": [
    "confusion_m = confusion_matrix(result, y_test)\n",
    "ConfusionMatrixDisplay(confusion_m).plot()"
   ]
  },
  {
   "cell_type": "code",
   "execution_count": 82,
   "id": "nervous-liabilities",
   "metadata": {},
   "outputs": [
    {
     "name": "stdout",
     "output_type": "stream",
     "text": [
      "Decision Tree Precision score: 0.8304804804804804\n"
     ]
    }
   ],
   "source": [
    "print('Decision Tree Precision score:',precision_score(result,y_test,average='macro'))"
   ]
  },
  {
   "cell_type": "markdown",
   "id": "durable-ghost",
   "metadata": {},
   "source": [
    "parmi le total de positives, c'est le pourcentage de positives prédits"
   ]
  },
  {
   "cell_type": "code",
   "execution_count": 83,
   "id": "african-slave",
   "metadata": {},
   "outputs": [
    {
     "name": "stdout",
     "output_type": "stream",
     "text": [
      "Decision Tree Recall score: 0.8441213258286429\n"
     ]
    }
   ],
   "source": [
    "print('Decision Tree Recall score:',recall_score(result,y_test,average='macro'))"
   ]
  },
  {
   "cell_type": "code",
   "execution_count": 84,
   "id": "bright-bread",
   "metadata": {},
   "outputs": [
    {
     "name": "stdout",
     "output_type": "stream",
     "text": [
      "Decision Tree F1 score: 0.8361383108935129\n"
     ]
    }
   ],
   "source": [
    "print('Decision Tree F1 score:',f1_score(result,y_test,average='macro'))"
   ]
  },
  {
   "cell_type": "markdown",
   "id": "right-knife",
   "metadata": {},
   "source": [
    "<h3>Decision Tree classifier..</h3> "
   ]
  },
  {
   "cell_type": "code",
   "execution_count": 86,
   "id": "dressed-dominican",
   "metadata": {},
   "outputs": [],
   "source": [
    "from sklearn.tree import DecisionTreeClassifier\n",
    "from sklearn.model_selection import GridSearchCV\n",
    "\n",
    "DTC = Pipeline(\n",
    "    steps=[(\"preprocess\",preprocessor),\n",
    "           (\"DTC\",DecisionTreeClassifier(random_state=0))])\n",
    "\n",
    "hyperDTC = {\"DTC__criterion\":(\"gini\", \"entropy\"), \"DTC__splitter\": [\"best\",\"random\"]}\n",
    "gridDTC = GridSearchCV(DTC,hyperDTC,cv=3)\n",
    "\n",
    "tree_model = gridDTC.fit(x_train,y_train)"
   ]
  },
  {
   "cell_type": "code",
   "execution_count": 596,
   "id": "linear-offset",
   "metadata": {},
   "outputs": [
    {
     "data": {
      "text/plain": [
       "{'DTC__criterion': 'gini', 'DTC__splitter': 'best'}"
      ]
     },
     "execution_count": 596,
     "metadata": {},
     "output_type": "execute_result"
    }
   ],
   "source": [
    "gridDTC.best_params_ "
   ]
  },
  {
   "cell_type": "code",
   "execution_count": 597,
   "id": "asian-filter",
   "metadata": {},
   "outputs": [
    {
     "name": "stdout",
     "output_type": "stream",
     "text": [
      "Decision Tree Score : 0.8403361344537815\n"
     ]
    }
   ],
   "source": [
    "print('Decision Tree Score :',gridDTC.best_estimator_.score(x_test,y_test))"
   ]
  },
  {
   "cell_type": "markdown",
   "id": "variable-force",
   "metadata": {},
   "source": [
    " * <h4>confusion matrix, precision, recall ,F1 score.</h4>"
   ]
  },
  {
   "cell_type": "code",
   "execution_count": 119,
   "id": "excess-drinking",
   "metadata": {},
   "outputs": [
    {
     "data": {
      "image/png": "[encoded data removed]",
      "text/plain": [
       "<Figure size 432x288 with 1 Axes>"
      ]
     },
     "metadata": {
      "needs_background": "light"
     },
     "output_type": "display_data"
    }
   ],
   "source": [
    "\n",
    "#pour evaluer les resultats je fais une prediction sur mes donnees de x_test et \n",
    "result = gridDTC.best_estimator_\n",
    "\n",
    "from sklearn import tree\n",
    "tree_result = tree.plot_tree(result['DTC'])\n",
    "# result['DTC']"
   ]
  },
  {
   "cell_type": "code",
   "execution_count": 111,
   "id": "balanced-bible",
   "metadata": {},
   "outputs": [
    {
     "data": {
      "text/plain": [
       "[Text(207.25714285714287, 205.35999999999999, 'X[40] <= 0.528\\nentropy = 0.891\\nsamples = 276\\nvalue = [85, 191]'),\n",
       " Text(111.6, 181.2, 'X[40] <= 0.417\\nentropy = 0.646\\nsamples = 97\\nvalue = [81, 16]'),\n",
       " Text(95.65714285714286, 157.04, 'entropy = 0.0\\nsamples = 40\\nvalue = [40, 0]'),\n",
       " Text(127.54285714285714, 157.04, 'X[26] <= 0.357\\nentropy = 0.856\\nsamples = 57\\nvalue = [41, 16]'),\n",
       " Text(79.71428571428572, 132.88, 'X[30] <= 0.167\\nentropy = 0.977\\nsamples = 34\\nvalue = [20, 14]'),\n",
       " Text(47.82857142857143, 108.72, 'X[36] <= 0.5\\nentropy = 0.764\\nsamples = 9\\nvalue = [2, 7]'),\n",
       " Text(31.885714285714286, 84.56, 'X[34] <= 0.25\\nentropy = 1.0\\nsamples = 4\\nvalue = [2, 2]'),\n",
       " Text(15.942857142857143, 60.400000000000006, 'entropy = 0.0\\nsamples = 2\\nvalue = [0, 2]'),\n",
       " Text(47.82857142857143, 60.400000000000006, 'entropy = 0.0\\nsamples = 2\\nvalue = [2, 0]'),\n",
       " Text(63.77142857142857, 84.56, 'entropy = 0.0\\nsamples = 5\\nvalue = [0, 5]'),\n",
       " Text(111.6, 108.72, 'X[36] <= 0.125\\nentropy = 0.855\\nsamples = 25\\nvalue = [18, 7]'),\n",
       " Text(95.65714285714286, 84.56, 'entropy = 0.0\\nsamples = 9\\nvalue = [9, 0]'),\n",
       " Text(127.54285714285714, 84.56, 'X[10] <= 0.5\\nentropy = 0.989\\nsamples = 16\\nvalue = [9, 7]'),\n",
       " Text(95.65714285714286, 60.400000000000006, 'X[34] <= 0.375\\nentropy = 0.544\\nsamples = 8\\nvalue = [7, 1]'),\n",
       " Text(79.71428571428572, 36.24000000000001, 'X[25] <= 0.5\\nentropy = 1.0\\nsamples = 2\\nvalue = [1, 1]'),\n",
       " Text(63.77142857142857, 12.079999999999984, 'entropy = 0.0\\nsamples = 1\\nvalue = [0, 1]'),\n",
       " Text(95.65714285714286, 12.079999999999984, 'entropy = 0.0\\nsamples = 1\\nvalue = [1, 0]'),\n",
       " Text(111.6, 36.24000000000001, 'entropy = 0.0\\nsamples = 6\\nvalue = [6, 0]'),\n",
       " Text(159.42857142857144, 60.400000000000006, 'X[27] <= 0.875\\nentropy = 0.811\\nsamples = 8\\nvalue = [2, 6]'),\n",
       " Text(143.4857142857143, 36.24000000000001, 'entropy = 0.0\\nsamples = 5\\nvalue = [0, 5]'),\n",
       " Text(175.37142857142857, 36.24000000000001, 'X[33] <= 0.625\\nentropy = 0.918\\nsamples = 3\\nvalue = [2, 1]'),\n",
       " Text(159.42857142857144, 12.079999999999984, 'entropy = 0.0\\nsamples = 1\\nvalue = [0, 1]'),\n",
       " Text(191.31428571428572, 12.079999999999984, 'entropy = 0.0\\nsamples = 2\\nvalue = [2, 0]'),\n",
       " Text(175.37142857142857, 132.88, 'X[32] <= 0.875\\nentropy = 0.426\\nsamples = 23\\nvalue = [21, 2]'),\n",
       " Text(159.42857142857144, 108.72, 'entropy = 0.0\\nsamples = 15\\nvalue = [15, 0]'),\n",
       " Text(191.31428571428572, 108.72, 'X[20] <= 0.5\\nentropy = 0.811\\nsamples = 8\\nvalue = [6, 2]'),\n",
       " Text(175.37142857142857, 84.56, 'entropy = 0.0\\nsamples = 4\\nvalue = [4, 0]'),\n",
       " Text(207.25714285714287, 84.56, 'X[7] <= 0.5\\nentropy = 1.0\\nsamples = 4\\nvalue = [2, 2]'),\n",
       " Text(191.31428571428572, 60.400000000000006, 'entropy = 0.0\\nsamples = 2\\nvalue = [0, 2]'),\n",
       " Text(223.2, 60.400000000000006, 'entropy = 0.0\\nsamples = 2\\nvalue = [2, 0]'),\n",
       " Text(302.9142857142857, 181.2, 'X[40] <= 0.583\\nentropy = 0.154\\nsamples = 179\\nvalue = [4, 175]'),\n",
       " Text(286.9714285714286, 157.04, 'X[34] <= 0.375\\nentropy = 0.544\\nsamples = 32\\nvalue = [4, 28]'),\n",
       " Text(271.0285714285714, 132.88, 'entropy = 0.0\\nsamples = 12\\nvalue = [0, 12]'),\n",
       " Text(302.9142857142857, 132.88, 'X[36] <= 0.375\\nentropy = 0.722\\nsamples = 20\\nvalue = [4, 16]'),\n",
       " Text(286.9714285714286, 108.72, 'X[18] <= 0.5\\nentropy = 0.918\\nsamples = 12\\nvalue = [4, 8]'),\n",
       " Text(271.0285714285714, 84.56, 'X[26] <= 0.357\\nentropy = 0.722\\nsamples = 10\\nvalue = [2, 8]'),\n",
       " Text(255.0857142857143, 60.400000000000006, 'entropy = 0.0\\nsamples = 7\\nvalue = [0, 7]'),\n",
       " Text(286.9714285714286, 60.400000000000006, 'X[28] <= 0.875\\nentropy = 0.918\\nsamples = 3\\nvalue = [2, 1]'),\n",
       " Text(271.0285714285714, 36.24000000000001, 'entropy = 0.0\\nsamples = 2\\nvalue = [2, 0]'),\n",
       " Text(302.9142857142857, 36.24000000000001, 'entropy = 0.0\\nsamples = 1\\nvalue = [0, 1]'),\n",
       " Text(302.9142857142857, 84.56, 'entropy = 0.0\\nsamples = 2\\nvalue = [2, 0]'),\n",
       " Text(318.8571428571429, 108.72, 'entropy = 0.0\\nsamples = 8\\nvalue = [0, 8]'),\n",
       " Text(318.8571428571429, 157.04, 'entropy = 0.0\\nsamples = 147\\nvalue = [0, 147]')]"
      ]
     },
     "metadata": {},
     "output_type": "display_data"
    }
   ],
   "source": [
    "display(tree_result)"
   ]
  },
  {
   "cell_type": "code",
   "execution_count": 113,
   "id": "growing-coast",
   "metadata": {},
   "outputs": [
    {
     "ename": "NameError",
     "evalue": "name 'plt' is not defined",
     "output_type": "error",
     "traceback": [
      "\u001b[0;31m---------------------------------------------------------------------------\u001b[0m",
      "\u001b[0;31mNameError\u001b[0m                                 Traceback (most recent call last)",
      "\u001b[0;32m<ipython-input-113-431d9852598d>\u001b[0m in \u001b[0;36m<module>\u001b[0;34m\u001b[0m\n\u001b[1;32m      1\u001b[0m \u001b[0;32mimport\u001b[0m \u001b[0mmatplotlib\u001b[0m\u001b[0;34m\u001b[0m\u001b[0;34m\u001b[0m\u001b[0m\n\u001b[0;32m----> 2\u001b[0;31m \u001b[0mfig\u001b[0m \u001b[0;34m=\u001b[0m \u001b[0mplt\u001b[0m\u001b[0;34m.\u001b[0m\u001b[0mfigure\u001b[0m\u001b[0;34m(\u001b[0m\u001b[0mfigsize\u001b[0m\u001b[0;34m=\u001b[0m\u001b[0;34m(\u001b[0m\u001b[0;36m25\u001b[0m\u001b[0;34m,\u001b[0m\u001b[0;36m20\u001b[0m\u001b[0;34m)\u001b[0m\u001b[0;34m)\u001b[0m\u001b[0;34m\u001b[0m\u001b[0;34m\u001b[0m\u001b[0m\n\u001b[0m\u001b[1;32m      3\u001b[0m _ = tree.plot_tree(result['DTC'],                    \n\u001b[1;32m      4\u001b[0m                    filled=True)\n",
      "\u001b[0;31mNameError\u001b[0m: name 'plt' is not defined"
     ]
    }
   ],
   "source": [
    "import matplotlib\n",
    "fig = plt.figure(figsize=(25,20))\n",
    "_ = tree.plot_tree(result['DTC'],                    \n",
    "                   filled=True)"
   ]
  },
  {
   "cell_type": "code",
   "execution_count": 118,
   "id": "complete-binary",
   "metadata": {},
   "outputs": [
    {
     "ename": "AttributeError",
     "evalue": "'Series' object has no attribute 'columns'",
     "output_type": "error",
     "traceback": [
      "\u001b[0;31m---------------------------------------------------------------------------\u001b[0m",
      "\u001b[0;31mAttributeError\u001b[0m                            Traceback (most recent call last)",
      "\u001b[0;32m<ipython-input-118-dcb3cd9c2b41>\u001b[0m in \u001b[0;36m<module>\u001b[0;34m\u001b[0m\n\u001b[1;32m      1\u001b[0m dot_data = tree.export_graphviz(result['DTC'], out_file=None, \n\u001b[1;32m      2\u001b[0m                       \u001b[0mfeature_names\u001b[0m\u001b[0;34m=\u001b[0m\u001b[0mx_test\u001b[0m\u001b[0;34m.\u001b[0m\u001b[0mcolumns\u001b[0m\u001b[0;34m,\u001b[0m\u001b[0;34m\u001b[0m\u001b[0;34m\u001b[0m\u001b[0m\n\u001b[0;32m----> 3\u001b[0;31m                       \u001b[0mclass_names\u001b[0m\u001b[0;34m=\u001b[0m\u001b[0my_test\u001b[0m\u001b[0;34m.\u001b[0m\u001b[0mcolumns\u001b[0m\u001b[0;34m,\u001b[0m\u001b[0;34m\u001b[0m\u001b[0;34m\u001b[0m\u001b[0m\n\u001b[0m\u001b[1;32m      4\u001b[0m                       \u001b[0mfilled\u001b[0m\u001b[0;34m=\u001b[0m\u001b[0;32mTrue\u001b[0m\u001b[0;34m,\u001b[0m \u001b[0mrounded\u001b[0m\u001b[0;34m=\u001b[0m\u001b[0;32mTrue\u001b[0m\u001b[0;34m,\u001b[0m\u001b[0;34m\u001b[0m\u001b[0;34m\u001b[0m\u001b[0m\n\u001b[1;32m      5\u001b[0m                      special_characters=True)  \n",
      "\u001b[0;32m~/.local/lib/python3.9/site-packages/pandas/core/generic.py\u001b[0m in \u001b[0;36m__getattr__\u001b[0;34m(self, name)\u001b[0m\n\u001b[1;32m   5460\u001b[0m             \u001b[0;32mif\u001b[0m \u001b[0mself\u001b[0m\u001b[0;34m.\u001b[0m\u001b[0m_info_axis\u001b[0m\u001b[0;34m.\u001b[0m\u001b[0m_can_hold_identifiers_and_holds_name\u001b[0m\u001b[0;34m(\u001b[0m\u001b[0mname\u001b[0m\u001b[0;34m)\u001b[0m\u001b[0;34m:\u001b[0m\u001b[0;34m\u001b[0m\u001b[0;34m\u001b[0m\u001b[0m\n\u001b[1;32m   5461\u001b[0m                 \u001b[0;32mreturn\u001b[0m \u001b[0mself\u001b[0m\u001b[0;34m[\u001b[0m\u001b[0mname\u001b[0m\u001b[0;34m]\u001b[0m\u001b[0;34m\u001b[0m\u001b[0;34m\u001b[0m\u001b[0m\n\u001b[0;32m-> 5462\u001b[0;31m             \u001b[0;32mreturn\u001b[0m \u001b[0mobject\u001b[0m\u001b[0;34m.\u001b[0m\u001b[0m__getattribute__\u001b[0m\u001b[0;34m(\u001b[0m\u001b[0mself\u001b[0m\u001b[0;34m,\u001b[0m \u001b[0mname\u001b[0m\u001b[0;34m)\u001b[0m\u001b[0;34m\u001b[0m\u001b[0;34m\u001b[0m\u001b[0m\n\u001b[0m\u001b[1;32m   5463\u001b[0m \u001b[0;34m\u001b[0m\u001b[0m\n\u001b[1;32m   5464\u001b[0m     \u001b[0;32mdef\u001b[0m \u001b[0m__setattr__\u001b[0m\u001b[0;34m(\u001b[0m\u001b[0mself\u001b[0m\u001b[0;34m,\u001b[0m \u001b[0mname\u001b[0m\u001b[0;34m:\u001b[0m \u001b[0mstr\u001b[0m\u001b[0;34m,\u001b[0m \u001b[0mvalue\u001b[0m\u001b[0;34m)\u001b[0m \u001b[0;34m->\u001b[0m \u001b[0;32mNone\u001b[0m\u001b[0;34m:\u001b[0m\u001b[0;34m\u001b[0m\u001b[0;34m\u001b[0m\u001b[0m\n",
      "\u001b[0;31mAttributeError\u001b[0m: 'Series' object has no attribute 'columns'"
     ]
    }
   ],
   "source": [
    "dot_data = tree.export_graphviz(result['DTC'], out_file=None, \n",
    "                      feature_names=,  \n",
    "                      class_names=,  \n",
    "                      filled=True, rounded=True,  \n",
    "                     special_characters=True)  \n",
    "graph = graphviz.Source(dot_data)  \n",
    "graph "
   ]
  },
  {
   "cell_type": "code",
   "execution_count": 108,
   "id": "compatible-dynamics",
   "metadata": {},
   "outputs": [
    {
     "ename": "ExecutableNotFound",
     "evalue": "failed to execute ['dot', '-Kdot', '-Tsvg'], make sure the Graphviz executables are on your systems' PATH",
     "output_type": "error",
     "traceback": [
      "\u001b[0;31m---------------------------------------------------------------------------\u001b[0m",
      "\u001b[0;31mFileNotFoundError\u001b[0m                         Traceback (most recent call last)",
      "\u001b[0;32m~/.local/lib/python3.9/site-packages/graphviz/backend.py\u001b[0m in \u001b[0;36mrun\u001b[0;34m(cmd, input, capture_output, check, encoding, quiet, **kwargs)\u001b[0m\n\u001b[1;32m    163\u001b[0m     \u001b[0;32mtry\u001b[0m\u001b[0;34m:\u001b[0m\u001b[0;34m\u001b[0m\u001b[0;34m\u001b[0m\u001b[0m\n\u001b[0;32m--> 164\u001b[0;31m         \u001b[0mproc\u001b[0m \u001b[0;34m=\u001b[0m \u001b[0msubprocess\u001b[0m\u001b[0;34m.\u001b[0m\u001b[0mPopen\u001b[0m\u001b[0;34m(\u001b[0m\u001b[0mcmd\u001b[0m\u001b[0;34m,\u001b[0m \u001b[0mstartupinfo\u001b[0m\u001b[0;34m=\u001b[0m\u001b[0mget_startupinfo\u001b[0m\u001b[0;34m(\u001b[0m\u001b[0;34m)\u001b[0m\u001b[0;34m,\u001b[0m \u001b[0;34m**\u001b[0m\u001b[0mkwargs\u001b[0m\u001b[0;34m)\u001b[0m\u001b[0;34m\u001b[0m\u001b[0;34m\u001b[0m\u001b[0m\n\u001b[0m\u001b[1;32m    165\u001b[0m     \u001b[0;32mexcept\u001b[0m \u001b[0mOSError\u001b[0m \u001b[0;32mas\u001b[0m \u001b[0me\u001b[0m\u001b[0;34m:\u001b[0m\u001b[0;34m\u001b[0m\u001b[0;34m\u001b[0m\u001b[0m\n",
      "\u001b[0;32m/usr/lib/python3.9/subprocess.py\u001b[0m in \u001b[0;36m__init__\u001b[0;34m(self, args, bufsize, executable, stdin, stdout, stderr, preexec_fn, close_fds, shell, cwd, env, universal_newlines, startupinfo, creationflags, restore_signals, start_new_session, pass_fds, user, group, extra_groups, encoding, errors, text, umask)\u001b[0m\n\u001b[1;32m    946\u001b[0m \u001b[0;34m\u001b[0m\u001b[0m\n\u001b[0;32m--> 947\u001b[0;31m             self._execute_child(args, executable, preexec_fn, close_fds,\n\u001b[0m\u001b[1;32m    948\u001b[0m                                 \u001b[0mpass_fds\u001b[0m\u001b[0;34m,\u001b[0m \u001b[0mcwd\u001b[0m\u001b[0;34m,\u001b[0m \u001b[0menv\u001b[0m\u001b[0;34m,\u001b[0m\u001b[0;34m\u001b[0m\u001b[0;34m\u001b[0m\u001b[0m\n",
      "\u001b[0;32m/usr/lib/python3.9/subprocess.py\u001b[0m in \u001b[0;36m_execute_child\u001b[0;34m(self, args, executable, preexec_fn, close_fds, pass_fds, cwd, env, startupinfo, creationflags, shell, p2cread, p2cwrite, c2pread, c2pwrite, errread, errwrite, restore_signals, gid, gids, uid, umask, start_new_session)\u001b[0m\n\u001b[1;32m   1818\u001b[0m                         \u001b[0merr_msg\u001b[0m \u001b[0;34m=\u001b[0m \u001b[0mos\u001b[0m\u001b[0;34m.\u001b[0m\u001b[0mstrerror\u001b[0m\u001b[0;34m(\u001b[0m\u001b[0merrno_num\u001b[0m\u001b[0;34m)\u001b[0m\u001b[0;34m\u001b[0m\u001b[0;34m\u001b[0m\u001b[0m\n\u001b[0;32m-> 1819\u001b[0;31m                     \u001b[0;32mraise\u001b[0m \u001b[0mchild_exception_type\u001b[0m\u001b[0;34m(\u001b[0m\u001b[0merrno_num\u001b[0m\u001b[0;34m,\u001b[0m \u001b[0merr_msg\u001b[0m\u001b[0;34m,\u001b[0m \u001b[0merr_filename\u001b[0m\u001b[0;34m)\u001b[0m\u001b[0;34m\u001b[0m\u001b[0;34m\u001b[0m\u001b[0m\n\u001b[0m\u001b[1;32m   1820\u001b[0m                 \u001b[0;32mraise\u001b[0m \u001b[0mchild_exception_type\u001b[0m\u001b[0;34m(\u001b[0m\u001b[0merr_msg\u001b[0m\u001b[0;34m)\u001b[0m\u001b[0;34m\u001b[0m\u001b[0;34m\u001b[0m\u001b[0m\n",
      "\u001b[0;31mFileNotFoundError\u001b[0m: [Errno 2] No such file or directory: 'dot'",
      "\nDuring handling of the above exception, another exception occurred:\n",
      "\u001b[0;31mExecutableNotFound\u001b[0m                        Traceback (most recent call last)",
      "\u001b[0;32m~/.local/lib/python3.9/site-packages/IPython/core/formatters.py\u001b[0m in \u001b[0;36m__call__\u001b[0;34m(self, obj)\u001b[0m\n\u001b[1;32m    343\u001b[0m             \u001b[0mmethod\u001b[0m \u001b[0;34m=\u001b[0m \u001b[0mget_real_method\u001b[0m\u001b[0;34m(\u001b[0m\u001b[0mobj\u001b[0m\u001b[0;34m,\u001b[0m \u001b[0mself\u001b[0m\u001b[0;34m.\u001b[0m\u001b[0mprint_method\u001b[0m\u001b[0;34m)\u001b[0m\u001b[0;34m\u001b[0m\u001b[0;34m\u001b[0m\u001b[0m\n\u001b[1;32m    344\u001b[0m             \u001b[0;32mif\u001b[0m \u001b[0mmethod\u001b[0m \u001b[0;32mis\u001b[0m \u001b[0;32mnot\u001b[0m \u001b[0;32mNone\u001b[0m\u001b[0;34m:\u001b[0m\u001b[0;34m\u001b[0m\u001b[0;34m\u001b[0m\u001b[0m\n\u001b[0;32m--> 345\u001b[0;31m                 \u001b[0;32mreturn\u001b[0m \u001b[0mmethod\u001b[0m\u001b[0;34m(\u001b[0m\u001b[0;34m)\u001b[0m\u001b[0;34m\u001b[0m\u001b[0;34m\u001b[0m\u001b[0m\n\u001b[0m\u001b[1;32m    346\u001b[0m             \u001b[0;32mreturn\u001b[0m \u001b[0;32mNone\u001b[0m\u001b[0;34m\u001b[0m\u001b[0;34m\u001b[0m\u001b[0m\n\u001b[1;32m    347\u001b[0m         \u001b[0;32melse\u001b[0m\u001b[0;34m:\u001b[0m\u001b[0;34m\u001b[0m\u001b[0;34m\u001b[0m\u001b[0m\n",
      "\u001b[0;32m~/.local/lib/python3.9/site-packages/graphviz/files.py\u001b[0m in \u001b[0;36m_repr_svg_\u001b[0;34m(self)\u001b[0m\n\u001b[1;32m    142\u001b[0m \u001b[0;34m\u001b[0m\u001b[0m\n\u001b[1;32m    143\u001b[0m     \u001b[0;32mdef\u001b[0m \u001b[0m_repr_svg_\u001b[0m\u001b[0;34m(\u001b[0m\u001b[0mself\u001b[0m\u001b[0;34m)\u001b[0m\u001b[0;34m:\u001b[0m\u001b[0;34m\u001b[0m\u001b[0;34m\u001b[0m\u001b[0m\n\u001b[0;32m--> 144\u001b[0;31m         \u001b[0;32mreturn\u001b[0m \u001b[0mself\u001b[0m\u001b[0;34m.\u001b[0m\u001b[0mpipe\u001b[0m\u001b[0;34m(\u001b[0m\u001b[0mformat\u001b[0m\u001b[0;34m=\u001b[0m\u001b[0;34m'svg'\u001b[0m\u001b[0;34m)\u001b[0m\u001b[0;34m.\u001b[0m\u001b[0mdecode\u001b[0m\u001b[0;34m(\u001b[0m\u001b[0mself\u001b[0m\u001b[0;34m.\u001b[0m\u001b[0m_encoding\u001b[0m\u001b[0;34m)\u001b[0m\u001b[0;34m\u001b[0m\u001b[0;34m\u001b[0m\u001b[0m\n\u001b[0m\u001b[1;32m    145\u001b[0m \u001b[0;34m\u001b[0m\u001b[0m\n\u001b[1;32m    146\u001b[0m     \u001b[0;32mdef\u001b[0m \u001b[0mpipe\u001b[0m\u001b[0;34m(\u001b[0m\u001b[0mself\u001b[0m\u001b[0;34m,\u001b[0m \u001b[0mformat\u001b[0m\u001b[0;34m=\u001b[0m\u001b[0;32mNone\u001b[0m\u001b[0;34m,\u001b[0m \u001b[0mrenderer\u001b[0m\u001b[0;34m=\u001b[0m\u001b[0;32mNone\u001b[0m\u001b[0;34m,\u001b[0m \u001b[0mformatter\u001b[0m\u001b[0;34m=\u001b[0m\u001b[0;32mNone\u001b[0m\u001b[0;34m,\u001b[0m \u001b[0mquiet\u001b[0m\u001b[0;34m=\u001b[0m\u001b[0;32mFalse\u001b[0m\u001b[0;34m)\u001b[0m\u001b[0;34m:\u001b[0m\u001b[0;34m\u001b[0m\u001b[0;34m\u001b[0m\u001b[0m\n",
      "\u001b[0;32m~/.local/lib/python3.9/site-packages/graphviz/files.py\u001b[0m in \u001b[0;36mpipe\u001b[0;34m(self, format, renderer, formatter, quiet)\u001b[0m\n\u001b[1;32m    167\u001b[0m         \u001b[0mdata\u001b[0m \u001b[0;34m=\u001b[0m \u001b[0mtext_type\u001b[0m\u001b[0;34m(\u001b[0m\u001b[0mself\u001b[0m\u001b[0;34m.\u001b[0m\u001b[0msource\u001b[0m\u001b[0;34m)\u001b[0m\u001b[0;34m.\u001b[0m\u001b[0mencode\u001b[0m\u001b[0;34m(\u001b[0m\u001b[0mself\u001b[0m\u001b[0;34m.\u001b[0m\u001b[0m_encoding\u001b[0m\u001b[0;34m)\u001b[0m\u001b[0;34m\u001b[0m\u001b[0;34m\u001b[0m\u001b[0m\n\u001b[1;32m    168\u001b[0m \u001b[0;34m\u001b[0m\u001b[0m\n\u001b[0;32m--> 169\u001b[0;31m         out = backend.pipe(self._engine, format, data,\n\u001b[0m\u001b[1;32m    170\u001b[0m                            \u001b[0mrenderer\u001b[0m\u001b[0;34m=\u001b[0m\u001b[0mrenderer\u001b[0m\u001b[0;34m,\u001b[0m \u001b[0mformatter\u001b[0m\u001b[0;34m=\u001b[0m\u001b[0mformatter\u001b[0m\u001b[0;34m,\u001b[0m\u001b[0;34m\u001b[0m\u001b[0;34m\u001b[0m\u001b[0m\n\u001b[1;32m    171\u001b[0m                            quiet=quiet)\n",
      "\u001b[0;32m~/.local/lib/python3.9/site-packages/graphviz/backend.py\u001b[0m in \u001b[0;36mpipe\u001b[0;34m(engine, format, data, renderer, formatter, quiet)\u001b[0m\n\u001b[1;32m    246\u001b[0m     \"\"\"\n\u001b[1;32m    247\u001b[0m     \u001b[0mcmd\u001b[0m\u001b[0;34m,\u001b[0m \u001b[0m_\u001b[0m \u001b[0;34m=\u001b[0m \u001b[0mcommand\u001b[0m\u001b[0;34m(\u001b[0m\u001b[0mengine\u001b[0m\u001b[0;34m,\u001b[0m \u001b[0mformat\u001b[0m\u001b[0;34m,\u001b[0m \u001b[0;32mNone\u001b[0m\u001b[0;34m,\u001b[0m \u001b[0mrenderer\u001b[0m\u001b[0;34m,\u001b[0m \u001b[0mformatter\u001b[0m\u001b[0;34m)\u001b[0m\u001b[0;34m\u001b[0m\u001b[0;34m\u001b[0m\u001b[0m\n\u001b[0;32m--> 248\u001b[0;31m     \u001b[0mout\u001b[0m\u001b[0;34m,\u001b[0m \u001b[0m_\u001b[0m \u001b[0;34m=\u001b[0m \u001b[0mrun\u001b[0m\u001b[0;34m(\u001b[0m\u001b[0mcmd\u001b[0m\u001b[0;34m,\u001b[0m \u001b[0minput\u001b[0m\u001b[0;34m=\u001b[0m\u001b[0mdata\u001b[0m\u001b[0;34m,\u001b[0m \u001b[0mcapture_output\u001b[0m\u001b[0;34m=\u001b[0m\u001b[0;32mTrue\u001b[0m\u001b[0;34m,\u001b[0m \u001b[0mcheck\u001b[0m\u001b[0;34m=\u001b[0m\u001b[0;32mTrue\u001b[0m\u001b[0;34m,\u001b[0m \u001b[0mquiet\u001b[0m\u001b[0;34m=\u001b[0m\u001b[0mquiet\u001b[0m\u001b[0;34m)\u001b[0m\u001b[0;34m\u001b[0m\u001b[0;34m\u001b[0m\u001b[0m\n\u001b[0m\u001b[1;32m    249\u001b[0m     \u001b[0;32mreturn\u001b[0m \u001b[0mout\u001b[0m\u001b[0;34m\u001b[0m\u001b[0;34m\u001b[0m\u001b[0m\n\u001b[1;32m    250\u001b[0m \u001b[0;34m\u001b[0m\u001b[0m\n",
      "\u001b[0;32m~/.local/lib/python3.9/site-packages/graphviz/backend.py\u001b[0m in \u001b[0;36mrun\u001b[0;34m(cmd, input, capture_output, check, encoding, quiet, **kwargs)\u001b[0m\n\u001b[1;32m    165\u001b[0m     \u001b[0;32mexcept\u001b[0m \u001b[0mOSError\u001b[0m \u001b[0;32mas\u001b[0m \u001b[0me\u001b[0m\u001b[0;34m:\u001b[0m\u001b[0;34m\u001b[0m\u001b[0;34m\u001b[0m\u001b[0m\n\u001b[1;32m    166\u001b[0m         \u001b[0;32mif\u001b[0m \u001b[0me\u001b[0m\u001b[0;34m.\u001b[0m\u001b[0merrno\u001b[0m \u001b[0;34m==\u001b[0m \u001b[0merrno\u001b[0m\u001b[0;34m.\u001b[0m\u001b[0mENOENT\u001b[0m\u001b[0;34m:\u001b[0m\u001b[0;34m\u001b[0m\u001b[0;34m\u001b[0m\u001b[0m\n\u001b[0;32m--> 167\u001b[0;31m             \u001b[0;32mraise\u001b[0m \u001b[0mExecutableNotFound\u001b[0m\u001b[0;34m(\u001b[0m\u001b[0mcmd\u001b[0m\u001b[0;34m)\u001b[0m\u001b[0;34m\u001b[0m\u001b[0;34m\u001b[0m\u001b[0m\n\u001b[0m\u001b[1;32m    168\u001b[0m         \u001b[0;32melse\u001b[0m\u001b[0;34m:\u001b[0m\u001b[0;34m\u001b[0m\u001b[0;34m\u001b[0m\u001b[0m\n\u001b[1;32m    169\u001b[0m             \u001b[0;32mraise\u001b[0m\u001b[0;34m\u001b[0m\u001b[0;34m\u001b[0m\u001b[0m\n",
      "\u001b[0;31mExecutableNotFound\u001b[0m: failed to execute ['dot', '-Kdot', '-Tsvg'], make sure the Graphviz executables are on your systems' PATH"
     ]
    },
    {
     "data": {
      "text/plain": [
       "<graphviz.files.Source at 0x7f8835691460>"
      ]
     },
     "execution_count": 108,
     "metadata": {},
     "output_type": "execute_result"
    }
   ],
   "source": [
    "import graphviz \n",
    "from sklearn import tree\n",
    "dot_data = tree.export_graphviz(result['DTC'], out_file=None,filled=True, rounded=True,special_characters=True) \n",
    "graph = graphviz.Source(dot_data)\n",
    "graph\n"
   ]
  },
  {
   "cell_type": "code",
   "execution_count": 575,
   "id": "streaming-initial",
   "metadata": {},
   "outputs": [
    {
     "data": {
      "text/plain": [
       "<sklearn.metrics._plot.confusion_matrix.ConfusionMatrixDisplay at 0x7f259e07df70>"
      ]
     },
     "execution_count": 575,
     "metadata": {},
     "output_type": "execute_result"
    },
    {
     "data": {
      "image/png": "[encoded data removed]",
      "text/plain": [
       "<Figure size 432x288 with 2 Axes>"
      ]
     },
     "metadata": {
      "needs_background": "light"
     },
     "output_type": "display_data"
    }
   ],
   "source": [
    "confusion_m = confusion_matrix(result, y_test)\n",
    "ConfusionMatrixDisplay(confusion_m).plot()"
   ]
  },
  {
   "attachments": {
    "7a4e7467-2bac-4be5-99cf-d17a03be6863.png": {
     "image/png": "[encoded data removed]"
    }
   },
   "cell_type": "markdown",
   "id": "permanent-mandate",
   "metadata": {},
   "source": [
    "![image.png](attachment:7a4e7467-2bac-4be5-99cf-d17a03be6863.png)\n",
    "parmi les positifs prédits, pourcentage de vrais positifs"
   ]
  },
  {
   "cell_type": "code",
   "execution_count": 576,
   "id": "funky-washington",
   "metadata": {},
   "outputs": [
    {
     "name": "stdout",
     "output_type": "stream",
     "text": [
      "Decision Tree Precision score: [0.76470588 0.87058824]\n"
     ]
    }
   ],
   "source": [
    "print('Decision Tree Precision score:',precision_score(result,y_test,average=None))"
   ]
  },
  {
   "attachments": {
    "946ec16a-0125-423d-887b-6d362d0479f4.png": {
     "image/png": "[encoded data removed]"
    }
   },
   "cell_type": "markdown",
   "id": "weighted-draft",
   "metadata": {},
   "source": [
    "![image.png](attachment:946ec16a-0125-423d-887b-6d362d0479f4.png)"
   ]
  },
  {
   "cell_type": "markdown",
   "id": "affecting-immune",
   "metadata": {},
   "source": [
    "parmi le total de positives, c'est le pourcentage de positives prédits"
   ]
  },
  {
   "cell_type": "code",
   "execution_count": 577,
   "id": "resident-quilt",
   "metadata": {},
   "outputs": [
    {
     "name": "stdout",
     "output_type": "stream",
     "text": [
      "Decision Tree Recall score: [0.7027027  0.90243902]\n"
     ]
    }
   ],
   "source": [
    "print('Decision Tree Recall score:',recall_score(result,y_test,average=None))"
   ]
  },
  {
   "attachments": {
    "26bc0ea3-0ed9-4772-b92f-abde2cc46017.png": {
     "image/png": "[encoded data removed]"
    }
   },
   "cell_type": "markdown",
   "id": "acceptable-pottery",
   "metadata": {},
   "source": [
    "![image.png](attachment:26bc0ea3-0ed9-4772-b92f-abde2cc46017.png)\n",
    "f1 score represente la moyenne harmonique du recall et de la precision"
   ]
  },
  {
   "cell_type": "code",
   "execution_count": 578,
   "id": "ongoing-round",
   "metadata": {},
   "outputs": [
    {
     "name": "stdout",
     "output_type": "stream",
     "text": [
      "Decision Tree F1 score: [0.73239437 0.88622754]\n"
     ]
    }
   ],
   "source": [
    "print('Decision Tree F1 score:',f1_score(result,y_test,average=None))"
   ]
  },
  {
   "cell_type": "code",
   "execution_count": 608,
   "id": "acute-wallet",
   "metadata": {},
   "outputs": [],
   "source": [
    "from sklearn import tree\n",
    "# asd = gridtree.fit(x_train,y_train)\n",
    "# tree.plot_tree(DTC.fit(x_train,y_train)) \n",
    "# DTC = Pipeline(\n",
    "#     steps=[(\"preprocess\",preprocessor),\n",
    "#            (\"DTC\",DecisionTreeClassifier(random_state=0))])\n",
    "\n",
    "# hyperDTC = {\"DTC__criterion\":(\"gini\", \"entropy\"), \"DTC__splitter\": [\"best\",\"random\"]}\n",
    "# gridDTC = GridSearchCV(DTC,hyperDTC,cv=3)\n",
    "\n",
    "tree_model = DecisionTreeClassifier(random_state=0,criterion=\"gini\", splitter= \"best\")"
   ]
  },
  {
   "cell_type": "code",
   "execution_count": 612,
   "id": "corporate-table",
   "metadata": {},
   "outputs": [
    {
     "data": {
      "text/plain": [
       "array([[0.        , 1.        , 1.        , ..., 0.07142857, 0.4375    ,\n",
       "        0.52631579],\n",
       "       [0.        , 0.        , 1.        , ..., 0.        , 0.3125    ,\n",
       "        0.57894737],\n",
       "       [0.        , 0.        , 1.        , ..., 0.        , 0.5       ,\n",
       "        0.57894737],\n",
       "       ...,\n",
       "       [0.        , 1.        , 1.        , ..., 0.19642857, 0.5625    ,\n",
       "        0.57894737],\n",
       "       [0.        , 0.        , 1.        , ..., 0.25      , 0.75      ,\n",
       "        0.68421053],\n",
       "       [0.        , 0.        , 1.        , ..., 0.        , 0.25      ,\n",
       "        0.        ]])"
      ]
     },
     "execution_count": 612,
     "metadata": {},
     "output_type": "execute_result"
    }
   ],
   "source": [
    "# tree_model.fit(x_train,y_train)\n",
    "x_tmod = x_train\n",
    "y_tmod = y_train\n",
    "preprocessor.fit_transform(x_tmod,y_tmod)"
   ]
  },
  {
   "cell_type": "code",
   "execution_count": 614,
   "id": "british-residence",
   "metadata": {},
   "outputs": [
    {
     "data": {
      "text/html": [
       "<div>\n",
       "<style scoped>\n",
       "    .dataframe tbody tr th:only-of-type {\n",
       "        vertical-align: middle;\n",
       "    }\n",
       "\n",
       "    .dataframe tbody tr th {\n",
       "        vertical-align: top;\n",
       "    }\n",
       "\n",
       "    .dataframe thead th {\n",
       "        text-align: right;\n",
       "    }\n",
       "</style>\n",
       "<table border=\"1\" class=\"dataframe\">\n",
       "  <thead>\n",
       "    <tr style=\"text-align: right;\">\n",
       "      <th></th>\n",
       "      <th>school</th>\n",
       "      <th>sex</th>\n",
       "      <th>age</th>\n",
       "      <th>address</th>\n",
       "      <th>famsize</th>\n",
       "      <th>Pstatus</th>\n",
       "      <th>Medu</th>\n",
       "      <th>Fedu</th>\n",
       "      <th>Mjob</th>\n",
       "      <th>Fjob</th>\n",
       "      <th>...</th>\n",
       "      <th>romantic</th>\n",
       "      <th>famrel</th>\n",
       "      <th>freetime</th>\n",
       "      <th>goout</th>\n",
       "      <th>Dalc</th>\n",
       "      <th>Walc</th>\n",
       "      <th>health</th>\n",
       "      <th>absences</th>\n",
       "      <th>G1</th>\n",
       "      <th>G2</th>\n",
       "    </tr>\n",
       "  </thead>\n",
       "  <tbody>\n",
       "    <tr>\n",
       "      <th>166</th>\n",
       "      <td>GP</td>\n",
       "      <td>M</td>\n",
       "      <td>16</td>\n",
       "      <td>U</td>\n",
       "      <td>GT3</td>\n",
       "      <td>T</td>\n",
       "      <td>2</td>\n",
       "      <td>2</td>\n",
       "      <td>other</td>\n",
       "      <td>other</td>\n",
       "      <td>...</td>\n",
       "      <td>no</td>\n",
       "      <td>4</td>\n",
       "      <td>3</td>\n",
       "      <td>5</td>\n",
       "      <td>2</td>\n",
       "      <td>4</td>\n",
       "      <td>4</td>\n",
       "      <td>4</td>\n",
       "      <td>10</td>\n",
       "      <td>10</td>\n",
       "    </tr>\n",
       "    <tr>\n",
       "      <th>145</th>\n",
       "      <td>GP</td>\n",
       "      <td>F</td>\n",
       "      <td>15</td>\n",
       "      <td>U</td>\n",
       "      <td>GT3</td>\n",
       "      <td>T</td>\n",
       "      <td>1</td>\n",
       "      <td>1</td>\n",
       "      <td>other</td>\n",
       "      <td>services</td>\n",
       "      <td>...</td>\n",
       "      <td>no</td>\n",
       "      <td>4</td>\n",
       "      <td>4</td>\n",
       "      <td>2</td>\n",
       "      <td>1</td>\n",
       "      <td>2</td>\n",
       "      <td>5</td>\n",
       "      <td>0</td>\n",
       "      <td>8</td>\n",
       "      <td>11</td>\n",
       "    </tr>\n",
       "    <tr>\n",
       "      <th>154</th>\n",
       "      <td>GP</td>\n",
       "      <td>F</td>\n",
       "      <td>17</td>\n",
       "      <td>U</td>\n",
       "      <td>GT3</td>\n",
       "      <td>T</td>\n",
       "      <td>4</td>\n",
       "      <td>4</td>\n",
       "      <td>other</td>\n",
       "      <td>teacher</td>\n",
       "      <td>...</td>\n",
       "      <td>yes</td>\n",
       "      <td>4</td>\n",
       "      <td>2</td>\n",
       "      <td>1</td>\n",
       "      <td>1</td>\n",
       "      <td>1</td>\n",
       "      <td>4</td>\n",
       "      <td>0</td>\n",
       "      <td>11</td>\n",
       "      <td>11</td>\n",
       "    </tr>\n",
       "    <tr>\n",
       "      <th>298</th>\n",
       "      <td>GP</td>\n",
       "      <td>F</td>\n",
       "      <td>18</td>\n",
       "      <td>U</td>\n",
       "      <td>GT3</td>\n",
       "      <td>T</td>\n",
       "      <td>4</td>\n",
       "      <td>3</td>\n",
       "      <td>other</td>\n",
       "      <td>other</td>\n",
       "      <td>...</td>\n",
       "      <td>no</td>\n",
       "      <td>4</td>\n",
       "      <td>3</td>\n",
       "      <td>3</td>\n",
       "      <td>1</td>\n",
       "      <td>1</td>\n",
       "      <td>3</td>\n",
       "      <td>0</td>\n",
       "      <td>14</td>\n",
       "      <td>13</td>\n",
       "    </tr>\n",
       "    <tr>\n",
       "      <th>98</th>\n",
       "      <td>GP</td>\n",
       "      <td>F</td>\n",
       "      <td>16</td>\n",
       "      <td>U</td>\n",
       "      <td>GT3</td>\n",
       "      <td>T</td>\n",
       "      <td>4</td>\n",
       "      <td>4</td>\n",
       "      <td>other</td>\n",
       "      <td>other</td>\n",
       "      <td>...</td>\n",
       "      <td>no</td>\n",
       "      <td>5</td>\n",
       "      <td>3</td>\n",
       "      <td>4</td>\n",
       "      <td>1</td>\n",
       "      <td>2</td>\n",
       "      <td>1</td>\n",
       "      <td>6</td>\n",
       "      <td>11</td>\n",
       "      <td>14</td>\n",
       "    </tr>\n",
       "    <tr>\n",
       "      <th>...</th>\n",
       "      <td>...</td>\n",
       "      <td>...</td>\n",
       "      <td>...</td>\n",
       "      <td>...</td>\n",
       "      <td>...</td>\n",
       "      <td>...</td>\n",
       "      <td>...</td>\n",
       "      <td>...</td>\n",
       "      <td>...</td>\n",
       "      <td>...</td>\n",
       "      <td>...</td>\n",
       "      <td>...</td>\n",
       "      <td>...</td>\n",
       "      <td>...</td>\n",
       "      <td>...</td>\n",
       "      <td>...</td>\n",
       "      <td>...</td>\n",
       "      <td>...</td>\n",
       "      <td>...</td>\n",
       "      <td>...</td>\n",
       "      <td>...</td>\n",
       "    </tr>\n",
       "    <tr>\n",
       "      <th>343</th>\n",
       "      <td>GP</td>\n",
       "      <td>F</td>\n",
       "      <td>17</td>\n",
       "      <td>U</td>\n",
       "      <td>GT3</td>\n",
       "      <td>A</td>\n",
       "      <td>2</td>\n",
       "      <td>2</td>\n",
       "      <td>at_home</td>\n",
       "      <td>at_home</td>\n",
       "      <td>...</td>\n",
       "      <td>yes</td>\n",
       "      <td>3</td>\n",
       "      <td>3</td>\n",
       "      <td>1</td>\n",
       "      <td>1</td>\n",
       "      <td>2</td>\n",
       "      <td>4</td>\n",
       "      <td>0</td>\n",
       "      <td>9</td>\n",
       "      <td>8</td>\n",
       "    </tr>\n",
       "    <tr>\n",
       "      <th>175</th>\n",
       "      <td>GP</td>\n",
       "      <td>M</td>\n",
       "      <td>17</td>\n",
       "      <td>U</td>\n",
       "      <td>LE3</td>\n",
       "      <td>T</td>\n",
       "      <td>4</td>\n",
       "      <td>3</td>\n",
       "      <td>teacher</td>\n",
       "      <td>other</td>\n",
       "      <td>...</td>\n",
       "      <td>no</td>\n",
       "      <td>4</td>\n",
       "      <td>4</td>\n",
       "      <td>4</td>\n",
       "      <td>4</td>\n",
       "      <td>4</td>\n",
       "      <td>4</td>\n",
       "      <td>4</td>\n",
       "      <td>10</td>\n",
       "      <td>9</td>\n",
       "    </tr>\n",
       "    <tr>\n",
       "      <th>290</th>\n",
       "      <td>GP</td>\n",
       "      <td>M</td>\n",
       "      <td>18</td>\n",
       "      <td>U</td>\n",
       "      <td>GT3</td>\n",
       "      <td>T</td>\n",
       "      <td>4</td>\n",
       "      <td>2</td>\n",
       "      <td>teacher</td>\n",
       "      <td>other</td>\n",
       "      <td>...</td>\n",
       "      <td>yes</td>\n",
       "      <td>4</td>\n",
       "      <td>3</td>\n",
       "      <td>2</td>\n",
       "      <td>1</td>\n",
       "      <td>4</td>\n",
       "      <td>5</td>\n",
       "      <td>11</td>\n",
       "      <td>12</td>\n",
       "      <td>11</td>\n",
       "    </tr>\n",
       "    <tr>\n",
       "      <th>314</th>\n",
       "      <td>GP</td>\n",
       "      <td>F</td>\n",
       "      <td>19</td>\n",
       "      <td>U</td>\n",
       "      <td>GT3</td>\n",
       "      <td>T</td>\n",
       "      <td>1</td>\n",
       "      <td>1</td>\n",
       "      <td>at_home</td>\n",
       "      <td>health</td>\n",
       "      <td>...</td>\n",
       "      <td>yes</td>\n",
       "      <td>4</td>\n",
       "      <td>1</td>\n",
       "      <td>2</td>\n",
       "      <td>1</td>\n",
       "      <td>1</td>\n",
       "      <td>3</td>\n",
       "      <td>14</td>\n",
       "      <td>15</td>\n",
       "      <td>13</td>\n",
       "    </tr>\n",
       "    <tr>\n",
       "      <th>332</th>\n",
       "      <td>GP</td>\n",
       "      <td>F</td>\n",
       "      <td>18</td>\n",
       "      <td>U</td>\n",
       "      <td>GT3</td>\n",
       "      <td>T</td>\n",
       "      <td>3</td>\n",
       "      <td>3</td>\n",
       "      <td>services</td>\n",
       "      <td>services</td>\n",
       "      <td>...</td>\n",
       "      <td>no</td>\n",
       "      <td>5</td>\n",
       "      <td>3</td>\n",
       "      <td>4</td>\n",
       "      <td>1</td>\n",
       "      <td>1</td>\n",
       "      <td>4</td>\n",
       "      <td>0</td>\n",
       "      <td>7</td>\n",
       "      <td>0</td>\n",
       "    </tr>\n",
       "  </tbody>\n",
       "</table>\n",
       "<p>276 rows × 32 columns</p>\n",
       "</div>"
      ],
      "text/plain": [
       "    school sex  age address famsize Pstatus  Medu  Fedu      Mjob      Fjob  \\\n",
       "166     GP   M   16       U     GT3       T     2     2     other     other   \n",
       "145     GP   F   15       U     GT3       T     1     1     other  services   \n",
       "154     GP   F   17       U     GT3       T     4     4     other   teacher   \n",
       "298     GP   F   18       U     GT3       T     4     3     other     other   \n",
       "98      GP   F   16       U     GT3       T     4     4     other     other   \n",
       "..     ...  ..  ...     ...     ...     ...   ...   ...       ...       ...   \n",
       "343     GP   F   17       U     GT3       A     2     2   at_home   at_home   \n",
       "175     GP   M   17       U     LE3       T     4     3   teacher     other   \n",
       "290     GP   M   18       U     GT3       T     4     2   teacher     other   \n",
       "314     GP   F   19       U     GT3       T     1     1   at_home    health   \n",
       "332     GP   F   18       U     GT3       T     3     3  services  services   \n",
       "\n",
       "     ... romantic famrel  freetime  goout  Dalc Walc health absences  G1  G2  \n",
       "166  ...       no      4         3      5     2    4      4        4  10  10  \n",
       "145  ...       no      4         4      2     1    2      5        0   8  11  \n",
       "154  ...      yes      4         2      1     1    1      4        0  11  11  \n",
       "298  ...       no      4         3      3     1    1      3        0  14  13  \n",
       "98   ...       no      5         3      4     1    2      1        6  11  14  \n",
       "..   ...      ...    ...       ...    ...   ...  ...    ...      ...  ..  ..  \n",
       "343  ...      yes      3         3      1     1    2      4        0   9   8  \n",
       "175  ...       no      4         4      4     4    4      4        4  10   9  \n",
       "290  ...      yes      4         3      2     1    4      5       11  12  11  \n",
       "314  ...      yes      4         1      2     1    1      3       14  15  13  \n",
       "332  ...       no      5         3      4     1    1      4        0   7   0  \n",
       "\n",
       "[276 rows x 32 columns]"
      ]
     },
     "execution_count": 614,
     "metadata": {},
     "output_type": "execute_result"
    }
   ],
   "source": [
    "x_tmod"
   ]
  },
  {
   "cell_type": "code",
   "execution_count": null,
   "id": "interpreted-strand",
   "metadata": {},
   "outputs": [],
   "source": []
  }
 ],
 "metadata": {
  "kernelspec": {
   "display_name": "Python 3",
   "language": "python",
   "name": "python3"
  },
  "language_info": {
   "codemirror_mode": {
    "name": "ipython",
    "version": 3
   },
   "file_extension": ".py",
   "mimetype": "text/x-python",
   "name": "python",
   "nbconvert_exporter": "python",
   "pygments_lexer": "ipython3",
   "version": "3.9.1"
  }
 },
 "nbformat": 4,
 "nbformat_minor": 5
}
