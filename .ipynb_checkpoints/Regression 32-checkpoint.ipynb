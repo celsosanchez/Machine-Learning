{
 "cells": [
  {
   "cell_type": "markdown",
   "id": "graduate-montana",
   "metadata": {},
   "source": [
    "<h1>7. Regression</h1>"
   ]
  },
  {
   "cell_type": "code",
   "execution_count": 66,
   "id": "closed-patrol",
   "metadata": {},
   "outputs": [],
   "source": [
    "import pandas as pd\n",
    "import numpy as np\n",
    "\n",
    "df = pd.read_csv('student-mat.csv', sep=';')\n",
    "df['finalResult'] = df[\"G3\"].apply(lambda x: 'pass' if x> 9 else 'fail')\n",
    "df['academicGrade'] = df[\"G3\"].apply(lambda x: 'A' if x>15 and x<21 else 'B' if x>13 and x<16 else 'C' if x>11 and x<14 else 'D' if x>9 and x<12 else 'E' )"
   ]
  },
  {
   "cell_type": "markdown",
   "id": "premium-spelling",
   "metadata": {},
   "source": [
    "<h3>7.1 Preprocess the data. Use the function « ColumnTransformer » to do that. Explain precisely each step, in particular when you drop, impute or transform the variables. Try several approachs.</h3>"
   ]
  },
  {
   "cell_type": "markdown",
   "id": "biblical-throw",
   "metadata": {},
   "source": [
    " *il y a-t-il des valeurs manquants ?*"
   ]
  },
  {
   "cell_type": "code",
   "execution_count": 67,
   "id": "apparent-midnight",
   "metadata": {},
   "outputs": [
    {
     "data": {
      "text/plain": [
       "school           False\n",
       "sex              False\n",
       "age              False\n",
       "address          False\n",
       "famsize          False\n",
       "Pstatus          False\n",
       "Medu             False\n",
       "Fedu             False\n",
       "Mjob             False\n",
       "Fjob             False\n",
       "reason           False\n",
       "guardian         False\n",
       "traveltime       False\n",
       "studytime        False\n",
       "failures         False\n",
       "schoolsup        False\n",
       "famsup           False\n",
       "paid             False\n",
       "activities       False\n",
       "nursery          False\n",
       "higher           False\n",
       "internet         False\n",
       "romantic         False\n",
       "famrel           False\n",
       "freetime         False\n",
       "goout            False\n",
       "Dalc             False\n",
       "Walc             False\n",
       "health           False\n",
       "absences         False\n",
       "G1               False\n",
       "G2               False\n",
       "G3               False\n",
       "finalResult      False\n",
       "academicGrade    False\n",
       "dtype: bool"
      ]
     },
     "execution_count": 67,
     "metadata": {},
     "output_type": "execute_result"
    }
   ],
   "source": [
    "df.isnull().any()"
   ]
  },
  {
   "cell_type": "markdown",
   "id": "aboriginal-stations",
   "metadata": {},
   "source": [
    " *  *identifier les valeur quantitatifs et qualitatifs*"
   ]
  },
  {
   "cell_type": "code",
   "execution_count": 68,
   "id": "labeled-interference",
   "metadata": {},
   "outputs": [
    {
     "name": "stdout",
     "output_type": "stream",
     "text": [
      "<class 'pandas.core.frame.DataFrame'>\n",
      "RangeIndex: 395 entries, 0 to 394\n",
      "Data columns (total 35 columns):\n",
      " #   Column         Non-Null Count  Dtype \n",
      "---  ------         --------------  ----- \n",
      " 0   school         395 non-null    object\n",
      " 1   sex            395 non-null    object\n",
      " 2   age            395 non-null    int64 \n",
      " 3   address        395 non-null    object\n",
      " 4   famsize        395 non-null    object\n",
      " 5   Pstatus        395 non-null    object\n",
      " 6   Medu           395 non-null    int64 \n",
      " 7   Fedu           395 non-null    int64 \n",
      " 8   Mjob           395 non-null    object\n",
      " 9   Fjob           395 non-null    object\n",
      " 10  reason         395 non-null    object\n",
      " 11  guardian       395 non-null    object\n",
      " 12  traveltime     395 non-null    int64 \n",
      " 13  studytime      395 non-null    int64 \n",
      " 14  failures       395 non-null    int64 \n",
      " 15  schoolsup      395 non-null    object\n",
      " 16  famsup         395 non-null    object\n",
      " 17  paid           395 non-null    object\n",
      " 18  activities     395 non-null    object\n",
      " 19  nursery        395 non-null    object\n",
      " 20  higher         395 non-null    object\n",
      " 21  internet       395 non-null    object\n",
      " 22  romantic       395 non-null    object\n",
      " 23  famrel         395 non-null    int64 \n",
      " 24  freetime       395 non-null    int64 \n",
      " 25  goout          395 non-null    int64 \n",
      " 26  Dalc           395 non-null    int64 \n",
      " 27  Walc           395 non-null    int64 \n",
      " 28  health         395 non-null    int64 \n",
      " 29  absences       395 non-null    int64 \n",
      " 30  G1             395 non-null    int64 \n",
      " 31  G2             395 non-null    int64 \n",
      " 32  G3             395 non-null    int64 \n",
      " 33  finalResult    395 non-null    object\n",
      " 34  academicGrade  395 non-null    object\n",
      "dtypes: int64(16), object(19)\n",
      "memory usage: 108.1+ KB\n"
     ]
    }
   ],
   "source": [
    "df.info()"
   ]
  },
  {
   "cell_type": "markdown",
   "id": "applied-lodge",
   "metadata": {},
   "source": [
    "**Using as predictors the first 32 variables.**"
   ]
  },
  {
   "cell_type": "code",
   "execution_count": 69,
   "id": "russian-removal",
   "metadata": {},
   "outputs": [
    {
     "data": {
      "text/html": [
       "<div>\n",
       "<style scoped>\n",
       "    .dataframe tbody tr th:only-of-type {\n",
       "        vertical-align: middle;\n",
       "    }\n",
       "\n",
       "    .dataframe tbody tr th {\n",
       "        vertical-align: top;\n",
       "    }\n",
       "\n",
       "    .dataframe thead th {\n",
       "        text-align: right;\n",
       "    }\n",
       "</style>\n",
       "<table border=\"1\" class=\"dataframe\">\n",
       "  <thead>\n",
       "    <tr style=\"text-align: right;\">\n",
       "      <th></th>\n",
       "      <th>school</th>\n",
       "      <th>sex</th>\n",
       "      <th>age</th>\n",
       "      <th>address</th>\n",
       "      <th>famsize</th>\n",
       "      <th>Pstatus</th>\n",
       "      <th>Medu</th>\n",
       "      <th>Fedu</th>\n",
       "      <th>Mjob</th>\n",
       "      <th>Fjob</th>\n",
       "      <th>...</th>\n",
       "      <th>romantic</th>\n",
       "      <th>famrel</th>\n",
       "      <th>freetime</th>\n",
       "      <th>goout</th>\n",
       "      <th>Dalc</th>\n",
       "      <th>Walc</th>\n",
       "      <th>health</th>\n",
       "      <th>absences</th>\n",
       "      <th>G1</th>\n",
       "      <th>G2</th>\n",
       "    </tr>\n",
       "  </thead>\n",
       "  <tbody>\n",
       "    <tr>\n",
       "      <th>0</th>\n",
       "      <td>GP</td>\n",
       "      <td>F</td>\n",
       "      <td>18</td>\n",
       "      <td>U</td>\n",
       "      <td>GT3</td>\n",
       "      <td>A</td>\n",
       "      <td>4</td>\n",
       "      <td>4</td>\n",
       "      <td>at_home</td>\n",
       "      <td>teacher</td>\n",
       "      <td>...</td>\n",
       "      <td>no</td>\n",
       "      <td>4</td>\n",
       "      <td>3</td>\n",
       "      <td>4</td>\n",
       "      <td>1</td>\n",
       "      <td>1</td>\n",
       "      <td>3</td>\n",
       "      <td>6</td>\n",
       "      <td>5</td>\n",
       "      <td>6</td>\n",
       "    </tr>\n",
       "    <tr>\n",
       "      <th>1</th>\n",
       "      <td>GP</td>\n",
       "      <td>F</td>\n",
       "      <td>17</td>\n",
       "      <td>U</td>\n",
       "      <td>GT3</td>\n",
       "      <td>T</td>\n",
       "      <td>1</td>\n",
       "      <td>1</td>\n",
       "      <td>at_home</td>\n",
       "      <td>other</td>\n",
       "      <td>...</td>\n",
       "      <td>no</td>\n",
       "      <td>5</td>\n",
       "      <td>3</td>\n",
       "      <td>3</td>\n",
       "      <td>1</td>\n",
       "      <td>1</td>\n",
       "      <td>3</td>\n",
       "      <td>4</td>\n",
       "      <td>5</td>\n",
       "      <td>5</td>\n",
       "    </tr>\n",
       "    <tr>\n",
       "      <th>2</th>\n",
       "      <td>GP</td>\n",
       "      <td>F</td>\n",
       "      <td>15</td>\n",
       "      <td>U</td>\n",
       "      <td>LE3</td>\n",
       "      <td>T</td>\n",
       "      <td>1</td>\n",
       "      <td>1</td>\n",
       "      <td>at_home</td>\n",
       "      <td>other</td>\n",
       "      <td>...</td>\n",
       "      <td>no</td>\n",
       "      <td>4</td>\n",
       "      <td>3</td>\n",
       "      <td>2</td>\n",
       "      <td>2</td>\n",
       "      <td>3</td>\n",
       "      <td>3</td>\n",
       "      <td>10</td>\n",
       "      <td>7</td>\n",
       "      <td>8</td>\n",
       "    </tr>\n",
       "    <tr>\n",
       "      <th>3</th>\n",
       "      <td>GP</td>\n",
       "      <td>F</td>\n",
       "      <td>15</td>\n",
       "      <td>U</td>\n",
       "      <td>GT3</td>\n",
       "      <td>T</td>\n",
       "      <td>4</td>\n",
       "      <td>2</td>\n",
       "      <td>health</td>\n",
       "      <td>services</td>\n",
       "      <td>...</td>\n",
       "      <td>yes</td>\n",
       "      <td>3</td>\n",
       "      <td>2</td>\n",
       "      <td>2</td>\n",
       "      <td>1</td>\n",
       "      <td>1</td>\n",
       "      <td>5</td>\n",
       "      <td>2</td>\n",
       "      <td>15</td>\n",
       "      <td>14</td>\n",
       "    </tr>\n",
       "    <tr>\n",
       "      <th>4</th>\n",
       "      <td>GP</td>\n",
       "      <td>F</td>\n",
       "      <td>16</td>\n",
       "      <td>U</td>\n",
       "      <td>GT3</td>\n",
       "      <td>T</td>\n",
       "      <td>3</td>\n",
       "      <td>3</td>\n",
       "      <td>other</td>\n",
       "      <td>other</td>\n",
       "      <td>...</td>\n",
       "      <td>no</td>\n",
       "      <td>4</td>\n",
       "      <td>3</td>\n",
       "      <td>2</td>\n",
       "      <td>1</td>\n",
       "      <td>2</td>\n",
       "      <td>5</td>\n",
       "      <td>4</td>\n",
       "      <td>6</td>\n",
       "      <td>10</td>\n",
       "    </tr>\n",
       "  </tbody>\n",
       "</table>\n",
       "<p>5 rows × 32 columns</p>\n",
       "</div>"
      ],
      "text/plain": [
       "  school sex  age address famsize Pstatus  Medu  Fedu     Mjob      Fjob  ...  \\\n",
       "0     GP   F   18       U     GT3       A     4     4  at_home   teacher  ...   \n",
       "1     GP   F   17       U     GT3       T     1     1  at_home     other  ...   \n",
       "2     GP   F   15       U     LE3       T     1     1  at_home     other  ...   \n",
       "3     GP   F   15       U     GT3       T     4     2   health  services  ...   \n",
       "4     GP   F   16       U     GT3       T     3     3    other     other  ...   \n",
       "\n",
       "  romantic famrel  freetime  goout  Dalc Walc health absences  G1  G2  \n",
       "0       no      4         3      4     1    1      3        6   5   6  \n",
       "1       no      5         3      3     1    1      3        4   5   5  \n",
       "2       no      4         3      2     2    3      3       10   7   8  \n",
       "3      yes      3         2      2     1    1      5        2  15  14  \n",
       "4       no      4         3      2     1    2      5        4   6  10  \n",
       "\n",
       "[5 rows x 32 columns]"
      ]
     },
     "execution_count": 69,
     "metadata": {},
     "output_type": "execute_result"
    }
   ],
   "source": [
    "from sklearn.model_selection import train_test_split\n",
    "\n",
    "data_y = df['G3']\n",
    "data_x = df.drop(['finalResult','G3','academicGrade'], axis = 1)\n",
    "\n",
    "x_train,x_test,y_train,y_test = train_test_split(data_x,data_y,test_size=0.20,random_state=1)\n",
    "\n",
    "data_x.head()"
   ]
  },
  {
   "cell_type": "markdown",
   "id": "extended-inclusion",
   "metadata": {},
   "source": [
    "**Preprocessing**"
   ]
  },
  {
   "cell_type": "code",
   "execution_count": 70,
   "id": "yellow-dependence",
   "metadata": {},
   "outputs": [],
   "source": [
    "from sklearn.compose import ColumnTransformer\n",
    "from sklearn.pipeline import Pipeline\n",
    "from sklearn.impute import SimpleImputer\n",
    "from sklearn.preprocessing import MinMaxScaler\n",
    "from sklearn.preprocessing import OneHotEncoder\n",
    "\n",
    "qualitative_var = [\"school\",\"sex\",\"address\",\"famsize\",\"Pstatus\",\"Mjob\",\"Fjob\",\"reason\",\"guardian\",\"schoolsup\",\"famsup\",\"paid\",\"activities\",\"nursery\",\"higher\",\"internet\",\"romantic\"]\n",
    "quantitative_var = ['age','Medu','Fedu','traveltime','studytime','failures','famrel','freetime','goout','Dalc','Walc','health','absences','G1','G2']\n",
    "\n",
    "#vu que academicGrade et finalResult sont issus de G3, cela n'a pas de sens de les avoir dans le Model\n",
    "\n",
    "qualitative_pipeline = Pipeline([\n",
    "     ('encoder', OneHotEncoder(drop = 'first'))\n",
    "])\n",
    "\n",
    "quantitative_pipeline = Pipeline([\n",
    "     ('min_max_scaler', MinMaxScaler())\n",
    "])\n",
    " \n",
    "preprocessor = ColumnTransformer(remainder='passthrough',\n",
    "                                 transformers=[\n",
    "                                   ('transform_quantitatif',qualitative_pipeline, qualitative_var),\n",
    "                                    ('transform_qualitatif',quantitative_pipeline,quantitative_var),\n",
    "                                 ])"
   ]
  },
  {
   "cell_type": "code",
   "execution_count": 71,
   "id": "settled-victory",
   "metadata": {},
   "outputs": [],
   "source": [
    "from sklearn.metrics import r2_score\n",
    "from sklearn.metrics import mean_squared_error\n",
    "from sklearn.model_selection import GridSearchCV\n",
    " \n",
    "metric_results = {}\n",
    "def metrics( model, name, result_dic ):\n",
    "    \n",
    "    result = model.predict(x_test)\n",
    "    \n",
    "    r2 = r2_score(y_test,result)\n",
    "    mse = mean_squared_error(y_test,result)\n",
    "    \n",
    "     \n",
    "    print(name +' R2 Score :',r2)\n",
    "    result_dic[name +' R2 Score ' ] = r2\n",
    "    \n",
    "    print(name +' Mean Squared Error Score :',mse)\n",
    "    result_dic[name +' Mean Squared Error Score '] = mse\n"
   ]
  },
  {
   "cell_type": "markdown",
   "id": "olympic-gnome",
   "metadata": {},
   "source": [
    "<h3>Linear Regression</h3> "
   ]
  },
  {
   "cell_type": "code",
   "execution_count": 72,
   "id": "exciting-demographic",
   "metadata": {},
   "outputs": [
    {
     "data": {
      "text/plain": [
       "{'LR__fit_intercept': True, 'LR__normalize': True}"
      ]
     },
     "execution_count": 72,
     "metadata": {},
     "output_type": "execute_result"
    }
   ],
   "source": [
    "from sklearn.linear_model import LinearRegression\n",
    "\n",
    "\n",
    "LR = Pipeline(\n",
    "    steps=[(\"preprocess\",preprocessor),\n",
    "           (\"LR\",LinearRegression())])\n",
    "\n",
    "hyperLR = {'LR__fit_intercept':[True,False],'LR__normalize':[True,False]}\n",
    "gridLR = GridSearchCV(LR,hyperLR,cv=5)\n",
    "\n",
    "gridLR.fit(x_train,y_train)\n",
    "\n",
    "modelLR = gridLR.best_estimator_\n",
    "gridLR.best_params_ "
   ]
  },
  {
   "cell_type": "markdown",
   "id": "flying-passport",
   "metadata": {},
   "source": [
    " * <h4>R2 Score, Mean Squared Error.</h4>"
   ]
  },
  {
   "cell_type": "code",
   "execution_count": 73,
   "id": "further-extent",
   "metadata": {},
   "outputs": [
    {
     "name": "stdout",
     "output_type": "stream",
     "text": [
      "Linear Regression R2 Score : 0.7390542401647828\n",
      "Linear Regression Mean Squared Error Score : 3.567610623890361\n"
     ]
    }
   ],
   "source": [
    "metrics(modelLR, 'Linear Regression', metric_results)"
   ]
  },
  {
   "cell_type": "code",
   "execution_count": null,
   "id": "conservative-vietnam",
   "metadata": {},
   "outputs": [],
   "source": []
  },
  {
   "cell_type": "markdown",
   "id": "manual-bloom",
   "metadata": {},
   "source": [
    "<h3>KNeighbor Regressior</h3> "
   ]
  },
  {
   "cell_type": "code",
   "execution_count": 74,
   "id": "sunrise-mortality",
   "metadata": {},
   "outputs": [
    {
     "data": {
      "text/plain": [
       "{'KNR__leaf_size': 30,\n",
       " 'KNR__n_neighbors': 15,\n",
       " 'KNR__p': 1,\n",
       " 'KNR__weights': 'distance'}"
      ]
     },
     "execution_count": 74,
     "metadata": {},
     "output_type": "execute_result"
    }
   ],
   "source": [
    "from sklearn.neighbors import KNeighborsRegressor\n",
    "\n",
    "\n",
    "KNR = Pipeline(\n",
    "    steps=[(\"preprocess\",preprocessor),\n",
    "           (\"KNR\",KNeighborsRegressor())])\n",
    "\n",
    "hyperKNR = {'KNR__n_neighbors':[15,20,25],'KNR__weights':['uniform','distance'],'KNR__leaf_size':[30,40,50],'KNR__p':[1,2]}\n",
    "gridKNR = GridSearchCV(KNR,hyperKNR,cv=5)\n",
    "\n",
    "gridKNR.fit(x_train,y_train)\n",
    "\n",
    "modelKNR = gridKNR.best_estimator_\n",
    "gridKNR.best_params_ "
   ]
  },
  {
   "cell_type": "markdown",
   "id": "enclosed-clarity",
   "metadata": {},
   "source": [
    " * <h4>R2 Score, Mean Squared Error.</h4>"
   ]
  },
  {
   "cell_type": "code",
   "execution_count": 75,
   "id": "opposite-bidder",
   "metadata": {},
   "outputs": [
    {
     "name": "stdout",
     "output_type": "stream",
     "text": [
      "KNeighbors Regressor R2 Score : 0.3461433512810156\n",
      "KNeighbors Regressor Mean Squared Error Score : 8.939428362216965\n"
     ]
    }
   ],
   "source": [
    "metrics(modelKNR, 'KNeighbors Regressor', metric_results)"
   ]
  },
  {
   "cell_type": "code",
   "execution_count": null,
   "id": "lesser-formation",
   "metadata": {},
   "outputs": [],
   "source": []
  },
  {
   "cell_type": "markdown",
   "id": "double-intervention",
   "metadata": {},
   "source": [
    "<h3>Decision Tree Regressor</h3> "
   ]
  },
  {
   "cell_type": "code",
   "execution_count": 76,
   "id": "experimental-loading",
   "metadata": {},
   "outputs": [
    {
     "data": {
      "text/plain": [
       "{'DTR__criterion': 'mse', 'DTR__splitter': 'best'}"
      ]
     },
     "execution_count": 76,
     "metadata": {},
     "output_type": "execute_result"
    }
   ],
   "source": [
    "from sklearn.tree import DecisionTreeRegressor\n",
    "\n",
    "\n",
    "DTR = Pipeline(\n",
    "    steps=[(\"preprocess\",preprocessor),\n",
    "           (\"DTR\",DecisionTreeRegressor())])\n",
    "\n",
    "hyperDTR = {'DTR__criterion':['mse','friedman_mse','mae','poisson'],'DTR__splitter':['best','random']}\n",
    "gridDTR = GridSearchCV(DTR,hyperDTR,cv=5)\n",
    "\n",
    "gridDTR.fit(x_train,y_train)\n",
    "\n",
    "modelDTR = gridDTR.best_estimator_\n",
    "gridDTR.best_params_ "
   ]
  },
  {
   "cell_type": "markdown",
   "id": "round-chicago",
   "metadata": {},
   "source": [
    " * <h4>R2 Score, Mean Squared Error.</h4>"
   ]
  },
  {
   "cell_type": "code",
   "execution_count": 77,
   "id": "comparative-depression",
   "metadata": {},
   "outputs": [
    {
     "name": "stdout",
     "output_type": "stream",
     "text": [
      "Decision Tree Regressor R2 Score : 0.7315003633124723\n",
      "Decision Tree Regressor Mean Squared Error Score : 3.670886075949367\n"
     ]
    }
   ],
   "source": [
    "metrics(modelDTR, 'Decision Tree Regressor', metric_results)"
   ]
  },
  {
   "cell_type": "markdown",
   "id": "parallel-apparel",
   "metadata": {},
   "source": [
    "<h2>Results</h2>"
   ]
  },
  {
   "cell_type": "code",
   "execution_count": 78,
   "id": "palestinian-blowing",
   "metadata": {},
   "outputs": [
    {
     "data": {
      "text/html": [
       "<table border=\"1\" cellpadding=\"3\" cellspacing=\"0\"  style=\"border:black; border-collapse:collapse;\"><tr><td  style=\"background-color:hsla(225, 80%, 94%, 1);border-left: 1px solid;border-right: 1px solid;border-top: 1px solid;border-bottom: 1px solid;width:100px;\"><b>Linear&nbsp;Regression&nbsp;R2&nbsp;Score&nbsp;</b></td><td  style=\"border-left: 1px solid;border-right: 1px solid;border-top: 1px solid;border-bottom: 1px solid;width:100px;\">0.7391</td></tr><tr><td  style=\"background-color:hsla(225, 80%, 94%, 1);border-left: 1px solid;border-right: 1px solid;border-top: 1px solid;border-bottom: 1px solid;width:100px;\"><b>Linear&nbsp;Regression&nbsp;Mean&nbsp;Squared&nbsp;Error&nbsp;Score&nbsp;</b></td><td  style=\"border-left: 1px solid;border-right: 1px solid;border-top: 1px solid;border-bottom: 1px solid;width:100px;\">3.5676</td></tr><tr><td  style=\"background-color:hsla(225, 80%, 94%, 1);border-left: 1px solid;border-right: 1px solid;border-top: 1px solid;border-bottom: 1px solid;width:100px;\"><b>KNeighbors&nbsp;Regressor&nbsp;R2&nbsp;Score&nbsp;</b></td><td  style=\"border-left: 1px solid;border-right: 1px solid;border-top: 1px solid;border-bottom: 1px solid;width:100px;\">0.3461</td></tr><tr><td  style=\"background-color:hsla(225, 80%, 94%, 1);border-left: 1px solid;border-right: 1px solid;border-top: 1px solid;border-bottom: 1px solid;width:100px;\"><b>KNeighbors&nbsp;Regressor&nbsp;Mean&nbsp;Squared&nbsp;Error&nbsp;Score&nbsp;</b></td><td  style=\"border-left: 1px solid;border-right: 1px solid;border-top: 1px solid;border-bottom: 1px solid;width:100px;\">8.9394</td></tr><tr><td  style=\"background-color:hsla(225, 80%, 94%, 1);border-left: 1px solid;border-right: 1px solid;border-top: 1px solid;border-bottom: 1px solid;width:100px;\"><b>Decision&nbsp;Tree&nbsp;Regressor&nbsp;R2&nbsp;Score&nbsp;</b></td><td  style=\"border-left: 1px solid;border-right: 1px solid;border-top: 1px solid;border-bottom: 1px solid;width:100px;\">0.7315</td></tr><tr><td  style=\"background-color:hsla(225, 80%, 94%, 1);border-left: 1px solid;border-right: 1px solid;border-top: 1px solid;border-bottom: 1px solid;width:100px;\"><b>Decision&nbsp;Tree&nbsp;Regressor&nbsp;Mean&nbsp;Squared&nbsp;Error&nbsp;Score&nbsp;</b></td><td  style=\"border-left: 1px solid;border-right: 1px solid;border-top: 1px solid;border-bottom: 1px solid;width:100px;\">3.6709</td></tr></table>"
      ],
      "text/plain": [
       "<ipy_table.ipy_table.IpyTable at 0x7fee43d5e550>"
      ]
     },
     "execution_count": 78,
     "metadata": {},
     "output_type": "execute_result"
    }
   ],
   "source": [
    "from ipy_table import *\n",
    "\n",
    "# dictionary\n",
    "dict = metric_results\n",
    "\n",
    "# lists\n",
    "temp = []\n",
    "dictList = []\n",
    "\n",
    "# convert the dictionary to a list\n",
    "for key, value in dict.items():\n",
    "    temp = [key,value]\n",
    "    dictList.append(temp)\n",
    "\n",
    "# create table with make_table\n",
    "make_table(dictList)\n",
    "\n",
    "# apply some styles to the table after it is created\n",
    "set_column_style(0, width='100', bold=True, color='hsla(225, 80%, 94%, 1)')\n",
    "set_column_style(1, width='100')\n",
    "\n",
    "# render the table\n",
    "render()"
   ]
  }
 ],
 "metadata": {
  "kernelspec": {
   "display_name": "Python 3",
   "language": "python",
   "name": "python3"
  },
  "language_info": {
   "codemirror_mode": {
    "name": "ipython",
    "version": 3
   },
   "file_extension": ".py",
   "mimetype": "text/x-python",
   "name": "python",
   "nbconvert_exporter": "python",
   "pygments_lexer": "ipython3",
   "version": "3.9.1"
  }
 },
 "nbformat": 4,
 "nbformat_minor": 5
}
